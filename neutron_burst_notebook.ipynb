{
 "cells": [
  {
   "cell_type": "markdown",
   "id": "7eb92d1b",
   "metadata": {},
   "source": [
    "# Neutron burst calculation\n",
    "The following is a notebook that can compute the final abundances of a network of species of neutron burst reactions. The mathematics follows the solution to the linar acyclic reaction network worked out in Davila and Meyer 2024.\n",
    "\n",
    "The neutron burst is a type of explosive nucleosynthesis that occurs in the bottom of the helium shell. It is triggered when the shock heats the material increasing the rate of the $^{22}$Ne($\\alpha$,n)$^{25}$Mg reaction and thus causing a sharp, but breif spike in the neutron density. \n",
    "\n",
    "The neutron burst is essentially an acyclic, linear network and thus a graph theory approach can be invoked in which the abundance of species $i$ that flows to species $j$ across some path $P$ is given by:\n",
    "\n",
    "\\begin{gather}\n",
    "G_{ij}^P=\\frac{(\\sigma \\tau)^{N-1}}{(N-1)!}\\sum_{n=0}^\\infty \\bar{h}_n(\\sigma_1,\\sigma_2,...,\\sigma_N)\\frac{(-\\tau)^n}{n!}\n",
    "\\end{gather}\n",
    "\n",
    "Where the $\\bar{h}$ are the complete homogeneous symmetric polynomials. Alternatively, considering $\\bar{h}_n(\\sigma_1, \\sigma_2,...,\\sigma_N) = B_n(x_1,x_2,....x_n)$ and the generating function for the bell polynomials is:\n",
    "\n",
    "\\begin{gather}\n",
    "\\exp\\Big(\\sum_{j=1}^\\infty x_j \\frac{t^j}{j!}\\Big) = \\sum_{n=0}^\\infty B_n(x_1,...,x_n)\\frac{t^n}{n!}\n",
    "\\end{gather}\n",
    "\n",
    "Then: \n",
    "\n",
    "\\begin{gather}\n",
    "G_{ij}^{P}(\\tau) = F^{P} \\frac{(\\sigma \\tau)^{N-1}}{(N-1)!} \\exp\\Big(\\sum_{k=1}^\\infty x_k \\frac{(-\\tau)^k}{k!}\\Big)\n",
    "\\end{gather}\n",
    "\n",
    "These results are exact, but written in terms of an infinite sum. For low $\\tau$, higher order terms in the sum can be ignored due to the factorial in the denominator, but for high $\\tau$ more creative approaches are needed. "
   ]
  },
  {
   "cell_type": "markdown",
   "id": "060e9ae4",
   "metadata": {},
   "source": [
    "## Simple case\n",
    "\n",
    "Here we explore a trivial case, where all cross sections are equivalent to demonstrate how the wnpoly python package works in computing the complete symmetric polynomials as well as the bell polynomials. \n",
    "\n",
    "For the simple case we consider all reaction cross sections to be identical. In this limit the bell polynomial expression for the $G_{ij}s$ is:\n",
    "\n",
    "\\begin{gather}\n",
    "G_{ij}(\\tau) = \\frac{(\\sigma \\tau)^{N-1}}{(N-1)!}\\exp(-\\sigma\\tau)\n",
    "\\end{gather}\n",
    "Where $\\sigma$ is the geometric mean of the cross sections.\n",
    "\n",
    "Let's consider the reaction chain:\n",
    "\\begin{gather}\n",
    "1 + n \\rightarrow 2 + \\gamma\\notag\\\\\n",
    "2 + n \\rightarrow 3 + \\gamma\\notag\\\\\n",
    "3 + n \\rightarrow 4 + \\gamma\\notag\n",
    "\\end{gather}\n",
    "\n",
    "where 1, 2, 3, and 4 are arbitrary species and 'n' represents neutrons. From above, the abundance of the any species $j$ can be written as:\n",
    "\\begin{gather}\n",
    "Y_4(\\tau) = \\sum_{i\\leq 4} G_{i4}(\\tau) Y_i(0) = G_{14}(\\tau) Y_1(0) + G_{24}(\\tau) Y_2(0)+ G_{34}(\\tau)Y_3(0) + G_{44}(\\tau) Y_4(0)\n",
    "\\end{gather}\n",
    "\n",
    "\n",
    "To solve this network exactly we have the coupled differential equations:\n",
    "\\begin{gather}\n",
    "\\frac{dY_1}{d\\tau} = -\\sigma_{n,1} Y_1\\\\\n",
    "\\frac{dY_2}{d\\tau} = \\sigma_{n,1} Y_1 - \\sigma_{n,2}Y_2\\\\\n",
    "\\frac{dY_3}{d\\tau} = \\sigma_{n,2} Y_2 - \\sigma_{n,3}Y_3\\\\\n",
    "\\frac{dY_4}{d\\tau} = \\sigma_{n,3} Y_3 - \\sigma_{n,4}Y_4\n",
    "\\end{gather}\n",
    "where the $\\sigma_n$ are the neutron capture cross sections for each species."
   ]
  },
  {
   "cell_type": "markdown",
   "id": "668db06c",
   "metadata": {},
   "source": [
    "We begin by importing the relavent python libraries:"
   ]
  },
  {
   "cell_type": "code",
   "execution_count": 2,
   "id": "268cc7c8",
   "metadata": {},
   "outputs": [],
   "source": [
    "import sys\n",
    "!{sys.executable} -m pip install --quiet wnpoly\n",
    "from gslconsts.consts import *\n",
    "from scipy.integrate import solve_ivp\n",
    "import numpy as np\n",
    "import math\n",
    "import wnpoly as wp\n",
    "from scipy.stats import gmean\n",
    "import matplotlib.pyplot as plt"
   ]
  },
  {
   "cell_type": "code",
   "execution_count": 3,
   "id": "d43dda67",
   "metadata": {},
   "outputs": [],
   "source": [
    "k = GSL_CONST_CGS_BOLTZMANN\n",
    "N_A = GSL_CONST_NUM_AVOGADRO\n",
    "m_n = GSL_CONST_CGS_MASS_NEUTRON"
   ]
  },
  {
   "cell_type": "markdown",
   "id": "df24df85",
   "metadata": {},
   "source": [
    "Next, we define two functions. The function Y will be used to solve the system of differential equations exactly, and the G is used to compute the relative contributions between species. Both of these equations are general and do not depend on the reaction rates being the same for all reactions and thus will be used throughout the notebook. "
   ]
  },
  {
   "cell_type": "code",
   "execution_count": 4,
   "id": "fe63cb6a",
   "metadata": {},
   "outputs": [],
   "source": [
    "def Y(t, y, sigs):\n",
    "    N = len(y)\n",
    "    result = np.zeros(N)\n",
    "    result[0] = -sigs[0]*y[0]\n",
    "    for i in range(1, N):\n",
    "        result[i] = sigs[i-1]*y[i-1] - sigs[i]*y[i]\n",
    "    return result\n",
    "\n",
    "def g(tau, x, sigma, n):\n",
    "    result = 0 \n",
    "    for i in range(len(x)):\n",
    "        result += x[i] * (-tau)**i / math.factorial(i)\n",
    "    return (sigma*tau)**(n-1) * np.exp(result) / math.factorial(n-1)"
   ]
  },
  {
   "cell_type": "markdown",
   "id": "fffa5f86",
   "metadata": {},
   "source": [
    "Next we define the cross sections to be unity and define the initial abundances of the species. It is important to note that the initial abundance array should be the length of the cross section array, since the last cross section represents the flow out of the last species. We also set the abundance of the first species to one:"
   ]
  },
  {
   "cell_type": "code",
   "execution_count": 5,
   "id": "843045a0",
   "metadata": {},
   "outputs": [],
   "source": [
    "sigs = [2,2,2,2]\n",
    "m = len(sigs)\n",
    "\n",
    "ys = np.zeros(m)\n",
    "ys[0] = 1\n",
    "ys[1] = 1"
   ]
  },
  {
   "cell_type": "markdown",
   "id": "6119eb56",
   "metadata": {},
   "source": [
    "Now with the cross sections defined, we can begin calculating the complete homogeneous symmetric polynomials and the Bell polynomial coefficients using [wnpoly](https://wnpoly.readthedocs.io/en/latest/). We begin by creating an instance of complete homogenous symmetric polynomials and compute them with our cross sections:"
   ]
  },
  {
   "cell_type": "code",
   "execution_count": 6,
   "id": "c8e0349a",
   "metadata": {},
   "outputs": [],
   "source": [
    "s = wp.symm.Complete()\n",
    "bell = wp.bell.Bell()"
   ]
  },
  {
   "cell_type": "markdown",
   "id": "324783ff",
   "metadata": {},
   "source": [
    "Now, since these are equivalent to the bell polynomials the h_norm can be used to compute the inverse of the bell polynomials which are the $x_j$s in our equation:"
   ]
  },
  {
   "cell_type": "markdown",
   "id": "33aef0a1",
   "metadata": {},
   "source": [
    "We see that the only coefficient that is nonzero is the $x_1$ term, which represents the geometric mean of all the cross sections, $\\sigma$. Now we can go about computing the final abundance, $Y_4$, as a function of $\\tau$. We do this both by computing the $G_{ij}$s and the exact solution to compare. "
   ]
  },
  {
   "cell_type": "code",
   "execution_count": 7,
   "id": "c193eedc",
   "metadata": {},
   "outputs": [],
   "source": [
    "tau = np.linspace(0.01, 10, 100)\n",
    "g_array = np.zeros((len(tau), m, m))\n",
    "\n",
    "for t in range(len(tau)):\n",
    "    for i in range(len(ys)):\n",
    "        for j in range(len(ys)):\n",
    "            if j<=i:\n",
    "                sigs_array = sigs[j:i+1]\n",
    "                n = len(sigs_array)\n",
    "                sig = gmean(sigs_array)\n",
    "                h_norm = s.compute_normalized(sigs_array, 6)\n",
    "                x = bell.invert(h_norm)\n",
    "                g_array[t][i,j] = g(tau[t], x, sig, n)"
   ]
  },
  {
   "cell_type": "code",
   "execution_count": 8,
   "id": "babe6f3e",
   "metadata": {},
   "outputs": [],
   "source": [
    "y_final = np.zeros([len(tau), m])\n",
    "for t in range(len(tau)):\n",
    "    y_final[t] = np.dot(g_array[t], ys)"
   ]
  },
  {
   "cell_type": "code",
   "execution_count": 9,
   "id": "7d41f299",
   "metadata": {},
   "outputs": [
    {
     "data": {
      "image/png": "[encoded data removed]",
      "text/plain": [
       "<Figure size 640x480 with 1 Axes>"
      ]
     },
     "metadata": {},
     "output_type": "display_data"
    }
   ],
   "source": [
    "sol = solve_ivp(Y, [0, tau[len(tau)-1]], ys, args=(sigs,), max_step=0.002)\n",
    "#plot results\n",
    "plt.plot(sol.t, sol.y[m-1], ':', label='Exact')\n",
    "plt.plot(tau, y_final[:,3] , label='Bell')\n",
    "plt.legend()\n",
    "plt.xlabel(r'$\\tau$')\n",
    "plt.ylabel('Abundance')\n",
    "plt.show()"
   ]
  },
  {
   "cell_type": "markdown",
   "id": "1ee9002b",
   "metadata": {},
   "source": [
    "## A realistic example: calcium isotopes\n",
    "\n",
    "A possible candidate for exhibiting neutron burst signatures are the calcium isotopes. This section demonstrates how to use [wnnet](https://wnnet.readthedocs.io/en/latest/) to compute the realistic reaction cross sections in a neutron burst environment and apply our acyclic network calculation to delve further into understanding this process."
   ]
  },
  {
   "cell_type": "markdown",
   "id": "dd329a85",
   "metadata": {},
   "source": [
    "We begin by importing the necessary libraries and obtaining the nuclear network xml file:"
   ]
  },
  {
   "cell_type": "code",
   "execution_count": 10,
   "id": "e5ef3091",
   "metadata": {},
   "outputs": [
    {
     "ename": "XMLSyntaxError",
     "evalue": "Memory allocation failed : xmlSAX2Characters, line 1129312, column 19 (<string>, line 1129312)",
     "output_type": "error",
     "traceback": [
      "Traceback \u001b[1;36m(most recent call last)\u001b[0m:\n",
      "\u001b[0m  File \u001b[0;32m~\\AppData\\Local\\Programs\\Python\\Python39\\lib\\site-packages\\IPython\\core\\interactiveshell.py:3526\u001b[0m in \u001b[0;35mrun_code\u001b[0m\n    exec(code_obj, self.user_global_ns, self.user_ns)\u001b[0m\n",
      "\u001b[0m  Cell \u001b[0;32mIn[10], line 10\u001b[0m\n    net = wn.net.Net(io.BytesIO(requests.get('https://osf.io/vqhxr/download').content))\u001b[0m\n",
      "\u001b[0m  File \u001b[0;32m~\\AppData\\Local\\Programs\\Python\\Python39\\lib\\site-packages\\wnnet\\net.py:24\u001b[0m in \u001b[0;35m__init__\u001b[0m\n    wr.Reac.__init__(self, file, reac_xpath=reac_xpath)\u001b[0m\n",
      "\u001b[0m  File \u001b[0;32m~\\AppData\\Local\\Programs\\Python\\Python39\\lib\\site-packages\\wnnet\\reac.py:19\u001b[0m in \u001b[0;35m__init__\u001b[0m\n    self.xml = wx.Xml(file)\u001b[0m\n",
      "\u001b[0m  File \u001b[0;32m~\\AppData\\Local\\Programs\\Python\\Python39\\lib\\site-packages\\wnutils\\xml.py:360\u001b[0m in \u001b[0;35m__init__\u001b[0m\n    self._xml = etree.parse(file, parser)\u001b[0m\n",
      "\u001b[0m  File \u001b[0;32msrc\\lxml\\etree.pyx:3521\u001b[0m in \u001b[0;35mlxml.etree.parse\u001b[0m\n",
      "\u001b[0m  File \u001b[0;32msrc\\lxml\\parser.pxi:1876\u001b[0m in \u001b[0;35mlxml.etree._parseDocument\u001b[0m\n",
      "\u001b[0m  File \u001b[0;32msrc\\lxml\\parser.pxi:1896\u001b[0m in \u001b[0;35mlxml.etree._parseMemoryDocument\u001b[0m\n",
      "\u001b[0m  File \u001b[0;32msrc\\lxml\\parser.pxi:1784\u001b[0m in \u001b[0;35mlxml.etree._parseDoc\u001b[0m\n",
      "\u001b[0m  File \u001b[0;32msrc\\lxml\\parser.pxi:1141\u001b[0m in \u001b[0;35mlxml.etree._BaseParser._parseDoc\u001b[0m\n",
      "\u001b[0m  File \u001b[0;32msrc\\lxml\\parser.pxi:615\u001b[0m in \u001b[0;35mlxml.etree._ParserContext._handleParseResultDoc\u001b[0m\n",
      "\u001b[0m  File \u001b[0;32msrc\\lxml\\parser.pxi:725\u001b[0m in \u001b[0;35mlxml.etree._handleParseResult\u001b[0m\n",
      "\u001b[1;36m  File \u001b[1;32msrc\\lxml\\parser.pxi:654\u001b[1;36m in \u001b[1;35mlxml.etree._raiseParseError\u001b[1;36m\n",
      "\u001b[1;36m  File \u001b[1;32m<string>:1129312\u001b[1;36m\u001b[0m\n\u001b[1;31mXMLSyntaxError\u001b[0m\u001b[1;31m:\u001b[0m Memory allocation failed : xmlSAX2Characters, line 1129312, column 19\n"
     ]
    }
   ],
   "source": [
    "import os, io, requests\n",
    "from lxml import etree \n",
    "\n",
    "!{sys.executable} -m pip install --quiet wnnet\n",
    "!{sys.executable} -m pip install --quiet wnutils\n",
    "import wnnet as wn\n",
    "import wnutils.xml as wx\n",
    "\n",
    "\n",
    "net = wn.net.Net(io.BytesIO(requests.get('https://osf.io/vqhxr/download').content))"
   ]
  },
  {
   "cell_type": "markdown",
   "id": "de069d3f",
   "metadata": {},
   "source": [
    "Next, we define a function to pull the solar isotopic data from a solar data xml file:"
   ]
  },
  {
   "cell_type": "code",
   "execution_count": null,
   "id": "614f4eda",
   "metadata": {},
   "outputs": [],
   "source": [
    "def get_solar_isotopes(solar_xml, isotopes):\n",
    "    solar_data = solar_xml.get_zone_data()\n",
    "    x_solar = solar_data[\"0\"][\"mass fractions\"]\n",
    "\n",
    "    abunds = []\n",
    "    names = []\n",
    "\n",
    "    for isotope in isotopes:\n",
    "        tup = solar_xml.get_z_a_state_from_nuclide_name(isotope)\n",
    "        s_tup = (isotope, tup[0], tup[1])\n",
    "        if s_tup in x_solar:\n",
    "            names.append(isotope)\n",
    "            abunds.append(x_solar[s_tup] / tup[1])\n",
    "        else:\n",
    "            abunds.append(0)\n",
    "            \n",
    "\n",
    "    return names, abunds"
   ]
  },
  {
   "cell_type": "markdown",
   "id": "944b4f18",
   "metadata": {},
   "source": [
    "Next, we define a temperature in $10^9$K to be used to compute the reaction rates. The \"induced_nuc_xpath\" selects a subset of the nuclei in the network. For our purposes in the neutron burst we must include neutrons (i.e. a=1 and z=0), but the additional xpath expression after \"or\" can be modified for any set of isotopes (e.g. z=40 and a-z >= 54 and a-z <= 60 would select zirconium isotopes between $^{94}$Zr and $^{100}$Zr). The \"induced_reac_xpath\" selects a subset of reactions and should not be changed as it selects only (n,$\\gamma$) reactions.  "
   ]
  },
  {
   "cell_type": "code",
   "execution_count": null,
   "id": "1ac7b4b8",
   "metadata": {},
   "outputs": [],
   "source": [
    "t9 = 10\n",
    "\n",
    "induced_nuc_xpath = \"[(a=1 and z=0) or (z = 20 and a - z >= 20 and a - z <= 30)]\"\n",
    "induced_reac_xpath = \"[reactant = 'n' and product = 'gamma']\"\n",
    "reacs = net.compute_rates(t9, nuc_xpath = induced_nuc_xpath, reac_xpath = induced_reac_xpath)\n",
    "rates = []\n",
    "for key, values in list(reacs.items()):\n",
    "    rates.append(values[0])\n",
    "    print('reaction :', key, ';', 'Forward rate :', '{:.2e}'.format(values[0]))"
   ]
  },
  {
   "cell_type": "markdown",
   "id": "b672272d",
   "metadata": {},
   "source": [
    "The reaction dictionary returned by wnnet does not order the reactions by increasing neutron number, so next we create an ordered array of the cross sections along the path in the order of the neutron burst pathway:"
   ]
  },
  {
   "cell_type": "code",
   "execution_count": null,
   "id": "51a41757",
   "metadata": {
    "scrolled": false
   },
   "outputs": [],
   "source": [
    "species = ['ca40','ca41','ca42','ca43','ca44','ca45','ca46','ca47','ca48']\n",
    "ordered_dict = {}\n",
    "\n",
    "for sp in species:\n",
    "    for key, value in net.get_reactions(reac_xpath = induced_reac_xpath).items():\n",
    "        if sp in value.reactants:\n",
    "            ordered_dict[sp] = reacs[key][0]"
   ]
  },
  {
   "cell_type": "markdown",
   "id": "8e021c4d",
   "metadata": {},
   "source": [
    "Now that we have obtained the rates, we can get the cross sections by noting:\n",
    "\\begin{gather}\n",
    "r(T) = N_A <\\sigma v>(T)\n",
    "\\end{gather}\n",
    "and the thermal velocity is given by:\n",
    "\\begin{gather}\n",
    "v_T = \\sqrt{\\frac{2k_BT}{m_n}}\n",
    "\\end{gather}\n",
    "which represents the most probable velocity in a Maxwell-Boltzmann distribution. We then compute the cross sections:"
   ]
  },
  {
   "cell_type": "code",
   "execution_count": null,
   "id": "62ed0723",
   "metadata": {},
   "outputs": [],
   "source": [
    "T = t9 * 10**9\n",
    "v_T = np.sqrt((2*k*T)/m_n)\n",
    "\n",
    "#sigs = {}\n",
    "sigs_array = []\n",
    "for key, value in ordered_dict.items():\n",
    "    sigs_array.append(1000*value/(v_T*N_A*wn.consts.GSL_CONST_CGSM_BARN))"
   ]
  },
  {
   "cell_type": "markdown",
   "id": "6cbd1a68",
   "metadata": {},
   "source": [
    "Since the cross sections differ by orders of magnitude, we require additional tools for the solution to the acyclic reaction network. A discussion of these different methods can be found with the aid of this [osf page](https://github.com/lucaswalls18/linear_acyclic_tools). The method done here utilizes the complex shift for Laplace transforms. First, we define a couple of functions that give the relative contributions: "
   ]
  },
  {
   "cell_type": "code",
   "execution_count": null,
   "id": "0d48c428",
   "metadata": {},
   "outputs": [],
   "source": [
    "from scipy.special import gammaln\n",
    "def get_fbar(sigma):\n",
    "    sig_max = max(sigma)\n",
    "    return [(sig_max - sigs)/sig_max for sigs in sigma]\n",
    "\n",
    "def G_bell(tau, sigma, N):\n",
    "    f_bar = get_fbar(sigma)\n",
    "    m = len(sigma)\n",
    "    sig = gmean(sigma)\n",
    "    h = s.compute_normalized(f_bar, N)\n",
    "    x = bell.invert(h)\n",
    "    result = 0 \n",
    "    for i in range(N):\n",
    "        result += x[i] * np.exp(i*np.log(max(sigma)*tau)-gammaln(i+1))\n",
    "    return np.exp((m-1)*np.log(sig*tau) - gammaln(m) - max(sigma)*tau + result)"
   ]
  },
  {
   "cell_type": "markdown",
   "id": "4de03170",
   "metadata": {},
   "source": [
    "Next, we obtain the solar abundances:"
   ]
  },
  {
   "cell_type": "code",
   "execution_count": null,
   "id": "b10d98c5",
   "metadata": {},
   "outputs": [],
   "source": [
    "solar_xml = wx.Xml(\n",
    "    io.BytesIO(requests.get(\"https://osf.io/w8ktc/download\").content)\n",
    ")\n",
    "ca_names, ys = get_solar_isotopes(solar_xml, species)\n",
    "ys /= np.sum(ys)"
   ]
  },
  {
   "cell_type": "markdown",
   "id": "75213be0",
   "metadata": {},
   "source": [
    "Now, we compute the final abundances using the complex shift solution for the linear acyclic reaction network."
   ]
  },
  {
   "cell_type": "code",
   "execution_count": null,
   "id": "98ae815c",
   "metadata": {},
   "outputs": [],
   "source": [
    "tau = np.linspace(0.001, 10, 100)\n",
    "g_bell_array_5 = np.zeros((len(tau), len(sigs_array), len(sigs_array)))\n",
    "g_bell_array_10 = np.zeros((len(tau), len(sigs_array), len(sigs_array)))\n",
    "for t in range(len(tau)):\n",
    "    for i in range(len(ys)):\n",
    "        for j in range(len(ys)):\n",
    "            if j<=i:\n",
    "                sig_array = sigs_array[j:i+1]\n",
    "                g_bell_array_5[t][i,j] = G_bell(tau[t], sig_array, 5)\n",
    "                g_bell_array_10[t][i,j] = G_bell(tau[t], sig_array, 10)\n",
    "                \n",
    "y_b_final = np.zeros([len(tau), len(sigs_array)])\n",
    "y_b_final_2 = np.zeros([len(tau), len(sigs_array)])\n",
    "for t in range(len(tau)):\n",
    "    y_b_final[t] = np.dot(g_bell_array_10[t], ys)\n",
    "    y_b_final_2[t] = np.dot(g_bell_array_5[t], ys)\n",
    "\n",
    "sol = solve_ivp(Y, [0, tau[len(tau)-1]], ys, args=(sigs_array,), max_step=0.02)\n",
    "\n",
    "#plot results\n",
    "plt.plot(sol.t, sol.y[0], ':', label='Numerical')\n",
    "plt.plot(tau, y_b_final_2[:,0], label = 'Bell complex shift, N=5')\n",
    "plt.plot(tau, y_b_final[:,0], label = 'Bell complex shift, N=10')\n",
    "plt.legend()\n",
    "plt.xlabel(r'$\\tau$')\n",
    "plt.ylabel('Abundance')\n",
    "plt.show()"
   ]
  },
  {
   "cell_type": "code",
   "execution_count": null,
   "id": "f3868033",
   "metadata": {},
   "outputs": [],
   "source": []
  }
 ],
 "metadata": {
  "kernelspec": {
   "display_name": "venv",
   "language": "python",
   "name": "venv"
  },
  "language_info": {
   "codemirror_mode": {
    "name": "ipython",
    "version": 3
   },
   "file_extension": ".py",
   "mimetype": "text/x-python",
   "name": "python",
   "nbconvert_exporter": "python",
   "pygments_lexer": "ipython3",
   "version": "3.9.1"
  }
 },
 "nbformat": 4,
 "nbformat_minor": 5
}

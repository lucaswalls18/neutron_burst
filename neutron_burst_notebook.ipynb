{
 "cells": [
  {
   "cell_type": "markdown",
   "id": "7eb92d1b",
   "metadata": {},
   "source": [
    "# Neutron burst calculation\n",
    "The following is a notebook that can compute the final abundances of a network of species of neutron burst reactions. The mathematics follows the solution to the linar acyclic reaction network worked out in Davila and Meyer 2024.\n",
    "\n",
    "The neutron burst is a type of explosive nucleosynthesis that occurs in the bottom of the helium shell. It is triggered when the shock heats the material increasing the rate of the $^{22}$Ne($\\alpha$,n)$^{25}$Mg reaction and thus causing a sharp, but breif spike in the neutron density. \n",
    "\n",
    "The neutron burst is essentially an acyclic, linear network and thus a graph theory approach can be invoked in which the abundance of species $i$ that flows to species $j$ across some path $P$ is given by:\n",
    "\n",
    "\\begin{gather}\n",
    "G_{ij}^P=\\frac{(\\sigma \\tau)^{N-1}}{(N-1)!}\\sum_{n=0}^\\infty \\bar{h}_n(\\sigma_1,\\sigma_2,...,\\sigma_N)\n",
    "\\end{gather}\n",
    "\n",
    "Where the $\\bar{h}$ are the complete homogeneous symmetric polynomials. Alternatively, considering $\\bar{h}_n(\\sigma_1, \\sigma_2,...,\\sigma_N) = B_n(x_1,x_2,....x_n)$ and the generating function for the bell polynomials is:\n",
    "\n",
    "\\begin{gather}\n",
    "\\exp\\Big(\\sum_{j=1}^\\infty x_j \\frac{t^j}{j!}\\Big)\n",
    "\\end{gather}\n",
    "\n",
    "The \n",
    "\n",
    "\\begin{gather}\n",
    "G_{ij}^{P}(\\tau) = F^{P} \\frac{(\\sigma \\tau)^{N-1}}{(N-1)!} \\exp\\Big(\\sum_{k=1}^\\infty x_k \\frac{(-\\tau)^k}{k!}\\Big)\n",
    "\\end{gather}\n",
    "\n",
    "These results are exact, but written in terms of an infinite sum. For low $\\tau$, higher order terms in the sum can be ignored due to the factorial in the denominator, but for high $\\tau$ more creative approaches are needed. "
   ]
  },
  {
   "cell_type": "markdown",
   "id": "060e9ae4",
   "metadata": {},
   "source": [
    "## Simple case\n",
    "\n",
    "Here we explore a trivial case, where all cross sections are equivalent to demonstrate how the wnpoly python package works in computing the complete symmetric polynomials as well as the bell polynomials. \n",
    "\n",
    "For the simple case we consider all reaction cross sections to be identical. In this limit the bell polynomial expression for the $G_{ij}s$ is:\n",
    "\n",
    "\\begin{gather}\n",
    "G_{ij}(\\tau) = \\frac{(\\sigma \\tau)^{N-1}}{(N-1)!}\\exp(-\\sigma\\tau)\n",
    "\\end{gather}\n",
    "Where $\\sigma$ is the geometric mean of the cross sections.\n",
    "\n",
    "Let's consider the reaction chain:\n",
    "\\begin{gather}\n",
    "1 + n \\rightarrow 2 + \\gamma\\notag\\\\\n",
    "2 + n \\rightarrow 3 + \\gamma\\notag\\\\\n",
    "3 + n \\rightarrow 4 + \\gamma\\notag\n",
    "\\end{gather}\n",
    "\n",
    "where 1, 2, 3, and 4 are arbitrary species and 'n' represents neutrons. From above, the abundance of the any species $j$ can be written as:\n",
    "\\begin{gather}\n",
    "Y_4(\\tau) = \\sum_{i\\leq 4} G_{i4}(\\tau) Y_i(0) = G_{14}(\\tau) Y_1(0) + G_{24}(\\tau) Y_2(0)+ G_{34}(\\tau)Y_3(0) + G_{44}(\\tau) Y_4(0)\n",
    "\\end{gather}\n",
    "\n",
    "\n",
    "To solve this network exactly we have the coupled differential equations:\n",
    "\\begin{gather}\n",
    "\\frac{dY_1}{d\\tau} = -\\sigma_{n,1} Y_1\\\\\n",
    "\\frac{dY_2}{d\\tau} = \\sigma_{n,1} Y_1 - \\sigma_{n,2}Y_2\\\\\n",
    "\\frac{dY_3}{d\\tau} = \\sigma_{n,2} Y_2 - \\sigma_{n,3}Y_3\\\\\n",
    "\\frac{dY_4}{d\\tau} = \\sigma_{n,3} Y_3 - \\sigma_{n,4}Y_4\n",
    "\\end{gather}\n",
    "where the $\\sigma_n$ are the neutron capture cross sections for each species."
   ]
  },
  {
   "cell_type": "markdown",
   "id": "668db06c",
   "metadata": {},
   "source": [
    "We begin by importing the relavent python libraries:"
   ]
  },
  {
   "cell_type": "code",
   "execution_count": 4,
   "id": "268cc7c8",
   "metadata": {},
   "outputs": [
    {
     "name": "stderr",
     "output_type": "stream",
     "text": [
      "\n",
      "[notice] A new release of pip is available: 23.3.1 -> 24.0\n",
      "[notice] To update, run: python.exe -m pip install --upgrade pip\n"
     ]
    }
   ],
   "source": [
    "import sys\n",
    "!{sys.executable} -m pip install --quiet wnpoly\n",
    "from gslconsts.consts import *\n",
    "from scipy.integrate import solve_ivp\n",
    "import numpy as np\n",
    "import math\n",
    "import wnpoly as wp\n",
    "from scipy.stats import gmean\n",
    "import matplotlib.pyplot as plt"
   ]
  },
  {
   "cell_type": "code",
   "execution_count": 127,
   "id": "d43dda67",
   "metadata": {},
   "outputs": [],
   "source": [
    "k = GSL_CONST_CGS_BOLTZMANN\n",
    "N_A = GSL_CONST_NUM_AVOGADRO\n",
    "m_n = GSL_CONST_CGS_MASS_NEUTRON"
   ]
  },
  {
   "cell_type": "markdown",
   "id": "df24df85",
   "metadata": {},
   "source": [
    "Next, we define two functions. The function Y will be used to solve the system of differential equations exactly, and the G is used to compute the relative contributions between species. Both of these equations are general and do not depend on the reaction rates being the same for all reactions and thus will be used throughout the notebook. "
   ]
  },
  {
   "cell_type": "code",
   "execution_count": 90,
   "id": "fe63cb6a",
   "metadata": {},
   "outputs": [],
   "source": [
    "def Y(t, y, sigs):\n",
    "    N = len(y)\n",
    "    result = np.zeros(N)\n",
    "    result[0] = -sigs[0]*y[0]\n",
    "    for i in range(1, N):\n",
    "        result[i] = sigs[i-1]*y[i-1] - sigs[i]*y[i]\n",
    "    return result\n",
    "\n",
    "def g(tau, x, sigma, n):\n",
    "    result = 0 \n",
    "    for i in range(len(x)):\n",
    "        result += x[i] * (-tau)**i / math.factorial(i)\n",
    "    return (sigma*tau)**(n-1) * np.exp(result) / math.factorial(n-1)"
   ]
  },
  {
   "cell_type": "markdown",
   "id": "fffa5f86",
   "metadata": {},
   "source": [
    "Next we define the cross sections to be unity and define the initial abundances of the species. It is important to note that the initial abundance array should be the length of the cross section array, since the last cross section represents the flow out of the last species. We also set the abundance of the first species to one:"
   ]
  },
  {
   "cell_type": "code",
   "execution_count": 111,
   "id": "843045a0",
   "metadata": {},
   "outputs": [],
   "source": [
    "sigs = [2,2,2,2]\n",
    "m = len(sigs)\n",
    "\n",
    "ys = np.zeros(m)\n",
    "ys[0] = 1"
   ]
  },
  {
   "cell_type": "markdown",
   "id": "6119eb56",
   "metadata": {},
   "source": [
    "Now with the cross sections defined, we can begin calculating the complete homogeneous symmetric polynomials and the Bell polynomial coefficients using [wnpoly](https://wnpoly.readthedocs.io/en/latest/). We begin by creating an instance of complete homogenous symmetric polynomials and compute them with our cross sections:"
   ]
  },
  {
   "cell_type": "code",
   "execution_count": 112,
   "id": "c8e0349a",
   "metadata": {},
   "outputs": [],
   "source": [
    "s = wp.symm.Complete()\n",
    "bell = wp.bell.Bell()"
   ]
  },
  {
   "cell_type": "markdown",
   "id": "324783ff",
   "metadata": {},
   "source": [
    "Now, since these are equivalent to the bell polynomials the h_norm can be used to compute the inverse of the bell polynomials which are the $x_j$s in our equation:"
   ]
  },
  {
   "cell_type": "markdown",
   "id": "33aef0a1",
   "metadata": {},
   "source": [
    "We see that the only coefficient that is nonzero is the $x_1$ term, which represents the geometric mean of all the cross sections, $\\sigma$. Now we can go about computing the final abundance, $Y_4$, as a function of $\\tau$. We do this both by computing the $G_{ij}$s and the exact solution to compare. "
   ]
  },
  {
   "cell_type": "code",
   "execution_count": 113,
   "id": "c193eedc",
   "metadata": {},
   "outputs": [],
   "source": [
    "tau = np.linspace(0.01, 10, 100)\n",
    "g_array = np.zeros((len(tau), m, m))\n",
    "\n",
    "for t in range(len(tau)):\n",
    "    for i in range(len(ys)):\n",
    "        for j in range(len(ys)):\n",
    "            if j<=i:\n",
    "                sigs_array = sigs[j:i+1]\n",
    "                n = len(sigs_array)\n",
    "                sig = gmean(sigs_array)\n",
    "                h_norm = s.compute_normalized(sigs_array, 6)\n",
    "                x = bell.invert(h_norm)\n",
    "                g_array[t][i,j] = g(tau[t], x, sig, n)"
   ]
  },
  {
   "cell_type": "code",
   "execution_count": 114,
   "id": "babe6f3e",
   "metadata": {},
   "outputs": [],
   "source": [
    "y_final = np.zeros([len(tau), m])\n",
    "for t in range(len(tau)):\n",
    "    y_final[t] = np.dot(g_array[t], ys)"
   ]
  },
  {
   "cell_type": "code",
   "execution_count": 118,
   "id": "7d41f299",
   "metadata": {},
   "outputs": [
    {
     "data": {
      "image/png": "[encoded data removed]",
      "text/plain": [
       "<Figure size 640x480 with 1 Axes>"
      ]
     },
     "metadata": {},
     "output_type": "display_data"
    }
   ],
   "source": [
    "sol = solve_ivp(Y, [0, tau[len(tau)-1]], ys, args=(sigs,), max_step=0.002)\n",
    "#plot results\n",
    "plt.plot(sol.t, sol.y[m-4], ':', label='Exact')\n",
    "plt.plot(tau, y_final[:,0] , label='Bell')\n",
    "plt.legend()\n",
    "plt.xlabel(r'$\\tau$')\n",
    "plt.ylabel('Abundance')\n",
    "plt.show()"
   ]
  },
  {
   "cell_type": "markdown",
   "id": "1ee9002b",
   "metadata": {},
   "source": [
    "## A realistic example: calcium isotopes\n",
    "\n",
    "A possible candidate for exhibiting neutron burst signatures are the calcium isotopes. This section demonstrates how to use [wnnet](https://wnnet.readthedocs.io/en/latest/) to compute the realistic reaction cross sections in a neutron burst environment and apply our acyclic network calculation to delve further into understanding this process."
   ]
  },
  {
   "cell_type": "markdown",
   "id": "dd329a85",
   "metadata": {},
   "source": [
    "We begin by importing the necessary libraries and obtaining the nuclear network xml file:"
   ]
  },
  {
   "cell_type": "code",
   "execution_count": 119,
   "id": "e5ef3091",
   "metadata": {},
   "outputs": [
    {
     "name": "stderr",
     "output_type": "stream",
     "text": [
      "\n",
      "[notice] A new release of pip is available: 23.3.1 -> 24.0\n",
      "[notice] To update, run: python.exe -m pip install --upgrade pip\n"
     ]
    }
   ],
   "source": [
    "import os, io, requests\n",
    "from lxml import etree \n",
    "\n",
    "!{sys.executable} -m pip install --quiet wnnet\n",
    "import wnnet as wn\n",
    "\n",
    "net = wn.net.Net(io.BytesIO(requests.get('https://osf.io/vqhxr/download').content))"
   ]
  },
  {
   "cell_type": "markdown",
   "id": "944b4f18",
   "metadata": {},
   "source": [
    "Next, we define a temperature in $10^9$K and define nuclear and reaction xpaths, to ensure we select only the neutron capture reactions on the calcium isotopes."
   ]
  },
  {
   "cell_type": "code",
   "execution_count": 138,
   "id": "1ac7b4b8",
   "metadata": {},
   "outputs": [],
   "source": [
    "t9 = 3\n",
    "\n",
    "induced_nuc_xpath = \"[(a=1 and z=0) or (z = 20 and a - z >= 20 and a - z <= 30)]\"\n",
    "induced_reac_xpath = \"[reactant = 'n' and product = 'gamma']\""
   ]
  },
  {
   "cell_type": "markdown",
   "id": "b672272d",
   "metadata": {},
   "source": [
    "Next, we obtain the reaction rates and print them out:"
   ]
  },
  {
   "cell_type": "code",
   "execution_count": 139,
   "id": "51a41757",
   "metadata": {},
   "outputs": [
    {
     "name": "stdout",
     "output_type": "stream",
     "text": [
      "reaction : n + ca44 -> ca45 + gamma ; Forward rate : 1.31e+06\n",
      "reaction : n + ca43 -> ca44 + gamma ; Forward rate : 4.18e+06\n",
      "reaction : n + ca46 -> ca47 + gamma ; Forward rate : 6.32e+05\n",
      "reaction : n + ca42 -> ca43 + gamma ; Forward rate : 2.54e+06\n",
      "reaction : n + ca45 -> ca46 + gamma ; Forward rate : 1.26e+06\n",
      "reaction : n + ca47 -> ca48 + gamma ; Forward rate : 4.01e+05\n",
      "reaction : n + ca49 -> ca50 + gamma ; Forward rate : 1.13e+05\n",
      "reaction : n + ca40 -> ca41 + gamma ; Forward rate : 1.17e+06\n",
      "reaction : n + ca41 -> ca42 + gamma ; Forward rate : 3.05e+06\n",
      "reaction : n + ca48 -> ca49 + gamma ; Forward rate : 1.18e+05\n"
     ]
    }
   ],
   "source": [
    "reacs = net.compute_rates(t9, nuc_xpath=induced_nuc_xpath, reac_xpath = induced_reac_xpath)\n",
    "rates = []\n",
    "for key, values in list(reacs.items()):\n",
    "    rates.append(values[0])\n",
    "    print('reaction :', key, ';', 'Forward rate :', '{:.2e}'.format(values[0]))"
   ]
  },
  {
   "cell_type": "markdown",
   "id": "8e021c4d",
   "metadata": {},
   "source": [
    "Now that we have obtained the rates, we can get the cross sections by noting:\n",
    "\\begin{gather}\n",
    "r(T) = N_A <\\sigma v>(T)\n",
    "\\end{gather}"
   ]
  },
  {
   "cell_type": "code",
   "execution_count": 141,
   "id": "62ed0723",
   "metadata": {},
   "outputs": [],
   "source": [
    "T = t9 * 10**9\n",
    "v_T = np.sqrt((2*k*T)/(m_n/wn.consts.u * N_A))\n",
    "\n",
    "sigs = []\n",
    "for key, value in list(reacs.items()):\n",
    "    sigs.append(value[0]/(v_T * wn.consts.N_A))"
   ]
  },
  {
   "cell_type": "markdown",
   "id": "6cbd1a68",
   "metadata": {},
   "source": [
    "Since the cross sections differ by orders of magnitude, we require additional tools for the solution to the acyclic reaction network. A discussion of these different methods can be found with the aid of this [jupyter notebook](https://github.com/lucaswalls18/linear_acyclic_tools)"
   ]
  },
  {
   "cell_type": "code",
   "execution_count": null,
   "id": "b10d98c5",
   "metadata": {},
   "outputs": [],
   "source": []
  }
 ],
 "metadata": {
  "kernelspec": {
   "display_name": "venv",
   "language": "python",
   "name": "venv"
  },
  "language_info": {
   "codemirror_mode": {
    "name": "ipython",
    "version": 3
   },
   "file_extension": ".py",
   "mimetype": "text/x-python",
   "name": "python",
   "nbconvert_exporter": "python",
   "pygments_lexer": "ipython3",
   "version": "3.9.1"
  }
 },
 "nbformat": 4,
 "nbformat_minor": 5
}

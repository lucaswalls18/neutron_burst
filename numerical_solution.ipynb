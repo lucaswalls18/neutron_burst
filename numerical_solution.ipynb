{
 "cells": [
  {
   "cell_type": "markdown",
   "id": "7f8779eb",
   "metadata": {},
   "source": [
    "# Neutron Burst\n",
    "\n",
    "The neutron burst may happen in high mass stars during a supernova blast leaving behind characteristic nucleosynthesis signatures in presolar grains. The neutron burst occurs when neutron number densities are sufficiently high ($\\sim 10^{17}$ neutrons/cm$^{-3}$) to capture up an isotopic chain in a manner similar to the r-process, though with much lower neutron exposures and therefore less neutron rich products. \n",
    "\n",
    "For a glipse at this kind of network, consider the following neutron capture chain:\n",
    "\\begin{gather}\n",
    "1 + n \\rightarrow 2 + \\gamma\\notag\\\\\n",
    "2 + n \\rightarrow 3 + \\gamma\\notag\\\\\n",
    "3 + n \\rightarrow 4 + \\gamma\\notag\n",
    "\\end{gather}\n",
    "\n",
    "To solve this network numerically we have the coupled differential equations:\n",
    "\\begin{gather}\n",
    "\\frac{dY_1}{d\\tau} = -\\sigma_{n,1} Y_1\\\\\n",
    "\\frac{dY_2}{d\\tau} = \\sigma_{n,1} Y_1 - \\sigma_{n,2}Y_2\\\\\n",
    "\\frac{dY_3}{d\\tau} = \\sigma_{n,2} Y_2 - \\sigma_{n,3}Y_3\\\\\n",
    "\\frac{dY_4}{d\\tau} = \\sigma_{n,3} Y_3 \n",
    "\\end{gather}\n",
    "where the $\\sigma_n$ are the neutron capture cross sections for each species and $\\tau$ is the neutron exposure (units of inverse area). \n",
    "\n",
    "For simplicity, this notebook considers an isolated reaction chain. In other words the only reactions considered are neutron captures along the chain and out of the chain."
   ]
  },
  {
   "cell_type": "markdown",
   "id": "9c8a91f5",
   "metadata": {},
   "source": [
    "## Preliminaries \n",
    "\n",
    "We begin by importing the necessary libraries:"
   ]
  },
  {
   "cell_type": "code",
   "execution_count": 54,
   "id": "ef9273c0",
   "metadata": {},
   "outputs": [],
   "source": [
    "import sys, subprocess, pkg_resources\n",
    "import os, io, requests\n",
    "required = {'numpy','wnutils', 'wnnet', 'matplotlib', 'gslconsts', 'scipy', 'ipywidgets', 'xmlcoll'}\n",
    "installed = {pkg.key for pkg in pkg_resources.working_set}\n",
    "missing = required - installed\n",
    "\n",
    "if missing:\n",
    "    subprocess.check_call([sys.executable,'-m','pip','install','--quiet',*missing])\n",
    "\n",
    "import wnnet as wn \n",
    "import wnutils.xml as wx\n",
    "import xmlcoll as xc\n",
    "import matplotlib.pyplot as plt\n",
    "import ipywidgets as widgets\n",
    "from ipywidgets import interact, fixed\n",
    "import numpy as np\n",
    "from gslconsts.consts import *\n",
    "from scipy.integrate import solve_ivp"
   ]
  },
  {
   "cell_type": "markdown",
   "id": "68d8f06d",
   "metadata": {},
   "source": [
    "Now we define a function to integrate the network numerically:"
   ]
  },
  {
   "cell_type": "code",
   "execution_count": 55,
   "id": "5b6fc0f2",
   "metadata": {},
   "outputs": [],
   "source": [
    "def dYdt(t, y, sigs):\n",
    "    N = len(y)\n",
    "    result = np.zeros(N)\n",
    "    result[0] = -sigs[0]*y[0]\n",
    "    for i in range(1, N):\n",
    "        result[i] = sigs[i-1]*y[i-1] - sigs[i]*y[i]\n",
    "    return result"
   ]
  },
  {
   "cell_type": "markdown",
   "id": "9410c8ab",
   "metadata": {},
   "source": [
    "Additionally to get the initial abundances, we will rely on a solar xml file. The following is a function to read in the desired abundance data from a solar xml file:"
   ]
  },
  {
   "cell_type": "code",
   "execution_count": 56,
   "id": "25ecba99",
   "metadata": {},
   "outputs": [],
   "source": [
    "def get_solar_isotopes(isotopes):    \n",
    "    solar_data = solar_xml.get_zone_data()\n",
    "    x_solar = solar_data[\"0\"][\"mass fractions\"]\n",
    "\n",
    "    abunds = []\n",
    "    a = []\n",
    "    d = {}\n",
    "\n",
    "    for isotope in isotopes:\n",
    "        tup = solar_xml.get_z_a_state_from_nuclide_name(isotope)\n",
    "        s_tup = (isotope, tup[0], tup[1])\n",
    "        if s_tup in x_solar:\n",
    "            a.append(s_tup[2])\n",
    "            abunds.append(x_solar[s_tup] / tup[1])\n",
    "            d[s_tup[0]] = x_solar[s_tup] / tup[1]\n",
    "        else:\n",
    "            abunds.append(0)\n",
    "            d[s_tup[0]] = 0\n",
    "            \n",
    "    return a, d, abunds"
   ]
  },
  {
   "cell_type": "markdown",
   "id": "2bdc700b",
   "metadata": {},
   "source": [
    "Now, we import the data that will be used throughout this notebook. Execution of this cell will take a minute. The 'solar_xml' contains the mass fractions of isotopes in the solar system and the 'net' contains details on nuclear reaction rates for computing the neutron burst network. "
   ]
  },
  {
   "cell_type": "code",
   "execution_count": 57,
   "id": "024e6d87",
   "metadata": {},
   "outputs": [
    {
     "ename": "XMLSyntaxError",
     "evalue": "Start tag expected, '<' not found, line 1, column 1 (<string>, line 1)",
     "output_type": "error",
     "traceback": [
      "Traceback \u001b[1;36m(most recent call last)\u001b[0m:\n",
      "\u001b[0m  File \u001b[0;32mc:\\users\\lucas\\appdata\\local\\programs\\python\\python39\\lib\\site-packages\\IPython\\core\\interactiveshell.py:3526\u001b[0m in \u001b[0;35mrun_code\u001b[0m\n    exec(code_obj, self.user_global_ns, self.user_ns)\u001b[0m\n",
      "\u001b[0m  Cell \u001b[0;32mIn[57], line 2\u001b[0m\n    net = wn.net.Net(io.BytesIO(requests.get('https://osf.io/vqhxr/download').content))\u001b[0m\n",
      "\u001b[0m  File \u001b[0;32mc:\\users\\lucas\\appdata\\local\\programs\\python\\python39\\lib\\site-packages\\wnnet\\net.py:25\u001b[0m in \u001b[0;35m__init__\u001b[0m\n    wn.Nuc.__init__(self, file, nuc_xpath=nuc_xpath)\u001b[0m\n",
      "\u001b[0m  File \u001b[0;32mc:\\users\\lucas\\appdata\\local\\programs\\python\\python39\\lib\\site-packages\\wnnet\\nuc.py:22\u001b[0m in \u001b[0;35m__init__\u001b[0m\n    self.xml = wx.Xml(file)\u001b[0m\n",
      "\u001b[0m  File \u001b[0;32mc:\\users\\lucas\\appdata\\local\\programs\\python\\python39\\lib\\site-packages\\wnutils\\xml.py:360\u001b[0m in \u001b[0;35m__init__\u001b[0m\n    self._xml = etree.parse(file, parser)\u001b[0m\n",
      "\u001b[0m  File \u001b[0;32msrc\\lxml\\etree.pyx:3521\u001b[0m in \u001b[0;35mlxml.etree.parse\u001b[0m\n",
      "\u001b[0m  File \u001b[0;32msrc\\lxml\\parser.pxi:1876\u001b[0m in \u001b[0;35mlxml.etree._parseDocument\u001b[0m\n",
      "\u001b[0m  File \u001b[0;32msrc\\lxml\\parser.pxi:1896\u001b[0m in \u001b[0;35mlxml.etree._parseMemoryDocument\u001b[0m\n",
      "\u001b[0m  File \u001b[0;32msrc\\lxml\\parser.pxi:1784\u001b[0m in \u001b[0;35mlxml.etree._parseDoc\u001b[0m\n",
      "\u001b[0m  File \u001b[0;32msrc\\lxml\\parser.pxi:1141\u001b[0m in \u001b[0;35mlxml.etree._BaseParser._parseDoc\u001b[0m\n",
      "\u001b[0m  File \u001b[0;32msrc\\lxml\\parser.pxi:615\u001b[0m in \u001b[0;35mlxml.etree._ParserContext._handleParseResultDoc\u001b[0m\n",
      "\u001b[0m  File \u001b[0;32msrc\\lxml\\parser.pxi:725\u001b[0m in \u001b[0;35mlxml.etree._handleParseResult\u001b[0m\n",
      "\u001b[1;36m  File \u001b[1;32msrc\\lxml\\parser.pxi:654\u001b[1;36m in \u001b[1;35mlxml.etree._raiseParseError\u001b[1;36m\n",
      "\u001b[1;36m  File \u001b[1;32m<string>:1\u001b[1;36m\u001b[0m\n\u001b[1;31mXMLSyntaxError\u001b[0m\u001b[1;31m:\u001b[0m Start tag expected, '<' not found, line 1, column 1\n"
     ]
    }
   ],
   "source": [
    "solar_xml = wx.Xml(io.BytesIO(requests.get(\"https://osf.io/j67qa/download\").content))\n",
    "net = wn.net.Net(io.BytesIO(requests.get('https://osf.io/vqhxr/download').content))"
   ]
  },
  {
   "cell_type": "markdown",
   "id": "8fda5a21",
   "metadata": {},
   "source": [
    "### Getting the initial abundances\n",
    "Now we define a list of isotopes.  This is our network. "
   ]
  },
  {
   "cell_type": "code",
   "execution_count": null,
   "id": "08cfc845",
   "metadata": {},
   "outputs": [],
   "source": [
    "#species = ['ca40','ca41','ca42','ca43','ca44','ca45','ca46','ca47','ca48','ca49','ca50']\n",
    "species = ['ni55','ni56','ni57','ni58','ni59','ni60','ni61','ni62','ni63','ni64']\n",
    "element = 'Ni'\n",
    "a_species = []\n",
    "for sp in species:\n",
    "    z_a_state = solar_xml.get_z_a_state_from_nuclide_name(sp)\n",
    "    a_species.append(z_a_state[1])"
   ]
  },
  {
   "cell_type": "markdown",
   "id": "9e4950ae",
   "metadata": {},
   "source": [
    "Now we use the get_solar_isotopes function to populate the abundance dictionary. The keys will be the isotope names and the value will be the abundances:"
   ]
  },
  {
   "cell_type": "code",
   "execution_count": 58,
   "id": "7cfbc30f",
   "metadata": {},
   "outputs": [],
   "source": [
    "a_solar, d_solar, solar_abunds = get_solar_isotopes(species)\n",
    "    \n",
    "isotope_abunds = np.zeros(len(species))\n",
    "for k, v in d_solar.items():\n",
    "    isotope_abunds[species.index(k)] = v"
   ]
  },
  {
   "cell_type": "markdown",
   "id": "c0ae8379",
   "metadata": {},
   "source": [
    "Finally, we can plot the initial abundances. It is best to plot the ratios normalized to some isotope. For this example we choose $^{58}$Ni, but one should change this depending on their inputted nuclear network:"
   ]
  },
  {
   "cell_type": "code",
   "execution_count": 59,
   "id": "363b25ce",
   "metadata": {},
   "outputs": [
    {
     "data": {
      "image/png": "[encoded data removed]",
      "text/plain": [
       "<Figure size 640x480 with 1 Axes>"
      ]
     },
     "metadata": {},
     "output_type": "display_data"
    }
   ],
   "source": [
    "normalizing_species = 'ni58'\n",
    "fig, ax = plt.subplots()\n",
    "normalized_solar = []\n",
    "for abunds in solar_abunds:\n",
    "    if abunds != 0:\n",
    "        normalized_solar.append(abunds/d_solar['ni58'])\n",
    "ax.plot(a_solar, normalized_solar, 'o-', label = 'Lodders')\n",
    "ax.set_xlabel(fr'$^i ${element}', fontsize = 14)\n",
    "ax.set_ylabel(fr'$Y$($^i${element})/Y({solar_xml.get_latex_names([normalizing_species])[normalizing_species]})') \n",
    "ax.legend()\n",
    "plt.show()"
   ]
  },
  {
   "cell_type": "markdown",
   "id": "77b83647",
   "metadata": {},
   "source": [
    "### Plotting the abundances for varying exposures\n",
    "\n",
    "We can use the initial abundances and the scipy.integrate function to solve the system of ODE's presented above. In order to do this we need to obtain the neutron capture cross sections ($\\sigma_i$) using the wnnet package. "
   ]
  },
  {
   "cell_type": "markdown",
   "id": "455d1c81",
   "metadata": {},
   "source": [
    "First, we define a temperature in $10^9$K to be used to compute the reaction rates."
   ]
  },
  {
   "cell_type": "code",
   "execution_count": 60,
   "id": "1f51938d",
   "metadata": {},
   "outputs": [],
   "source": [
    "t9 = .7"
   ]
  },
  {
   "cell_type": "markdown",
   "id": "8b25f0cd",
   "metadata": {},
   "source": [
    "Now, we compute the reaction rates for all neutron capture reactions at the provided temperature:"
   ]
  },
  {
   "cell_type": "code",
   "execution_count": 61,
   "id": "c8694c48",
   "metadata": {},
   "outputs": [],
   "source": [
    "induced_reac_xpath = \"[reactant = 'n' and product = 'gamma']\"\n",
    "reacs = net.compute_rates(t9, reac_xpath = induced_reac_xpath)\n",
    "rates = []\n",
    "for key, values in list(reacs.items()):\n",
    "    rates.append(values[0])"
   ]
  },
  {
   "cell_type": "markdown",
   "id": "1d290462",
   "metadata": {},
   "source": [
    "Next, we can obtain a dictionary of the reactions for strictly the species in our reaction chain: "
   ]
  },
  {
   "cell_type": "code",
   "execution_count": 62,
   "id": "f8acfd2a",
   "metadata": {},
   "outputs": [],
   "source": [
    "ordered_dict = {}\n",
    "\n",
    "for sp in species:\n",
    "    for key, value in net.get_reactions(reac_xpath = induced_reac_xpath).items():\n",
    "        if sp in value.reactants:\n",
    "            ordered_dict[sp] = reacs[key][0]"
   ]
  },
  {
   "cell_type": "markdown",
   "id": "2a9f5085",
   "metadata": {},
   "source": [
    "Now that we have obtained the rates, we can get the cross sections by noting:\n",
    "\\begin{gather}\n",
    "r(T) = N_A <\\sigma v>(T)\n",
    "\\end{gather}\n",
    "and the thermal velocity is given by:\n",
    "\\begin{gather}\n",
    "v_T = \\sqrt{\\frac{2k_BT}{m_n}}\n",
    "\\end{gather}\n",
    "which represents the most probable velocity in a Maxwell-Boltzmann distribution. We then compute the cross sections:"
   ]
  },
  {
   "cell_type": "code",
   "execution_count": 63,
   "id": "49e8940e",
   "metadata": {},
   "outputs": [],
   "source": [
    "k = GSL_CONST_CGS_BOLTZMANN\n",
    "N_A = GSL_CONST_NUM_AVOGADRO\n",
    "m_n = GSL_CONST_CGS_MASS_NEUTRON\n",
    "\n",
    "T = t9 * 10**9\n",
    "v_T = np.sqrt((2*k*T)/m_n)\n",
    "\n",
    "sigs_array = []\n",
    "for key, value in ordered_dict.items():\n",
    "    sigs_array.append(1000*value/(v_T*N_A*GSL_CONST_CGSM_BARN))"
   ]
  },
  {
   "cell_type": "markdown",
   "id": "1a4db1af",
   "metadata": {},
   "source": [
    "Now we have all the components needed to solve the neutron burst. However, one would like to compare the results to grain data. To do this we create a dictionary of presolar grain data:"
   ]
  },
  {
   "cell_type": "code",
   "execution_count": 64,
   "id": "3f9bc896",
   "metadata": {},
   "outputs": [],
   "source": [
    "grains = [\n",
    "    {'name': 'grain 1',\n",
    "     'a': [60, 61, 62, 63, 64],\n",
    "     'data': [1.44, 9.25, 9.02, 6.58, 22.27],\n",
    "     'error': [0.07, 0.81, 0.50, 0.36, 1.29]\n",
    "    }\n",
    "]\n",
    "\n",
    "for g in grains:\n",
    "    assert len(g['a']) == len(g['data']) == len(g['error'])"
   ]
  },
  {
   "cell_type": "markdown",
   "id": "d3f0fa21",
   "metadata": {},
   "source": [
    "This data is presented in the form of Ratios/Solar where the ratios relative to the normalizing species defined earlier. Now we can explore the abundances with varying exposures. The following is an interactive plot where one can change the value of the exposure with the floating text box. Grain data can be optionally displayed with the checkbox: "
   ]
  },
  {
   "cell_type": "code",
   "execution_count": 65,
   "id": "43dc57a1",
   "metadata": {},
   "outputs": [
    {
     "data": {
      "application/vnd.jupyter.widget-view+json": {
       "model_id": "241af656ab884a56a51fcdb34fea932c",
       "version_major": 2,
       "version_minor": 0
      },
      "text/plain": [
       "interactive(children=(BoundedFloatText(value=0.01, description='τ', max=0.3, step=0.01), Checkbox(value=False,…"
      ]
     },
     "metadata": {},
     "output_type": "display_data"
    },
    {
     "data": {
      "text/plain": [
       "<function __main__.plot_nuclear_network(tau, abunds, show_grain)>"
      ]
     },
     "execution_count": 65,
     "metadata": {},
     "output_type": "execute_result"
    }
   ],
   "source": [
    "def plot_nuclear_network(tau, abunds, show_grain):\n",
    "\n",
    "    sol = solve_ivp(dYdt, (0, tau), abunds, args=(sigs_array,), max_step=0.001)\n",
    "    f = d_solar[normalizing_species]/sol.y[species.index(normalizing_species),-1]\n",
    "    sol_normalized = []\n",
    "    for i in range(len(sol.y)):\n",
    "        if solar_abunds[i] != 0:\n",
    "            sol_normalized.append(sol.y[i,-1]/solar_abunds[i])\n",
    "\n",
    "    fig, ax = plt.subplots() \n",
    "    ax.plot(a_solar, sol_normalized, 'o-', label = 'Network')\n",
    "    if show_grain == True:\n",
    "        for i in range(len(grains)):\n",
    "            ax.errorbar(grains[i]['a'], grains[i]['data'], yerr = grains[i]['error'], label = grains[i]['name'])\n",
    "    #ax.set_xticks(range(min(a), max(a) + 1, 1))\n",
    "    ax.set_xlabel(fr'$^i{element}$')  #Modify element symbol for different abundance chain\n",
    "    ax.set_ylabel('Ratios/Solar')\n",
    "    ax.set_title('$\\\\tau$ = {:.3f} $mb^{{-1}}$'.format(tau))\n",
    "    ax.legend()\n",
    "    plt.show()\n",
    "    ax.clear()\n",
    "\n",
    "interact(\n",
    "    plot_nuclear_network,\n",
    "    tau=widgets.BoundedFloatText(value=0.01, min=0.0, max=0.3, step=0.01, description='τ'),\n",
    "    abunds=fixed(isotope_abunds),\n",
    "    show_grain = widgets.Checkbox(value = False, description = \"Display Grain Data\")\n",
    ")"
   ]
  },
  {
   "cell_type": "code",
   "execution_count": null,
   "id": "b3b9c84a",
   "metadata": {},
   "outputs": [],
   "source": []
  }
 ],
 "metadata": {
  "kernelspec": {
   "display_name": "Python 3",
   "language": "python",
   "name": "python3"
  },
  "language_info": {
   "codemirror_mode": {
    "name": "ipython",
    "version": 3
   },
   "file_extension": ".py",
   "mimetype": "text/x-python",
   "name": "python",
   "nbconvert_exporter": "python",
   "pygments_lexer": "ipython3",
   "version": "3.9.1"
  }
 },
 "nbformat": 4,
 "nbformat_minor": 5
}

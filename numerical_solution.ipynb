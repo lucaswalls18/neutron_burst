{
 "cells": [
  {
   "cell_type": "markdown",
   "id": "7f8779eb",
   "metadata": {},
   "source": [
    "# Neutron Burst\n",
    "\n",
    "The neutron burst happens in high mass stars during a supernova blast leaving behind characteristic nucleosynthesis signatures in presolar grains. The neutron burst occurs when the supernova shock passes a zone and the sudden increase in temperature and density effects a rapid release of neutrons.  Isotopes quickly capture those neutrons with the result that heavier species in the isotope chain see their abundance increase at the expense of the lighter isotopes.  Neutron bursts can achieve rather high neutron densities\n",
    "($\\sim 10^{17}$ neutrons/cm$^3$) for times of order several tenths of a second.\n",
    "\n",
    "For a glimpse at this kind of network, consider the following neutron capture chain:\n",
    "\\begin{gather}\n",
    "1 + n \\rightarrow 2 + \\gamma\\notag\\\\\n",
    "2 + n \\rightarrow 3 + \\gamma\\notag\\\\\n",
    "3 + n \\rightarrow 4 + \\gamma\\notag\n",
    "\\end{gather}\n",
    "The coupled differential equations governing time evolution of this network are:\n",
    "\\begin{gather}\n",
    "\\frac{dY_1}{d\\tau} = -\\sigma_{n,1} Y_1\\\\\n",
    "\\frac{dY_2}{d\\tau} = \\sigma_{n,1} Y_1 - \\sigma_{n,2}Y_2\\\\\n",
    "\\frac{dY_3}{d\\tau} = \\sigma_{n,2} Y_2 - \\sigma_{n,3}Y_3\\\\\n",
    "\\frac{dY_4}{d\\tau} = \\sigma_{n,3} Y_3 \n",
    "\\end{gather}\n",
    "where the $Y$'s are abundances and $\\sigma_n$ are the neutron capture cross sections for each species.  $\\tau$ is the neutron exposure defined as\n",
    "\\begin{gather}\n",
    "\\tau(t) = \\int_0^t n_n(t') v_T(t') dt'\n",
    "\\end{gather}\n",
    "with $n_n$ the neutron density and $v_T$ the neutron thermal velocity.  The cross sections are typically given in terms of millibarns ($mb$), so the exposure is presented in terms of inverse millibarns ($mb^{-1}$). $v_T$ itself is given by\n",
    "\\begin{gather}\n",
    "v_T = \\sqrt{\\frac{2k_BT}{m_n}}\n",
    "\\end{gather}\n",
    "which is the most probable velocity in a Maxwell-Boltzmann distribution.\n",
    "\n",
    "For simplicity, this notebook considers an isolated reaction chain. In other words the only reactions considered are neutron captures along the chain and out of the chain.  Cross sections are computed from imported network data giving thermally-averaged neutron capture rates $N_A \\langle \\sigma v\\rangle$, with $N_A$ Avogadro's number.  Then $\\sigma_n = \\langle \\sigma v \\rangle / v_T$.  With cross sections and initial abundances available, the notebook solves the network equations numerically.  The resulting abundances can be compared to presolar grain data."
   ]
  },
  {
   "cell_type": "markdown",
   "id": "9c8a91f5",
   "metadata": {},
   "source": [
    "## Preliminaries \n",
    "\n",
    "Begin by importing the necessary libraries:"
   ]
  },
  {
   "cell_type": "code",
   "execution_count": 1,
   "id": "ef9273c0",
   "metadata": {},
   "outputs": [],
   "source": [
    "import sys, subprocess, pkg_resources\n",
    "import os, io, requests\n",
    "required = {'numpy','wnutils', 'wnnet', 'matplotlib', 'gslconsts', 'scipy', 'ipywidgets', 'xmlcoll'}\n",
    "installed = {pkg.key for pkg in pkg_resources.working_set}\n",
    "missing = required - installed\n",
    "\n",
    "if missing:\n",
    "    subprocess.check_call([sys.executable,'-m','pip','install','--quiet',*missing])\n",
    "\n",
    "import wnnet as wn \n",
    "import wnutils.xml as wx\n",
    "import matplotlib.pyplot as plt\n",
    "import ipywidgets as widgets\n",
    "import re\n",
    "from ipywidgets import interact, fixed\n",
    "import numpy as np\n",
    "from gslconsts.consts import *\n",
    "from scipy.integrate import solve_ivp"
   ]
  },
  {
   "cell_type": "markdown",
   "id": "68d8f06d",
   "metadata": {},
   "source": [
    "Now define some functions for use in the notebook.  First define the differential equations for the network evolution."
   ]
  },
  {
   "cell_type": "code",
   "execution_count": 2,
   "id": "5b6fc0f2",
   "metadata": {},
   "outputs": [],
   "source": [
    "def dYdt(t, y, sigs):\n",
    "    N = len(y)\n",
    "    result = np.zeros(N)\n",
    "    result[0] = -sigs[0]*y[0]\n",
    "    for i in range(1, N):\n",
    "        result[i] = sigs[i-1]*y[i-1] - sigs[i]*y[i]\n",
    "    return result"
   ]
  },
  {
   "cell_type": "markdown",
   "id": "9410c8ab",
   "metadata": {},
   "source": [
    "Now define a function to retrieve the solar abundances from an XML data file."
   ]
  },
  {
   "cell_type": "code",
   "execution_count": 3,
   "id": "25ecba99",
   "metadata": {},
   "outputs": [],
   "source": [
    "def get_solar_abundances(solar_xml):    \n",
    "    solar_data = solar_xml.get_zone_data()\n",
    "    x_solar = solar_data[\"0\"][\"mass fractions\"]\n",
    "    \n",
    "    result = {}\n",
    "    \n",
    "    for tup, value in x_solar.items():\n",
    "        result[tup[0]] = value / tup[2]\n",
    "            \n",
    "    return result"
   ]
  },
  {
   "cell_type": "markdown",
   "id": "99f68c13",
   "metadata": {},
   "source": [
    "Now define a function to retrieve cross sections."
   ]
  },
  {
   "cell_type": "code",
   "execution_count": 4,
   "id": "821366ef",
   "metadata": {},
   "outputs": [],
   "source": [
    "def get_sigs(net, t9):\n",
    "    \n",
    "    v_T = np.sqrt((2. * GSL_CONST_CGS_BOLTZMANN * t9 * 1.e9) / GSL_CONST_CGS_MASS_NEUTRON)\n",
    "\n",
    "    reacs = net.get_reactions(reac_xpath=\"[reactant = 'n' and product = 'gamma']\")\n",
    "    \n",
    "    result = {}\n",
    "    for reac in reacs.values():\n",
    "        reactant = \"\"\n",
    "        for r in reac.reactants:\n",
    "            if r != \"n\":\n",
    "                reactant = r\n",
    "                break\n",
    "        result[reactant] = reac.compute_rate(t9) / (v_T * GSL_CONST_NUM_AVOGADRO * 1.e-3 * GSL_CONST_CGS_BARN)\n",
    "        \n",
    "    return result"
   ]
  },
  {
   "cell_type": "markdown",
   "id": "2bdc700b",
   "metadata": {},
   "source": [
    "Now, import the data that will be used throughout this notebook. Execution of this cell will take a few minutes. The *solar_xml* object contains the mass fractions of isotopes in the solar system and the *net* object contains the nuclear reaction network data."
   ]
  },
  {
   "cell_type": "code",
   "execution_count": 5,
   "id": "415dbd05",
   "metadata": {},
   "outputs": [],
   "source": [
    "solar_xml = wx.Xml(io.BytesIO(requests.get(\"https://osf.io/j67qa/download\").content))\n",
    "net = wn.net.Net(io.BytesIO(requests.get('https://osf.io/vqhxr/download').content))"
   ]
  },
  {
   "cell_type": "markdown",
   "id": "8fda5a21",
   "metadata": {},
   "source": [
    "## Set the network, grain data (if desired), and solar abundances.\n",
    "In this section, define a network by setting the list of species in the isotope chain.  Also define the normalizing species."
   ]
  },
  {
   "cell_type": "code",
   "execution_count": 6,
   "id": "08cfc845",
   "metadata": {},
   "outputs": [],
   "source": [
    "species = ['ni56','ni57','ni58','ni59','ni60','ni61','ni62','ni63','ni64']\n",
    "normalizing_species = 'ni58'"
   ]
  },
  {
   "cell_type": "markdown",
   "id": "a0873340",
   "metadata": {},
   "source": [
    "It is possible to compare the network calculations to presolar grain data.  To do so, add the grain data here.  Construct an array of grains.  For each grain, construct a dictionary that provides the mass number, the abundance relative to solar (and relative to the same ratio for the normalizing species), and the error.  In the example below, data are shown for a silicon nitride grain.  The data are abundance relative to solar compare to the same ratio for the normalizing species $^{58}$Ni.  Adjust and/or add appropriate data."
   ]
  },
  {
   "cell_type": "code",
   "execution_count": 7,
   "id": "b3b82e41",
   "metadata": {},
   "outputs": [],
   "source": [
    "grains = [\n",
    "    {'name': 'C grain',\n",
    "     'a': [60, 61, 62, 63, 64],\n",
    "     'data': [1.44, 9.25, 9.02, 6.58, 22.27],\n",
    "     'error': [0.07, 0.81, 0.50, 0.36, 1.29]\n",
    "    }\n",
    "]\n",
    "\n",
    "for g in grains:\n",
    "    assert len(g['a']) == len(g['data']) == len(g['error'])"
   ]
  },
  {
   "cell_type": "markdown",
   "id": "0ab66d8e",
   "metadata": {},
   "source": [
    "The following cell retrieves data about the isotope chain."
   ]
  },
  {
   "cell_type": "code",
   "execution_count": 8,
   "id": "06fa07d7",
   "metadata": {},
   "outputs": [],
   "source": [
    "nucs = net.get_nuclides()\n",
    "a = [nucs[sp]['a'] for sp in species]\n",
    "element = re.findall(r\"\\{(.*?)\\}\", solar_xml.get_latex_names(species)[species[0]])[1]"
   ]
  },
  {
   "cell_type": "markdown",
   "id": "9e4950ae",
   "metadata": {},
   "source": [
    "Now get the solar abundances and print out those abundances for species in the network."
   ]
  },
  {
   "cell_type": "code",
   "execution_count": 9,
   "id": "7cfbc30f",
   "metadata": {},
   "outputs": [
    {
     "name": "stdout",
     "output_type": "stream",
     "text": [
      "ni58 9.516363546660246e-07\n",
      "ni60 3.664886388455985e-07\n",
      "ni61 1.5938103109707244e-08\n",
      "ni62 5.079722036983758e-08\n",
      "ni64 1.2925947843102022e-08\n"
     ]
    }
   ],
   "source": [
    "dict_solar = get_solar_abundances(solar_xml)\n",
    "\n",
    "for sp in species:\n",
    "    if sp in dict_solar:\n",
    "        print(sp, dict_solar[sp])"
   ]
  },
  {
   "cell_type": "markdown",
   "id": "b33dba7e",
   "metadata": {},
   "source": [
    "Now modify the solar abundances if desired.  The example shows setting the $^{63}$Ni solar abundance to that of its daughter $^{63}$Cu."
   ]
  },
  {
   "cell_type": "code",
   "execution_count": 10,
   "id": "f68d6e9a",
   "metadata": {},
   "outputs": [],
   "source": [
    "dict_solar['ni63'] = dict_solar['cu63']"
   ]
  },
  {
   "cell_type": "markdown",
   "id": "d610844b",
   "metadata": {},
   "source": [
    "Print out the modified solar abundances and set the mass number array."
   ]
  },
  {
   "cell_type": "code",
   "execution_count": 11,
   "id": "bc39cbad",
   "metadata": {},
   "outputs": [
    {
     "name": "stdout",
     "output_type": "stream",
     "text": [
      "ni58    9.516e-07\n",
      "ni60    3.665e-07\n",
      "ni61    1.594e-08\n",
      "ni62    5.080e-08\n",
      "ni63    1.066e-08\n",
      "ni64    1.293e-08\n"
     ]
    }
   ],
   "source": [
    "a_solar = []\n",
    "for sp in species:\n",
    "    if sp in dict_solar:\n",
    "        print(f\"{sp}    {dict_solar[sp]:.3e}\")\n",
    "        a_solar.append(nucs[sp]['a'])"
   ]
  },
  {
   "cell_type": "markdown",
   "id": "d83d0614",
   "metadata": {},
   "source": [
    "## Set the initial network abundances\n",
    "In this section, define the initial abundances for the network.  These are taken to be the solar abundances by default, but they can be modified if desired."
   ]
  },
  {
   "cell_type": "code",
   "execution_count": 12,
   "id": "650d3908",
   "metadata": {},
   "outputs": [],
   "source": [
    "initial_abunds = []\n",
    "for sp in species:\n",
    "    if sp in dict_solar:\n",
    "        initial_abunds.append(dict_solar[sp])\n",
    "    else:\n",
    "        initial_abunds.append(0)"
   ]
  },
  {
   "cell_type": "markdown",
   "id": "024eb7a3",
   "metadata": {},
   "source": [
    "Print out the initial (solar) abundances for each isotope in the network."
   ]
  },
  {
   "cell_type": "code",
   "execution_count": 13,
   "id": "95a33e2b",
   "metadata": {},
   "outputs": [
    {
     "name": "stdout",
     "output_type": "stream",
     "text": [
      "ni56    0.000e+00\n",
      "ni57    0.000e+00\n",
      "ni58    9.516e-07\n",
      "ni59    0.000e+00\n",
      "ni60    3.665e-07\n",
      "ni61    1.594e-08\n",
      "ni62    5.080e-08\n",
      "ni63    1.066e-08\n",
      "ni64    1.293e-08\n"
     ]
    }
   ],
   "source": [
    "for i, sp in enumerate(species):\n",
    "    print(f\"{sp}    {initial_abunds[i]:.3e}\")"
   ]
  },
  {
   "cell_type": "markdown",
   "id": "c13c5d2d",
   "metadata": {},
   "source": [
    "Modify the initial abundances.  The commented examples show how to do this.  The first increases the existing abundance by a factor.  The second resets an initial abundance.  Uncomment and adjust/add modifications."
   ]
  },
  {
   "cell_type": "code",
   "execution_count": 14,
   "id": "e1cd3757",
   "metadata": {},
   "outputs": [],
   "source": [
    "#initial_abunds[species.index('ni58')] *= 1.1  # Increase ni58 abundance by 10%\n",
    "#initial_abunds[species.index('ni63')] = 0 # Reset ni63 abundance"
   ]
  },
  {
   "cell_type": "markdown",
   "id": "679dfb03",
   "metadata": {},
   "source": [
    "Print out the adjusted initial abundances."
   ]
  },
  {
   "cell_type": "code",
   "execution_count": 15,
   "id": "761a3c9f",
   "metadata": {},
   "outputs": [
    {
     "name": "stdout",
     "output_type": "stream",
     "text": [
      "ni56    0.000e+00\n",
      "ni57    0.000e+00\n",
      "ni58    9.516e-07\n",
      "ni59    0.000e+00\n",
      "ni60    3.665e-07\n",
      "ni61    1.594e-08\n",
      "ni62    5.080e-08\n",
      "ni63    1.066e-08\n",
      "ni64    1.293e-08\n"
     ]
    }
   ],
   "source": [
    "for i, sp in enumerate(species):\n",
    "    print(f\"{sp}    {initial_abunds[i]:.3e}\")"
   ]
  },
  {
   "cell_type": "markdown",
   "id": "c0ae8379",
   "metadata": {},
   "source": [
    "Finally, plot the initial abundances."
   ]
  },
  {
   "cell_type": "code",
   "execution_count": 16,
   "id": "363b25ce",
   "metadata": {},
   "outputs": [
    {
     "data": {
      "image/png": "[encoded data removed]",
      "text/plain": [
       "<Figure size 640x480 with 1 Axes>"
      ]
     },
     "metadata": {},
     "output_type": "display_data"
    }
   ],
   "source": [
    "fig, ax = plt.subplots()\n",
    "ax.plot(a, initial_abunds, 'o-')\n",
    "ax.set_xlabel(\"A, Mass Number\")\n",
    "ax.set_ylabel(f\"$Y(^i{element}$)\")\n",
    "plt.show()"
   ]
  },
  {
   "cell_type": "markdown",
   "id": "77b83647",
   "metadata": {},
   "source": [
    "## Cross sections\n",
    "In this section, compute the cross sections and modify them if desired.  First, define a temperature in $10^9$K to be used to compute the reaction rates."
   ]
  },
  {
   "cell_type": "code",
   "execution_count": 17,
   "id": "1f51938d",
   "metadata": {},
   "outputs": [],
   "source": [
    "t9 = 0.8"
   ]
  },
  {
   "cell_type": "markdown",
   "id": "8b25f0cd",
   "metadata": {},
   "source": [
    "Now, we compute the reaction rates for all neutron capture reactions at the provided temperature and print them out for the network."
   ]
  },
  {
   "cell_type": "code",
   "execution_count": 18,
   "id": "c8694c48",
   "metadata": {},
   "outputs": [
    {
     "name": "stdout",
     "output_type": "stream",
     "text": [
      "ni56    20.583 mb\n",
      "ni57    34.940 mb\n",
      "ni58    28.353 mb\n",
      "ni59    51.162 mb\n",
      "ni60    17.928 mb\n",
      "ni61    44.590 mb\n",
      "ni62    11.287 mb\n",
      "ni63    15.018 mb\n",
      "ni64    5.315 mb\n"
     ]
    }
   ],
   "source": [
    "sigs = get_sigs(net, t9)\n",
    "\n",
    "for sp in species:\n",
    "    print(f\"{sp}    {sigs[sp]:.3f} mb\")"
   ]
  },
  {
   "cell_type": "markdown",
   "id": "2a9f5085",
   "metadata": {},
   "source": [
    "Now modify the cross sections as appropriate.  The commented example shows how to increase the cross section for capture on $^{63}$Ni by a factor of three."
   ]
  },
  {
   "cell_type": "code",
   "execution_count": 19,
   "id": "1577678f",
   "metadata": {},
   "outputs": [],
   "source": [
    "#sigs['ni63'] *= 3"
   ]
  },
  {
   "cell_type": "markdown",
   "id": "fbc0a677",
   "metadata": {},
   "source": [
    "Print out the modified cross sections."
   ]
  },
  {
   "cell_type": "code",
   "execution_count": 20,
   "id": "9d77fde8",
   "metadata": {
    "scrolled": true
   },
   "outputs": [
    {
     "name": "stdout",
     "output_type": "stream",
     "text": [
      "ni56    20.583 mb\n",
      "ni57    34.940 mb\n",
      "ni58    28.353 mb\n",
      "ni59    51.162 mb\n",
      "ni60    17.928 mb\n",
      "ni61    44.590 mb\n",
      "ni62    11.287 mb\n",
      "ni63    15.018 mb\n",
      "ni64    5.315 mb\n"
     ]
    }
   ],
   "source": [
    "for sp in species:\n",
    "    print(f\"{sp}    {sigs[sp]:.3f} mb\")"
   ]
  },
  {
   "cell_type": "markdown",
   "id": "db1839d0",
   "metadata": {},
   "source": [
    "## Compute abundances and compare to grain data.\n",
    "In this sections, evolve the network abundances and compare to grain data.  First compute the abundances for a given exposure ($\\tau$) and compare to the initial abundances.  Vary the exposure by changing the value of $\\tau$ in the text box."
   ]
  },
  {
   "cell_type": "code",
   "execution_count": 21,
   "id": "20b30c58",
   "metadata": {},
   "outputs": [
    {
     "data": {
      "application/vnd.jupyter.widget-view+json": {
       "model_id": "56ea11a6db6d46b89c8c5b8af2e13125",
       "version_major": 2,
       "version_minor": 0
      },
      "text/plain": [
       "interactive(children=(BoundedFloatText(value=0.01, description='$\\\\tau\\\\ (mb^{-1}):$', max=1.0, step=0.01), Ou…"
      ]
     },
     "metadata": {},
     "output_type": "display_data"
    },
    {
     "data": {
      "text/plain": [
       "<function __main__.compute_abundances(tau, species, sigmas, initial_abunds)>"
      ]
     },
     "execution_count": 21,
     "metadata": {},
     "output_type": "execute_result"
    }
   ],
   "source": [
    "def compute_abundances(tau, species, sigmas, initial_abunds):\n",
    "    \n",
    "    sigs_array = [sigmas[sp] for sp in species]\n",
    "\n",
    "    sol = solve_ivp(dYdt, (0, tau), initial_abunds, args=(sigs_array,), max_step=0.001)\n",
    "    \n",
    "    print(f\"For tau (mb^{-1}) = {tau:.3f}:\\n\")\n",
    "        \n",
    "    for i in range(len(species)):\n",
    "        print(f\"{species[i]}:   Y(0) = {initial_abunds[i]:.3e},   Y(tau) = {sol.y[i, -1]:.3e}\")\n",
    "        \n",
    "\n",
    "interact(\n",
    "    compute_abundances,\n",
    "    tau=widgets.BoundedFloatText(value=0.01, min=0.0, max=1, step=0.01, description='$\\\\tau\\ (mb^{-1}):$'),\n",
    "    species=fixed(species),\n",
    "    sigmas=fixed(sigs),\n",
    "    initial_abunds=fixed(initial_abunds)\n",
    ")"
   ]
  },
  {
   "cell_type": "markdown",
   "id": "714935bf",
   "metadata": {},
   "source": [
    "Now plot the abundances.  Shown are the initial abundances and the abundances after exposure $\\tau$."
   ]
  },
  {
   "cell_type": "code",
   "execution_count": 22,
   "id": "fcb410e6",
   "metadata": {},
   "outputs": [
    {
     "data": {
      "application/vnd.jupyter.widget-view+json": {
       "model_id": "fad34be9cc70474582bf7109cff9dade",
       "version_major": 2,
       "version_minor": 0
      },
      "text/plain": [
       "interactive(children=(BoundedFloatText(value=0.01, description='$\\\\tau\\\\ (mb^{-1}):$', max=1.0, step=0.01), Ou…"
      ]
     },
     "metadata": {},
     "output_type": "display_data"
    },
    {
     "data": {
      "text/plain": [
       "<function __main__.plot_abundances(tau, species, a, sigmas, initial_abunds)>"
      ]
     },
     "execution_count": 22,
     "metadata": {},
     "output_type": "execute_result"
    }
   ],
   "source": [
    "def plot_abundances(tau, species, a, sigmas, initial_abunds):\n",
    "\n",
    "    sigs_array = [sigmas[sp] for sp in species]\n",
    "\n",
    "    sol = solve_ivp(dYdt, (0, tau), initial_abunds, args=(sigs_array,), max_step=0.001)\n",
    "    \n",
    "    plt.plot(a, sol.y[:,-1], 'o-', label=\"Final abundances\")\n",
    "    plt.plot(a, initial_abunds, 'o:', label=\"Initial abundances\")\n",
    "    plt.xlabel('A, Mass Number')\n",
    "    plt.ylabel('Abundance per nucleon')\n",
    "    plt.legend()\n",
    "    plt.title('$\\\\tau$ = {:.3f} $mb^{{-1}}$'.format(tau))\n",
    "\n",
    "interact(\n",
    "    plot_abundances,\n",
    "    tau=widgets.BoundedFloatText(value=0.01, min=0.0, max=1, step=0.01, description='$\\\\tau\\ (mb^{-1}):$'),\n",
    "    a=fixed(a),\n",
    "    species=fixed(species),\n",
    "    sigmas=fixed(sigs),\n",
    "    initial_abunds=fixed(initial_abunds)\n",
    ")"
   ]
  },
  {
   "cell_type": "markdown",
   "id": "d3f0fa21",
   "metadata": {},
   "source": [
    "Compare the evolved abundances to solar (relative to the normalizing species).  Grain data can be optionally displayed with the checkbox. Additionally, if one would like to compare the results of a different set of nuclear capture cross sections one can create the sigmas_mod dictionary and uncomment the lines in the plot_vs_solar function. "
   ]
  },
  {
   "cell_type": "code",
   "execution_count": 23,
   "id": "43dc57a1",
   "metadata": {},
   "outputs": [
    {
     "data": {
      "application/vnd.jupyter.widget-view+json": {
       "model_id": "ea91bf9ae541482897375d44236767a9",
       "version_major": 2,
       "version_minor": 0
      },
      "text/plain": [
       "interactive(children=(BoundedFloatText(value=0.01, description='$\\\\tau\\\\ (mb^{-1}):$', max=0.3, step=0.01), Ch…"
      ]
     },
     "metadata": {},
     "output_type": "display_data"
    },
    {
     "data": {
      "text/plain": [
       "<function __main__.plot_vs_solar(tau, species, sigmas, sigs_mod, initial_abunds, dict_solar, show_grain)>"
      ]
     },
     "execution_count": 23,
     "metadata": {},
     "output_type": "execute_result"
    }
   ],
   "source": [
    "sigmas_mod = {}\n",
    "#for sp in species:\n",
    "#    sigmas_mod[sp] = sigs[sp]\n",
    "#sigmas_mod['ni63'] *= 4.5\n",
    "\n",
    "def plot_vs_solar(tau, species, sigmas, sigs_mod, initial_abunds, dict_solar, show_grain):\n",
    "    \n",
    "    sigs_array = [sigmas[sp] for sp in species]\n",
    "#    sigs_mod_array = [sigs_mod[sp] for sp in species]\n",
    "\n",
    "    sol = solve_ivp(dYdt, (0, tau), initial_abunds, args=(sigs_array,), max_step=0.001)\n",
    "#    sol_mod = solve_ivp(dYdt, (0, tau), initial_abunds, args = (sigs_mod_array,), max_step = 0.001)\n",
    "\n",
    "    f = dict_solar[normalizing_species]/sol.y[species.index(normalizing_species),-1]\n",
    "    sol_normalized = []\n",
    "#    sol_mod_normalized = []\n",
    "    for i in range(len(sol.y)):\n",
    "        if species[i] in dict_solar:\n",
    "            sol_normalized.append((sol.y[i,-1]/dict_solar[species[i]])*f)\n",
    "#            sol_mod_normalized.append((sol_mod.y[i,-1]/dict_solar[species[i]])*f)\n",
    "\n",
    "    fig, ax = plt.subplots() \n",
    "    ax.plot(a_solar, np.array(sol_normalized), 'o-', label = r'Network')\n",
    "#    ax.plot(a_solar, np.array(sol_mod_normalized), 'o-', label = r'Network($\\sigma_n$($^{63}$Ni)x4.5)')\n",
    "    if show_grain == True:\n",
    "        for i in range(len(grains)):\n",
    "            ax.errorbar(grains[i]['a'], grains[i]['data'], yerr = grains[i]['error'], label = grains[i]['name'])\n",
    "    ax.set_xlabel(\"A, Mass Number\")\n",
    "    ax.set_ylabel('Ratio/Solar')\n",
    "    ax.set_title('$\\\\tau$ = {:.3f} $mb^{{-1}}$'.format(tau))\n",
    "    ax.legend()\n",
    "    plt.show()\n",
    "    ax.clear()\n",
    "\n",
    "interact(\n",
    "    plot_vs_solar,\n",
    "    tau=widgets.BoundedFloatText(value=0.01, min=0.0, max=0.3, step=0.01, description='$\\\\tau\\ (mb^{-1}):$'),\n",
    "    species=fixed(species),\n",
    "    sigmas=fixed(sigs),\n",
    "    sigs_mod = fixed(sigmas_mod),\n",
    "    initial_abunds=fixed(initial_abunds),\n",
    "    dict_solar=fixed(dict_solar),\n",
    "    show_grain = widgets.Checkbox(value = False, description = \"Display Grain Data\")\n",
    ")"
   ]
  }
 ],
 "metadata": {
  "kernelspec": {
   "display_name": "Python 3",
   "language": "python",
   "name": "python3"
  },
  "language_info": {
   "codemirror_mode": {
    "name": "ipython",
    "version": 3
   },
   "file_extension": ".py",
   "mimetype": "text/x-python",
   "name": "python",
   "nbconvert_exporter": "python",
   "pygments_lexer": "ipython3",
   "version": "3.9.1"
  }
 },
 "nbformat": 4,
 "nbformat_minor": 5
}

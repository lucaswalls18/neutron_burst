{
 "cells": [
  {
   "cell_type": "markdown",
   "id": "7f8779eb",
   "metadata": {},
   "source": [
    "# Neutron Burst\n",
    "\n",
    "The neutron burst may happen in high mass stars during a supernova blast leaving behind characteristic nucleosynthesis signatures in presolar grains. The neutron burst occurs when neutron number densities are sufficiently high ($\\sim 10^{17}$ neutrons/cm$^{-3}$) to capture up an isotopic chain in a manner similar to the r-process, though with much lower neutron exposures and therefore less neutron rich products. \n",
    "\n",
    "For a glipse at this kind of network, consider the following neutron capture chain:\n",
    "\\begin{gather}\n",
    "1 + n \\rightarrow 2 + \\gamma\\notag\\\\\n",
    "2 + n \\rightarrow 3 + \\gamma\\notag\\\\\n",
    "3 + n \\rightarrow 4 + \\gamma\\notag\n",
    "\\end{gather}\n",
    "\n",
    "To solve this network numerically we have the coupled differential equations:\n",
    "\\begin{gather}\n",
    "\\frac{dY_1}{d\\tau} = -\\sigma_{n,1} Y_1\\\\\n",
    "\\frac{dY_2}{d\\tau} = \\sigma_{n,1} Y_1 - \\sigma_{n,2}Y_2\\\\\n",
    "\\frac{dY_3}{d\\tau} = \\sigma_{n,2} Y_2 - \\sigma_{n,3}Y_3\\\\\n",
    "\\frac{dY_4}{d\\tau} = \\sigma_{n,3} Y_3 \n",
    "\\end{gather}\n",
    "where the $\\sigma_n$ are the neutron capture cross sections for each species and $\\tau$ is the neutron exposure (units of inverse area). \n",
    "\n",
    "For simplicity, this notebook considers an isolated reaction chain. In other words the only reactions considered are neutron captures along the chain and out of the chain."
   ]
  },
  {
   "cell_type": "markdown",
   "id": "9c8a91f5",
   "metadata": {},
   "source": [
    "## Solving the network \n",
    "\n",
    "We begin by importing the necessary libraries:"
   ]
  },
  {
   "cell_type": "code",
   "execution_count": null,
   "id": "ef9273c0",
   "metadata": {},
   "outputs": [],
   "source": [
    "import sys, subprocess, pkg_resources\n",
    "import os, io, requests\n",
    "required = {'numpy','wnutils', 'wnnet', 'matplotlib', 'gslconsts', 'scipy', 'ipywidgets', 'xmlcoll'}\n",
    "installed = {pkg.key for pkg in pkg_resources.working_set}\n",
    "missing = required - installed\n",
    "\n",
    "if missing:\n",
    "    subprocess.check_call([sys.executable,'-m','pip','install','--quiet',*missing])\n",
    "\n",
    "import wnnet as wn \n",
    "import wnutils.xml as wx\n",
    "import xmlcoll as xc\n",
    "import matplotlib.pyplot as plt\n",
    "import ipywidgets as widgets\n",
    "from ipywidgets import interact, fixed\n",
    "import numpy as np\n",
    "from gslconsts.consts import *\n",
    "from scipy.integrate import solve_ivp"
   ]
  },
  {
   "cell_type": "markdown",
   "id": "68d8f06d",
   "metadata": {},
   "source": [
    "Now we define a function to integrate the network numerically:"
   ]
  },
  {
   "cell_type": "code",
   "execution_count": null,
   "id": "5b6fc0f2",
   "metadata": {},
   "outputs": [],
   "source": [
    "def dYdt(t, y, sigs):\n",
    "    N = len(y)\n",
    "    result = np.zeros(N)\n",
    "    result[0] = -sigs[0]*y[0]\n",
    "    for i in range(1, N):\n",
    "        result[i] = sigs[i-1]*y[i-1] - sigs[i]*y[i]\n",
    "    return result"
   ]
  },
  {
   "cell_type": "markdown",
   "id": "2bdc700b",
   "metadata": {},
   "source": [
    "Now, we import the data that will be used throughout this notebook. Execution of this cell will take a minute. The 'solar_xml' contains the mass fractions of isotopes in the solar system and the 'net' contains details on nuclear reaction rates for computing the neutron burst network. "
   ]
  },
  {
   "cell_type": "code",
   "execution_count": null,
   "id": "024e6d87",
   "metadata": {},
   "outputs": [],
   "source": [
    "solar_xml = wx.Xml(\n",
    "        io.BytesIO(requests.get(\"https://osf.io/w8ktc/download\").content))\n",
    "net = wn.net.Net(io.BytesIO(requests.get('https://osf.io/vqhxr/download').content))"
   ]
  },
  {
   "cell_type": "markdown",
   "id": "8fda5a21",
   "metadata": {},
   "source": [
    "### Getting the initial abundances\n",
    "\n",
    "As a starting point, we will take the initial abundances to be that of solar (Lodders 2020). To obtain the abundances we define a function that uses the 'solar_xml' to obtain the mass fractions when given a list of isotopes in the chain:"
   ]
  },
  {
   "cell_type": "code",
   "execution_count": null,
   "id": "71dd70cd",
   "metadata": {},
   "outputs": [],
   "source": [
    "def get_solar_isotopes(isotopes):    \n",
    "    solar_data = solar_xml.get_zone_data()\n",
    "    x_solar = solar_data[\"0\"][\"mass fractions\"]\n",
    "\n",
    "    abunds = []\n",
    "    a = []\n",
    "    d = {}\n",
    "\n",
    "    for isotope in isotopes:\n",
    "        tup = solar_xml.get_z_a_state_from_nuclide_name(isotope)\n",
    "        s_tup = (isotope, tup[0], tup[1])\n",
    "        if s_tup in x_solar:\n",
    "            a.append(s_tup[2])\n",
    "            abunds.append(x_solar[s_tup] / tup[1])\n",
    "            d[s_tup[0]] = x_solar[s_tup] / tup[1]\n",
    "            \n",
    "    return a, d, abunds"
   ]
  },
  {
   "cell_type": "markdown",
   "id": "18936ede",
   "metadata": {},
   "source": [
    "Now we define a list of isotopes.  This is our network.  We also created a list of mass number for those isotopes."
   ]
  },
  {
   "cell_type": "code",
   "execution_count": null,
   "id": "08cfc845",
   "metadata": {},
   "outputs": [],
   "source": [
    "species = ['ca40','ca41','ca42','ca43','ca44','ca45','ca46','ca47','ca48','ca49','ca50']\n",
    "a_species = []\n",
    "nucs = net.get_nuclides()\n",
    "for sp in species:\n",
    "    assert sp in nucs\n",
    "    a_species.append(nucs[sp]['a'])"
   ]
  },
  {
   "cell_type": "markdown",
   "id": "9e4950ae",
   "metadata": {},
   "source": [
    "Now we use the get_solar_isotopes function to populate the abundance dictionary. The keys will be the isotope names and the value will be the abundances:"
   ]
  },
  {
   "cell_type": "code",
   "execution_count": null,
   "id": "7cfbc30f",
   "metadata": {},
   "outputs": [],
   "source": [
    "a_solar, d_solar, solar_abunds = get_solar_isotopes(species)\n",
    "    \n",
    "isotope_abunds = np.zeros(len(species))\n",
    "for k, v in d_solar.items():\n",
    "    isotope_abunds[species.index(k)] = v"
   ]
  },
  {
   "cell_type": "markdown",
   "id": "c0ae8379",
   "metadata": {},
   "source": [
    "Finally, we can plot the initial abundances."
   ]
  },
  {
   "cell_type": "code",
   "execution_count": null,
   "id": "363b25ce",
   "metadata": {},
   "outputs": [],
   "source": [
    "fig, ax = plt.subplots()\n",
    "ax.plot(a_solar, solar_abunds, 'o-', label = 'Lodders')\n",
    "ax.set_yscale('log')\n",
    "ax.set_xlabel(r'$^{i} Ca$', fontsize = 14)\n",
    "ax.set_ylabel(r'$Y$($^i$Ca)') \n",
    "ax.legend()\n",
    "plt.show()"
   ]
  },
  {
   "cell_type": "markdown",
   "id": "77b83647",
   "metadata": {},
   "source": [
    "### Plotting the abundances vs. neutron exposure \n",
    "\n",
    "We can use the initial abundances and the scipy.integrate function to solve the system of ODE's presented above. In order to do this we need to obtain the neutron capture cross sections ($\\sigma_i$) using the wnnet package. "
   ]
  },
  {
   "cell_type": "markdown",
   "id": "455d1c81",
   "metadata": {},
   "source": [
    "First, we define a temperature in $10^9$K to be used to compute the reaction rates."
   ]
  },
  {
   "cell_type": "code",
   "execution_count": null,
   "id": "1f51938d",
   "metadata": {},
   "outputs": [],
   "source": [
    "t9 = 1"
   ]
  },
  {
   "cell_type": "markdown",
   "id": "8b25f0cd",
   "metadata": {},
   "source": [
    "Now, we compute the reaction rates for all neutron capture reactions at the provided temperature:"
   ]
  },
  {
   "cell_type": "code",
   "execution_count": null,
   "id": "c8694c48",
   "metadata": {},
   "outputs": [],
   "source": [
    "induced_reac_xpath = \"[reactant = 'n' and product = 'gamma']\"\n",
    "reacs = net.compute_rates(t9, reac_xpath = induced_reac_xpath)\n",
    "rates = []\n",
    "for key, values in list(reacs.items()):\n",
    "    rates.append(values[0])"
   ]
  },
  {
   "cell_type": "markdown",
   "id": "1d290462",
   "metadata": {},
   "source": [
    "Next, we can obtain a dictionary of the reactions for strictly the species in our reaction chain: "
   ]
  },
  {
   "cell_type": "code",
   "execution_count": null,
   "id": "f8acfd2a",
   "metadata": {},
   "outputs": [],
   "source": [
    "ordered_dict = {}\n",
    "\n",
    "for sp in species:\n",
    "    for key, value in net.get_reactions(reac_xpath = induced_reac_xpath).items():\n",
    "        if sp in value.reactants:\n",
    "            ordered_dict[sp] = reacs[key][0]"
   ]
  },
  {
   "cell_type": "markdown",
   "id": "2a9f5085",
   "metadata": {},
   "source": [
    "Now that we have obtained the rates, we can get the cross sections by noting:\n",
    "\\begin{gather}\n",
    "r(T) = N_A <\\sigma v>(T)\n",
    "\\end{gather}\n",
    "and the thermal velocity is given by:\n",
    "\\begin{gather}\n",
    "v_T = \\sqrt{\\frac{2k_BT}{m_n}}\n",
    "\\end{gather}\n",
    "which represents the most probable velocity in a Maxwell-Boltzmann distribution. We then compute the cross sections:"
   ]
  },
  {
   "cell_type": "code",
   "execution_count": null,
   "id": "49e8940e",
   "metadata": {},
   "outputs": [],
   "source": [
    "k = GSL_CONST_CGS_BOLTZMANN\n",
    "N_A = GSL_CONST_NUM_AVOGADRO\n",
    "m_n = GSL_CONST_CGS_MASS_NEUTRON\n",
    "\n",
    "T = t9 * 10**9\n",
    "v_T = np.sqrt((2*k*T)/m_n)\n",
    "\n",
    "sigs_array = []\n",
    "for key, value in ordered_dict.items():\n",
    "    sigs_array.append(1000*value/(v_T*N_A*wn.consts.GSL_CONST_CGSM_BARN))"
   ]
  },
  {
   "cell_type": "markdown",
   "id": "1a4db1af",
   "metadata": {},
   "source": [
    "Finally we solve the network and plot the results:"
   ]
  },
  {
   "cell_type": "code",
   "execution_count": null,
   "id": "a1e07535",
   "metadata": {},
   "outputs": [],
   "source": [
    "tau = np.linspace(0.001, 5, 100)\n",
    "\n",
    "sol = solve_ivp(dYdt, [tau[0], tau[len(tau)-1]], isotope_abunds, args=(sigs_array,), max_step=0.001)\n",
    "\n",
    "#plot results\n",
    "fig, ax = plt.subplots()\n",
    "ax.plot(sol.t, sol.y[species.index('ca46'), :], ':', label = solar_xml.get_latex_names(['ca46'])['ca46'])\n",
    "ax.set_yscale('log')\n",
    "plt.legend()\n",
    "plt.xlabel(r'$\\tau$')\n",
    "plt.ylabel('Abundance')\n",
    "plt.show()"
   ]
  },
  {
   "cell_type": "markdown",
   "id": "ba672fac",
   "metadata": {},
   "source": [
    "### Exploring final abundances \n",
    "Now we would like to explore the final abundances of all isotopes in the chain subject to different exposures. One would also likely want initial abundances to be near solar, however varying the initial compositions can impact the final abundances to more accurately describe the abundances observed in presolar grains. "
   ]
  },
  {
   "cell_type": "markdown",
   "id": "af4a3576",
   "metadata": {},
   "source": [
    "Now, we create the interactive plot. The widgets can be used to vary the neutron exposure $\\tau$:"
   ]
  },
  {
   "cell_type": "code",
   "execution_count": null,
   "id": "70cbc3c7",
   "metadata": {},
   "outputs": [],
   "source": [
    "def plot_nuclear_network(tau, abunds):\n",
    "\n",
    "    sol = solve_ivp(dYdt, (0, tau), abunds, args=(sigs_array,), max_step=0.001)\n",
    "\n",
    "    fig, ax = plt.subplots()\n",
    "    ax.plot(a_solar, solar_abunds, 'o:', label=\"Lodders\")\n",
    "\n",
    "    ax.plot(a_species, sol.y[:,-1], 'o-', label = 'Network')\n",
    "    #ax.set_xticks(range(min(a), max(a) + 1, 1))\n",
    "    ax.set_xlabel(r'$^{i}Ca$')  #Modify element symbol for different abundance chain\n",
    "    ax.set_ylabel('Abundance')\n",
    "    ax.set_title('$\\\\tau$ = {:.3f} $mb^{{-1}}$'.format(tau))\n",
    "    ax.set_yscale('log')\n",
    "    ax.set_ylim([1.e-12, 1.e-5])\n",
    "    ax.legend()\n",
    "    plt.show()\n",
    "    ax.clear()\n",
    "\n",
    "interact(\n",
    "    plot_nuclear_network,\n",
    "    tau=widgets.BoundedFloatText(value=0.0, min=0.0, max=5.0, step=0.001, description='τ'),\n",
    "    abunds=fixed(isotope_abunds),\n",
    ")"
   ]
  },
  {
   "cell_type": "markdown",
   "id": "49d8f591",
   "metadata": {},
   "source": [
    "## Comparison to data\n",
    "Here we compare the results of the neutron burst network calculation to that of presolar grain data. Grain data is reported in abundance ratios or by $\\delta$ values given by for example a calcium isotope:\n",
    "\\begin{gather}\n",
    "\\delta(^{i}Ca) = \\Big(\\frac{\\big(\\frac{^iCa}{^{40}Ca} \\big)_{meas}}{\\big(\\frac{^iCa}{^{40}Ca} \\big)_{std}} -1\\Big)\\times 10^3 \n",
    "\\end{gather}\n",
    "\n",
    "This relationship allows for us to compare grain data (reported in $\\delta$ values) to network results. To make the comparison, enter a list of grain data.  Each entry in the list is a dictionary with entries for the grain *name*, a list giving the mass number of each isotop for which there are data, a list giving the delta values, and a list giving the error on the delta values.  The last line of the cell checks for consistency of the input by checking that the length of each list is the same for each grain."
   ]
  },
  {
   "cell_type": "code",
   "execution_count": null,
   "id": "f4efee04",
   "metadata": {},
   "outputs": [],
   "source": [
    "normalizing_species = 'ca40'\n",
    "\n",
    "grains = [\n",
    "    {'name': 'grain 1',\n",
    "     'a': [40, 42, 43, 44, 46, 48],\n",
    "     'data': [0, 318, 1488, 98., 34091, -235],\n",
    "     'error': [0.001, 44, 141, 23, 221, 4]\n",
    "    }\n",
    "]\n",
    "\n",
    "for g in grains:\n",
    "    assert len(g['a']) == len(g['data']) == len(g['error'])"
   ]
  },
  {
   "cell_type": "markdown",
   "id": "e7456ad8",
   "metadata": {},
   "source": [
    "Graph the grain data and network results as a function of mass number for varying neutron exposure $\\tau$ in units of inverse millibarns."
   ]
  },
  {
   "cell_type": "code",
   "execution_count": null,
   "id": "9b3ab4ac",
   "metadata": {},
   "outputs": [],
   "source": [
    "def compare_nuclear_network(tau, isotope_abundances):\n",
    "    sol = solve_ivp(dYdt, (0, tau), isotope_abunds, args=(sigs_array,), max_step=0.001)\n",
    "    \n",
    "    delta = []\n",
    "    for sp in d_solar:\n",
    "        delta.append(1000 * ((sol.y[species.index(sp), -1] / d_solar[sp]) / \n",
    "                             (sol.y[species.index(normalizing_species),-1] / d_solar[normalizing_species]) - 1))\n",
    "    \n",
    "    fig, ax = plt.subplots()\n",
    "    \n",
    "    for g in grains:\n",
    "        ax.errorbar(g['a'], g['data'], yerr = g['error'], fmt = 'o', label = g['name'])\n",
    "\n",
    "    ax.plot(a_solar, delta, 'o:', label=\"Network\")\n",
    "    \n",
    "    ax.set_xlabel('Mass Number')  #Modify element symbol for different abundance chain\n",
    "    ax.set_ylabel('$\\\\delta$')\n",
    "    ax.set_title('$\\\\tau$ = {:.3f} $mb^{{-1}}$'.format(tau))\n",
    "    ax.legend()\n",
    "    plt.show()\n",
    "    ax.clear()\n",
    "    \n",
    "interact(\n",
    "    compare_nuclear_network,\n",
    "    tau=widgets.BoundedFloatText(value=.0, min=0.0, max=5, step=0.001, description='τ'),\n",
    "    isotope_abundances=fixed(isotope_abunds),\n",
    "    #**sliders\n",
    ")"
   ]
  }
 ],
 "metadata": {
  "kernelspec": {
   "display_name": "Python 3",
   "language": "python",
   "name": "python3"
  },
  "language_info": {
   "codemirror_mode": {
    "name": "ipython",
    "version": 3
   },
   "file_extension": ".py",
   "mimetype": "text/x-python",
   "name": "python",
   "nbconvert_exporter": "python",
   "pygments_lexer": "ipython3",
   "version": "3.9.1"
  }
 },
 "nbformat": 4,
 "nbformat_minor": 5
}

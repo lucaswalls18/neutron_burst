{
 "cells": [
  {
   "cell_type": "markdown",
   "id": "7f8779eb",
   "metadata": {},
   "source": [
    "# Neutron Burst\n",
    "\n",
    "The neutron burst may happen in high mass stars during a supernova blast leaving behind its characteristic signatures in presolar grains. The neutron burst occurs when neutron number densities are sufficiently high ($\\sim 10^{17}$) to capture up an isotopic chain in a manner similar to the r-process, though with much lower reaction rates and therefore less neutron rich products. \n",
    "\n",
    "Consider the following neutron capture chain:\n",
    "\\begin{gather}\n",
    "1 + n \\rightarrow 2 + \\gamma\\notag\\\\\n",
    "2 + n \\rightarrow 3 + \\gamma\\notag\\\\\n",
    "3 + n \\rightarrow 4 + \\gamma\\notag\n",
    "\\end{gather}\n",
    "\n",
    "To solve this network numerically we have the coupled differential equations:\n",
    "\\begin{gather}\n",
    "\\frac{dY_1}{d\\tau} = -\\sigma_{n,1} Y_1\\\\\n",
    "\\frac{dY_2}{d\\tau} = \\sigma_{n,1} Y_1 - \\sigma_{n,2}Y_2\\\\\n",
    "\\frac{dY_3}{d\\tau} = \\sigma_{n,2} Y_2 - \\sigma_{n,3}Y_3\\\\\n",
    "\\frac{dY_4}{d\\tau} = \\sigma_{n,3} Y_3 \n",
    "\\end{gather}\n",
    "where the $\\sigma_n$ are the neutron capture cross sections for each species."
   ]
  },
  {
   "cell_type": "markdown",
   "id": "9c8a91f5",
   "metadata": {},
   "source": [
    "## Solving the network \n",
    "\n",
    "We begin by importing the necessary libraries:"
   ]
  },
  {
   "cell_type": "code",
   "execution_count": null,
   "id": "ef9273c0",
   "metadata": {},
   "outputs": [],
   "source": [
    "import sys, subprocess, pkg_resources\n",
    "import os, io, requests\n",
    "required = {'numpy','wnutils', 'wnnet', 'matplotlib', 'gslconsts', 'scipy', 'ipywidgets', 'xmlcoll'}\n",
    "installed = {pkg.key for pkg in pkg_resources.working_set}\n",
    "missing = required - installed\n",
    "\n",
    "if missing:\n",
    "    subprocess.check_call([sys.executable,'-m','pip','install','--quiet',*missing])\n",
    "\n",
    "import wnnet as wn \n",
    "import wnutils.xml as wx\n",
    "import xmlcoll as xc\n",
    "import matplotlib.pyplot as plt\n",
    "import numpy as np\n",
    "import pandas as pd\n",
    "from gslconsts.consts import *\n",
    "from scipy.integrate import solve_ivp"
   ]
  },
  {
   "cell_type": "markdown",
   "id": "68d8f06d",
   "metadata": {},
   "source": [
    "Now we define a function to integrate the network numerically:"
   ]
  },
  {
   "cell_type": "code",
   "execution_count": null,
   "id": "5b6fc0f2",
   "metadata": {},
   "outputs": [],
   "source": [
    "def Y(t, y, sigs):\n",
    "    N = len(y)\n",
    "    result = np.zeros(N)\n",
    "    result[0] = -sigs[0]*y[0]\n",
    "    for i in range(1, N):\n",
    "        result[i] = sigs[i-1]*y[i-1] - sigs[i]*y[i]\n",
    "    return result"
   ]
  },
  {
   "cell_type": "markdown",
   "id": "8fda5a21",
   "metadata": {},
   "source": [
    "### Getting the initial abundances\n",
    "\n",
    "As a starting point, we will take the initial abundances to be that of solar (Lodders 2023). To obtain the abundances we define a function that uses wnutils to read in a single-zone xml file pulled down from osf, given a list of isotopes in the chain:"
   ]
  },
  {
   "cell_type": "code",
   "execution_count": null,
   "id": "71dd70cd",
   "metadata": {},
   "outputs": [],
   "source": [
    "solar_xml = wx.Xml(\n",
    "        io.BytesIO(requests.get(\"https://osf.io/w8ktc/download\").content))\n",
    "def get_solar_isotopes(isotopes):    \n",
    "    solar_data = solar_xml.get_zone_data()\n",
    "    x_solar = solar_data[\"0\"][\"mass fractions\"]\n",
    "\n",
    "    abunds = []\n",
    "    names = []\n",
    "    a = []\n",
    "\n",
    "    for isotope in isotopes:\n",
    "        tup = solar_xml.get_z_a_state_from_nuclide_name(isotope)\n",
    "        s_tup = (isotope, tup[0], tup[1])\n",
    "        a.append(s_tup[2])\n",
    "        names.append(isotope)\n",
    "        if s_tup in x_solar:\n",
    "            abunds.append(x_solar[s_tup] / tup[1])\n",
    "        else:\n",
    "            abunds.append(0)\n",
    "            \n",
    "    return a, names, abunds"
   ]
  },
  {
   "cell_type": "markdown",
   "id": "18936ede",
   "metadata": {},
   "source": [
    "Now we define a list of isotopes, which can be altered to whatever neutron capture chain is of interest to you. Additionally we define a dictionary which will later store the abundances."
   ]
  },
  {
   "cell_type": "code",
   "execution_count": null,
   "id": "08cfc845",
   "metadata": {},
   "outputs": [],
   "source": [
    "species = ['ca40','ca41','ca42','ca43','ca44','ca45','ca46','ca47','ca48','ca49','ca50']\n",
    "abund_dict = {}"
   ]
  },
  {
   "cell_type": "markdown",
   "id": "9e4950ae",
   "metadata": {},
   "source": [
    "Now we pull in the abundance xml and populate the abundance dictionary:"
   ]
  },
  {
   "cell_type": "code",
   "execution_count": null,
   "id": "7cfbc30f",
   "metadata": {},
   "outputs": [],
   "source": [
    "a, names, solar_abunds = get_solar_isotopes(species)\n",
    "for i in range(len(solar_abunds)):\n",
    "    abund_dict[names[i]] = solar_abunds[i]"
   ]
  },
  {
   "cell_type": "markdown",
   "id": "c0ae8379",
   "metadata": {},
   "source": [
    "Now, we can plot the initial abundances:"
   ]
  },
  {
   "cell_type": "code",
   "execution_count": null,
   "id": "363b25ce",
   "metadata": {},
   "outputs": [],
   "source": [
    "fig, ax = plt.subplots()\n",
    "ax.plot([a[i] for i in range(len(solar_abunds)) if solar_abunds[i] >= 1e-15], \n",
    "        [vals for keys, vals in abund_dict.items() if vals >= 1e-15], 'o-', label = 'Lodders')\n",
    "ax.set_yscale('log')\n",
    "ax.set_xlabel(r'$^{i} Ca$', fontsize = 14)\n",
    "ax.legend()\n",
    "plt.show()"
   ]
  },
  {
   "cell_type": "markdown",
   "id": "77b83647",
   "metadata": {},
   "source": [
    "### Plotting the abundances vs. neutron exposure \n",
    "\n",
    "We can use the initial abundances and the scipy.integrate function to solve the system of ODE's presented above. In order to do this we need to obtain the neutron capture cross sections using the wnnet package. First, we obtain our nuclear network xml:"
   ]
  },
  {
   "cell_type": "code",
   "execution_count": null,
   "id": "689a166f",
   "metadata": {},
   "outputs": [],
   "source": [
    "net = wn.net.Net(io.BytesIO(requests.get('https://osf.io/vqhxr/download').content))"
   ]
  },
  {
   "cell_type": "markdown",
   "id": "455d1c81",
   "metadata": {},
   "source": [
    "Next, we define a temperature in $10^9$K to be used to compute the reaction rates. The \"induced_nuc_xpath\" selects a subset of the nuclei in the network. For our purposes in the neutron burst we must include neutrons (i.e. a=1 and z=0), but the additional xpath expression after \"or\" can be modified for any set of isotopes (e.g. z=40 and a-z >= 54 and a-z <= 60 would select zirconium isotopes between $^{94}$Zr and $^{100}$Zr). The \"induced_reac_xpath\" selects a subset of reactions and should not be changed as it selects only (n,$\\gamma$) reactions.  "
   ]
  },
  {
   "cell_type": "code",
   "execution_count": null,
   "id": "1f51938d",
   "metadata": {},
   "outputs": [],
   "source": [
    "t9 = 3\n",
    "\n",
    "induced_reac_xpath = \"[reactant = 'n' and product = 'gamma']\"\n",
    "reacs = net.compute_rates(t9, reac_xpath = induced_reac_xpath)\n",
    "rates = []\n",
    "for key, values in list(reacs.items()):\n",
    "    rates.append(values[0])"
   ]
  },
  {
   "cell_type": "markdown",
   "id": "1d290462",
   "metadata": {},
   "source": [
    "The reaction dictionary returned by wnnet does not order the reactions by increasing neutron number, so next we create an ordered array of the cross sections along the path in the order of the neutron burst pathway:"
   ]
  },
  {
   "cell_type": "code",
   "execution_count": null,
   "id": "f8acfd2a",
   "metadata": {},
   "outputs": [],
   "source": [
    "ordered_dict = {}\n",
    "\n",
    "a, names, abunds = get_solar_isotopes(species)\n",
    "for i in range(len(abunds)):\n",
    "    abund_dict[names[i]] = abunds[i]\n",
    "\n",
    "for sp in species:\n",
    "    for key, value in net.get_reactions(reac_xpath = induced_reac_xpath).items():\n",
    "        if sp in value.reactants:\n",
    "            ordered_dict[sp] = reacs[key][0]"
   ]
  },
  {
   "cell_type": "markdown",
   "id": "2a9f5085",
   "metadata": {},
   "source": [
    "Now that we have obtained the rates, we can get the cross sections by noting:\n",
    "\\begin{gather}\n",
    "r(T) = N_A <\\sigma v>(T)\n",
    "\\end{gather}\n",
    "and the thermal velocity is given by:\n",
    "\\begin{gather}\n",
    "v_T = \\sqrt{\\frac{2k_BT}{m_n}}\n",
    "\\end{gather}\n",
    "which represents the most probable velocity in a Maxwell-Boltzmann distribution. We then compute the cross sections:"
   ]
  },
  {
   "cell_type": "code",
   "execution_count": null,
   "id": "49e8940e",
   "metadata": {},
   "outputs": [],
   "source": [
    "k = GSL_CONST_CGS_BOLTZMANN\n",
    "N_A = GSL_CONST_NUM_AVOGADRO\n",
    "m_n = GSL_CONST_CGS_MASS_NEUTRON\n",
    "\n",
    "T = t9 * 10**9\n",
    "v_T = np.sqrt((2*k*T)/m_n)\n",
    "\n",
    "sigs_array = []\n",
    "for key, value in ordered_dict.items():\n",
    "    sigs_array.append(1000*value/(v_T*N_A*wn.consts.GSL_CONST_CGSM_BARN))"
   ]
  },
  {
   "cell_type": "markdown",
   "id": "1a4db1af",
   "metadata": {},
   "source": [
    "Finally we compute the final abundances using the solve_ivp function:"
   ]
  },
  {
   "cell_type": "code",
   "execution_count": null,
   "id": "a1e07535",
   "metadata": {},
   "outputs": [],
   "source": [
    "tau = np.linspace(0.001, 1, 100)\n",
    "\n",
    "sol = solve_ivp(Y, [tau[0], tau[len(tau)-1]], abunds, args=(sigs_array,), max_step=0.02)\n",
    "\n",
    "#plot results\n",
    "fig, ax = plt.subplots()\n",
    "ax.plot(sol.t, sol.y[2], ':', label = solar_xml.get_latex_names([species[2]])[species[2]])\n",
    "plt.legend()\n",
    "plt.xlabel(r'$\\tau$')\n",
    "plt.ylabel('Abundance')\n",
    "plt.show()"
   ]
  },
  {
   "cell_type": "markdown",
   "id": "ba672fac",
   "metadata": {},
   "source": [
    "### Exploring final abundances \n",
    "Finally, we would like to explore the final abundances of isotopes subject to different exposures. One would also likely want initial abundances to be near solar, however varying the initial compositions can impact the final abundances to more accurately describe the abundances observed in presolar grains. "
   ]
  },
  {
   "cell_type": "code",
   "execution_count": null,
   "id": "a09c381c",
   "metadata": {},
   "outputs": [],
   "source": [
    "import ipywidgets as widgets\n",
    "from ipywidgets import interact, fixed\n",
    "\n",
    "def solve_ode_ivp(abundances, tau):\n",
    "    y0 = list(abundances.values())  # Initial conditions\n",
    "    tau_range = np.linspace(0.001, 1, 100)\n",
    "\n",
    "    # Solve the ODE using solve_ivp\n",
    "    sol = solve_ivp(\n",
    "        Y, \n",
    "        (tau_range[0], tau_range[len(tau_range)-1]), \n",
    "        y0, \n",
    "        t_eval=tau,\n",
    "        args=(sigs_array,)\n",
    "    )\n",
    "    \n",
    "    return sol.y\n",
    "\n",
    "def plot_nuclear_network(tau, isotope_abundances, **percent_changes):\n",
    "    # Adjust the abundances based on the percentage changes\n",
    "    adj_abundances = {isotope: abundance * (1 + percent_changes[isotope + '_percent'] / 100)\n",
    "                      for isotope, abundance in isotope_abundances.items()}\n",
    "    \n",
    "    # Solve the ODE with the adjusted abundances and given tau\n",
    "    solution = solve_ode_ivp(adj_abundances, [tau])\n",
    "    fig, ax = plt.subplots()\n",
    "    ax.plot([a[i] for i in range(len(abunds)) if abunds[i] !=0], \n",
    "        [vals for keys, vals in isotope_abundances.items() if vals != 0], 'o-', label = 'Lodders')\n",
    "    \n",
    "    ax.plot([a[i] for i in range(len(solution)) if solution[i] > 1e-15], \n",
    "            [sols for sols in solution if sols > 1e-15], 'o-', label = 'Network')\n",
    "    \n",
    "    ax.set_xlabel(r'$^{i}Ca$')  #Modify element symbol for different abundance chain\n",
    "    ax.set_ylabel('Abundance')\n",
    "    ax.set_title(f'(τ={tau}) (mb-1)')\n",
    "    ax.set_yscale('log')\n",
    "    ax.legend()\n",
    "    plt.show()\n",
    "    ax.clear()\n",
    "    \n",
    "def create_interactive_plot(isotope_abundances):\n",
    "    sliders = {}\n",
    "    for isotope in isotope_abundances:\n",
    "        sliders[isotope + '_percent'] = widgets.BoundedFloatText(\n",
    "            value=0, min=-100, max=100, step=1, description=f'{solar_xml.get_latex_names([isotope])[isotope]} (% change)'\n",
    "        )\n",
    "\n",
    "    # Use `interact` to dynamically create the plot with adjustable parameters\n",
    "    interact(\n",
    "        plot_nuclear_network,\n",
    "        tau=widgets.BoundedFloatText(value=.01, min=0.001, max=1.0, step=(1-0.001)/100, description='τ'),\n",
    "        isotope_abundances=fixed(isotope_abundances),\n",
    "        **sliders\n",
    "    )"
   ]
  },
  {
   "cell_type": "code",
   "execution_count": null,
   "id": "70cbc3c7",
   "metadata": {},
   "outputs": [],
   "source": [
    "create_interactive_plot(abund_dict)"
   ]
  }
 ],
 "metadata": {
  "kernelspec": {
   "display_name": "venv",
   "language": "python",
   "name": "venv"
  },
  "language_info": {
   "codemirror_mode": {
    "name": "ipython",
    "version": 3
   },
   "file_extension": ".py",
   "mimetype": "text/x-python",
   "name": "python",
   "nbconvert_exporter": "python",
   "pygments_lexer": "ipython3",
   "version": "3.9.1"
  }
 },
 "nbformat": 4,
 "nbformat_minor": 5
}

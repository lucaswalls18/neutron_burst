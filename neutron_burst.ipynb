{
 "cells": [
  {
   "cell_type": "markdown",
   "id": "1de32ae2",
   "metadata": {},
   "source": [
    "# Neutron burst calculation\n",
    "The following is a notebook that can compute the final abundances of a network of species connected only via neutron burst reactions. The mathematics is provided in Davila & Meyer.\n",
    "\n",
    "The neutron burst is a type of explosive nucleosynthesis that occurs in the bottom of the helium shell. It is triggered when the shock heats the material increasing the rate of the $^{22}$Ne($\\alpha$,n)$^{25}$Mg reaction and thus causing a sharp, but breif spike in the neutron density. \n",
    "\n",
    "Now, the neutron burst is essentially an acyclic, linear network and thus a graph theory approach can be invoked in which the abundance of species $j$ that flows to species $i$ across some path $P$ is given by:\n",
    "\\begin{gather}\n",
    "G_{ij}^{P}(\\tau) = F^{P} \\frac{(\\alpha \\tau)^{N-1}}{(N-1)!} \\exp\\Big(\\sum_{k=1}^\\infty x_k \\frac{(-\\tau)^k}{k!}\\Big)\n",
    "\\end{gather}\n",
    "\n",
    "This result is exact, but written in terms of an infinite sum. For low $\\tau$, higher order terms in the sum can be ignored due to the factorial in the denominator, but for high $\\tau$ more creative approaches are needed. \n",
    "\n",
    "Using this result, given the acyclic nature of the network the abundance of species $i$ at exposure $\\tau$ is given along a specific path by:\n",
    "\\begin{gather}\n",
    "Y_i^P(\\tau) = \\sum_{j\\leq i} G_{ij}^{P}(\\tau)\n",
    "\\end{gather}\n",
    "and the final abundance of $i$ along all paths is simply the sum of all paths. "
   ]
  },
  {
   "cell_type": "markdown",
   "id": "7955d69d",
   "metadata": {},
   "source": [
    "## A simple case \n",
    "Let's consider the simplest case possible: one path with identical cross sections along the path. In this case the $G_{ij}$s become:\n",
    "\\begin{gather}\n",
    "G_{ij}(\\tau) = \\frac{(\\alpha \\tau)^{N-1}}{(N-1)!} \\exp(-\\alpha \\tau)\n",
    "\\end{gather}\n",
    "\n",
    "Let's consider the reaction chain:\n",
    "\\begin{gather}\n",
    "1 + n \\rightarrow 2 + \\gamma\\notag\\\\\n",
    "2 + n \\rightarrow 3 + \\gamma\\notag\\\\\n",
    "3 + n \\rightarrow 4 + \\gamma\\notag\n",
    "\\end{gather}\n",
    "\n",
    "where 1, 2, 3, and 4 are arbitrary species and 'n' represents neutrons. From above, the abundance of the final species, 4, can be written as:\n",
    "\\begin{gather}\n",
    "Y_i(\\tau) = \\sum_{j\\leq i} G_{ij}(\\tau) = G_{14}(\\tau) + G_{24}(\\tau) + G_{34}(\\tau) + G_{44}(\\tau)\n",
    "\\end{gather}\n",
    "\n",
    "\n",
    "To solve this network exactly we have the coupled differential equations:\n",
    "\\begin{gather}\n",
    "\\frac{dY_1}{dt} = -\\sigma_{n,1} Y_1\\\\\n",
    "\\frac{dY_2}{dt} = \\sigma_{n,1} Y_1 - \\sigma_{n,2}Y_2\\\\\n",
    "\\frac{dY_3}{dt} = \\sigma_{n,2} Y_2 - \\sigma_{n,3}Y_3\\\\\n",
    "\\frac{dY_4}{dt} = \\sigma_{n,3} Y_3 - \\sigma_{n,4}Y_4\n",
    "\\end{gather}\n",
    "where the $\\sigma_n$ are the neutron capture rates for each species. \n",
    "\n",
    "\n",
    "To model this we begin by importing the necessary libraries, including wnpoly which is used to obtain the complete homogeneous symmetric polynomials from the reaction rates and bell polynomials:"
   ]
  },
  {
   "cell_type": "code",
   "execution_count": 22,
   "id": "a8a529d7",
   "metadata": {},
   "outputs": [
    {
     "name": "stderr",
     "output_type": "stream",
     "text": [
      "\n",
      "[notice] A new release of pip is available: 23.3.1 -> 24.0\n",
      "[notice] To update, run: python.exe -m pip install --upgrade pip\n"
     ]
    }
   ],
   "source": [
    "import sys\n",
    "!{sys.executable} -m pip install --quiet wnpoly\n",
    "from gslconsts.consts import *\n",
    "from scipy.integrate import solve_ivp\n",
    "import numpy as np\n",
    "import math\n",
    "import wnpoly as wp\n",
    "from scipy.stats import gmean\n",
    "import matplotlib.pyplot as plt"
   ]
  },
  {
   "cell_type": "markdown",
   "id": "91156f74",
   "metadata": {},
   "source": [
    "Next, using the gslconsts package we will define some constants that will be important throughout:"
   ]
  },
  {
   "cell_type": "code",
   "execution_count": 23,
   "id": "c08c874d",
   "metadata": {},
   "outputs": [],
   "source": [
    "k = GSL_CONST_CGS_BOLTZMANN\n",
    "N_A = GSL_CONST_NUM_AVOGADRO\n",
    "m_n = GSL_CONST_CGS_MASS_NEUTRON"
   ]
  },
  {
   "cell_type": "markdown",
   "id": "84cf06be",
   "metadata": {},
   "source": [
    "Now, we define two functions. One to solve the system of differential equations to solve the network and one to get the solution using the $G_{ij}$s:"
   ]
  },
  {
   "cell_type": "code",
   "execution_count": 24,
   "id": "3698fe8a",
   "metadata": {},
   "outputs": [],
   "source": [
    "def Y(t, y, sigs):\n",
    "    N = len(y)\n",
    "    result = np.zeros(N)\n",
    "    result[0] = -sigs[0]*y[0]\n",
    "    for i in range(1, N):\n",
    "        result[i] = sigs[i-1]*y[i-1] - sigs[i]*y[i]\n",
    "    return result\n",
    "\n",
    "def g(tau, m_new, x, h, alpha):\n",
    "    result = 0 \n",
    "    for i in range(len(h)):\n",
    "        result += x[i] * (-tau)**i / math.factorial(i)\n",
    "    return (alpha*tau)**(m-1) * np.exp(result) / math.factorial(m-1)"
   ]
  },
  {
   "cell_type": "markdown",
   "id": "4506c14a",
   "metadata": {},
   "source": [
    "Now we lay out the general approach for analytically solving the neutron burst in the framework of this simple problem. First, we define the parameters such as the initial composition of the material and the neutron capture cross sections. For this example all of the material will start as species '1' and each will have the same reaction rate:"
   ]
  },
  {
   "cell_type": "code",
   "execution_count": 25,
   "id": "6ddcc241",
   "metadata": {},
   "outputs": [],
   "source": [
    "neutron_capture_rate = np.ones(4) \n",
    "ys = np.zeros(4)\n",
    "ys[0] = 1\n",
    "m = len(ys)"
   ]
  },
  {
   "cell_type": "markdown",
   "id": "e5c9a586",
   "metadata": {},
   "source": [
    "Now, we compute the symmetric polynomials to get the coefficients 'x' of the Bell Polynomials. For this simple example the only nonzero x will $x_1$. This is the major simplification that was made when assuming all cross sections were equal. "
   ]
  },
  {
   "cell_type": "code",
   "execution_count": 26,
   "id": "3ef8abd7",
   "metadata": {},
   "outputs": [
    {
     "name": "stdout",
     "output_type": "stream",
     "text": [
      "[0. 1. 0. 0. 0.]\n"
     ]
    }
   ],
   "source": [
    "s = wp.symm.Complete()\n",
    "h = s.compute_normalized(neutron_capture_rate, len(neutron_capture_rate))\n",
    "\n",
    "bell = wp.bell.Bell()\n",
    "x = bell.invert(h)\n",
    "print(x)"
   ]
  },
  {
   "cell_type": "markdown",
   "id": "dcae2be9",
   "metadata": {},
   "source": [
    "Finally, we compute the geometric mean of the reaction rates and solve for the abundances:"
   ]
  },
  {
   "cell_type": "code",
   "execution_count": 27,
   "id": "08043a4e",
   "metadata": {},
   "outputs": [
    {
     "data": {
      "image/png": "[encoded data removed]",
      "text/plain": [
       "<Figure size 640x480 with 1 Axes>"
      ]
     },
     "metadata": {},
     "output_type": "display_data"
    }
   ],
   "source": [
    "alpha = gmean(neutron_capture_rate[0:len(neutron_capture_rate)-1])\n",
    "\n",
    "tau = np.linspace(0,10,1000)\n",
    "\n",
    "plt.plot(tau, g(tau, m, x, h, alpha), label='Bell')\n",
    "\n",
    "#solve the network \n",
    "sol = solve_ivp(Y, [0, tau[len(tau)-1]], ys, args=(neutron_capture_rate,), max_step=0.002)\n",
    "plt.plot(sol.t, sol.y[m-1], ':', label='Exact')\n",
    "plt.legend()\n",
    "plt.xlabel(r'$\\tau$')\n",
    "plt.ylabel('Abunds')\n",
    "plt.show()"
   ]
  },
  {
   "cell_type": "markdown",
   "id": "35699979",
   "metadata": {},
   "source": [
    "Since our simplification gives us an exact answer rather than an infinite sum in the exponential, our result is exact. Now, let's turn our attention to a realistic case."
   ]
  },
  {
   "cell_type": "markdown",
   "id": "f66a2e2d",
   "metadata": {},
   "source": [
    "## Realistic Model"
   ]
  },
  {
   "cell_type": "markdown",
   "id": "6941fc5d",
   "metadata": {},
   "source": [
    "Let's consider the nuclear network:\n",
    "\n",
    "\\begin{gather}\n",
    "^{40}Ca + n \\rightarrow ^{41}Ca + \\gamma\\\\\n",
    "^{41}Ca + n \\rightarrow ^{42}Ca + \\gamma\\\\\n",
    "^{42}Ca + n \\rightarrow ^{43}Ca + \\gamma\\\\\n",
    "^{43}Ca + n \\rightarrow ^{44}Ca + \\gamma\n",
    "\\end{gather}\n",
    "\n",
    "Our network is then:\n",
    "\\begin{gather}\n",
    "\\frac{dY(^{40}Ca)}{dt} = -\\sigma_{n, 40} Y(^{40}Ca)\\\\\n",
    "\\frac{dY(^{41}Ca)}{dt} = \\sigma_{n,40} Y(^{40}Ca) - \\sigma_{n,41}Y(^{41}Ca)\\\\\n",
    "\\frac{dY(^{42}Ca)}{dt} = \\sigma_{n,41} Y(^{41}Ca) - \\sigma_{n,42}Y(^{42}Ca)\\\\\n",
    "\\frac{dY(^{43}Ca)}{dt} = \\sigma_{n,42} Y(^{42}Ca) - \\sigma_{n,43}Y(^{43}Ca)\\\\\n",
    "\\frac{dY(^{44}Ca)}{dt} = \\sigma_{n,43} Y(^{43}Ca) - \\sigma_{n,44}Y(^{44}Ca)\n",
    "\\end{gather}"
   ]
  },
  {
   "cell_type": "markdown",
   "id": "a141954e",
   "metadata": {},
   "source": [
    "### Computing neutron capture cross sections"
   ]
  },
  {
   "cell_type": "markdown",
   "id": "4e05095b",
   "metadata": {},
   "source": [
    "The first step to a realistic model is to obtain the neutron capture cross sections for each reaction, which can be done using wnnet. We begin by downloading the necessary libraries and importing the network data. "
   ]
  },
  {
   "cell_type": "code",
   "execution_count": 28,
   "id": "393329a7",
   "metadata": {},
   "outputs": [
    {
     "name": "stderr",
     "output_type": "stream",
     "text": [
      "\n",
      "[notice] A new release of pip is available: 23.3.1 -> 24.0\n",
      "[notice] To update, run: python.exe -m pip install --upgrade pip\n"
     ]
    }
   ],
   "source": [
    "import os, io, requests\n",
    "from lxml import etree \n",
    "\n",
    "!{sys.executable} -m pip install --quiet wnnet\n",
    "import wnnet as wn\n",
    "\n",
    "net = wn.net.Net(io.BytesIO(requests.get('https://osf.io/vqhxr/download').content))"
   ]
  },
  {
   "cell_type": "markdown",
   "id": "5ada2876",
   "metadata": {},
   "source": [
    "Now we can define a temperature in $10^9$K and use wnnet to obtain the neutron capture reaction rate:"
   ]
  },
  {
   "cell_type": "code",
   "execution_count": 37,
   "id": "75799d9b",
   "metadata": {},
   "outputs": [],
   "source": [
    "t9 = 3\n",
    "\n",
    "induced_nuc_xpath = \"[z = 20 and a - z >= 20 and a - z <=24]\"\n",
    "induced_reac_xpath = \"[reactant = 'n']\"\n",
    "\n",
    "reacs = net.compute_rates(t9, nuc_xpath=induced_nuc_xpath, reac_xpath = induced_reac_xpath)\n",
    "for key, values in list(reacs.items()):\n",
    "    print('reaction :', key, ';', 'Forward rate :', '{:.2e}'.format(values[0]), ';', 'Reverse rate :', '{:.2e}'.format(values[1]))"
   ]
  },
  {
   "cell_type": "markdown",
   "id": "e7022c9b",
   "metadata": {},
   "source": [
    "Now, the reaction rate is given by:\n",
    "\\begin{gather}\n",
    "r(T) = N_A<\\sigma v>\n",
    "\\end{gather}\n",
    "\n",
    "then, to obtain the cross section (in millibarns) we obtain the thermal velocity and divide the reaction rate by it along with Avagadro's number:"
   ]
  },
  {
   "cell_type": "code",
   "execution_count": 39,
   "id": "a76cbf99",
   "metadata": {},
   "outputs": [],
   "source": [
    "T = t9 * 10**9\n",
    "v_T = np.sqrt((2*k*T)/(m_n/wn.consts.u * N_A))\n",
    "\n",
    "sigs = []\n",
    "for key, value in list(reacs.items()):\n",
    "    sigs.append(value[0]/(v_T * wn.const.N_A))"
   ]
  },
  {
   "cell_type": "markdown",
   "id": "34d0ed02",
   "metadata": {},
   "source": [
    "### Obtaining an initial approximation"
   ]
  },
  {
   "cell_type": "markdown",
   "id": "635e17ec",
   "metadata": {},
   "source": [
    "Now, following the same procedure as before we can obtain the solutions:"
   ]
  },
  {
   "cell_type": "code",
   "execution_count": 40,
   "id": "fe80f253",
   "metadata": {},
   "outputs": [
    {
     "ename": "IndexError",
     "evalue": "index 0 is out of bounds for axis 0 with size 0",
     "output_type": "error",
     "traceback": [
      "\u001b[1;31m---------------------------------------------------------------------------\u001b[0m",
      "\u001b[1;31mIndexError\u001b[0m                                Traceback (most recent call last)",
      "Cell \u001b[1;32mIn[40], line 3\u001b[0m\n\u001b[0;32m      1\u001b[0m neutron_capture_rates \u001b[38;5;241m=\u001b[39m sigs[\u001b[38;5;241m0\u001b[39m:\u001b[38;5;28mlen\u001b[39m(neutron_rates)\u001b[38;5;241m-\u001b[39m\u001b[38;5;241m1\u001b[39m]\n\u001b[0;32m      2\u001b[0m ys \u001b[38;5;241m=\u001b[39m np\u001b[38;5;241m.\u001b[39mzeros(\u001b[38;5;28mlen\u001b[39m(neutron_capture_rates))\n\u001b[1;32m----> 3\u001b[0m \u001b[43mys\u001b[49m\u001b[43m[\u001b[49m\u001b[38;5;241;43m0\u001b[39;49m\u001b[43m]\u001b[49m \u001b[38;5;241m=\u001b[39m \u001b[38;5;241m1\u001b[39m\n\u001b[0;32m      4\u001b[0m m \u001b[38;5;241m=\u001b[39m \u001b[38;5;28mlen\u001b[39m(ys)\n\u001b[0;32m      6\u001b[0m s \u001b[38;5;241m=\u001b[39m wp\u001b[38;5;241m.\u001b[39msymm\u001b[38;5;241m.\u001b[39mComplete()\n",
      "\u001b[1;31mIndexError\u001b[0m: index 0 is out of bounds for axis 0 with size 0"
     ]
    }
   ],
   "source": [
    "neutron_capture_rates = sigs[0:len(neutron_rates)-1]\n",
    "ys = np.zeros(len(neutron_capture_rates))\n",
    "ys[0] = 1\n",
    "m = len(ys)\n",
    "\n",
    "s = wp.symm.Complete()\n",
    "h = s.compute_normalized(neutron_capture_rate, len(neutron_capture_rate))\n",
    "\n",
    "bell = wp.bell.Bell()\n",
    "x = bell.invert(h)\n",
    "print(x)\n",
    "\n",
    "alpha = gmean(neutron_capture_rate[0:len(neutron_capture_rate)-1])\n",
    "\n",
    "tau = np.linspace(0,10,1000)\n",
    "\n",
    "plt.plot(tau, g(tau, m, x, h, alpha), label='Bell')\n",
    "\n",
    "#solve the network \n",
    "sol = solve_ivp(Y, [0, tau[len(tau)-1]], ys, args=(neutron_capture_rate,), max_step=0.002)\n",
    "plt.plot(sol.t, sol.y[m-1], ':', label='Exact')\n",
    "plt.legend()\n",
    "plt.show()"
   ]
  },
  {
   "cell_type": "code",
   "execution_count": null,
   "id": "842d1df2",
   "metadata": {},
   "outputs": [],
   "source": []
  }
 ],
 "metadata": {
  "kernelspec": {
   "display_name": "venv",
   "language": "python",
   "name": "venv"
  },
  "language_info": {
   "codemirror_mode": {
    "name": "ipython",
    "version": 3
   },
   "file_extension": ".py",
   "mimetype": "text/x-python",
   "name": "python",
   "nbconvert_exporter": "python",
   "pygments_lexer": "ipython3",
   "version": "3.9.1"
  }
 },
 "nbformat": 4,
 "nbformat_minor": 5
}

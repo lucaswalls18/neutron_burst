{
 "cells": [
  {
   "cell_type": "markdown",
   "id": "e8ea8958",
   "metadata": {},
   "source": [
    "# Analytic solution to the neutron burst\n",
    "This notebook utilizes the analytic solution to the linear acyclic reaction to study the neutron burst problem. This process allows for a deeper understanding of how the cross sections and neutron exposures impact the contribution of one species to another. We begin with preliminaries followed by the ...\n",
    "\n",
    "\n",
    "## Preliminaries \n",
    "We begin by importing the necessary libraries:"
   ]
  },
  {
   "cell_type": "code",
   "execution_count": 1,
   "id": "415246f5",
   "metadata": {},
   "outputs": [],
   "source": [
    "import sys, subprocess, pkg_resources\n",
    "import os, io, requests\n",
    "required = {'numpy', 'wnutils', 'wnnet', 'matplotlib', 'ipywidgets', 'wnpoly'}\n",
    "installed = {pkg.key for pkg in pkg_resources.working_set}\n",
    "missing = required - installed\n",
    "\n",
    "if missing:\n",
    "    subprocess.check_call([sys.executable,'-m','pip','install','--quiet',*missing])\n",
    "\n",
    "import wnnet as wn \n",
    "from scipy.integrate import solve_ivp\n",
    "import wnutils.xml as wx\n",
    "import wnpoly as wp\n",
    "import matplotlib.pyplot as plt\n",
    "from statistics import geometric_mean\n",
    "import ipywidgets as widgets\n",
    "from ipywidgets import interact, fixed\n",
    "import numpy as np\n",
    "import math"
   ]
  },
  {
   "cell_type": "markdown",
   "id": "bc5af93c",
   "metadata": {},
   "source": [
    "Next, we import the solar xml file for initial compositions and a network file for computing reaction cross sections:"
   ]
  },
  {
   "cell_type": "code",
   "execution_count": 2,
   "id": "7f18a460",
   "metadata": {},
   "outputs": [],
   "source": [
    "solar_xml = wx.Xml(\n",
    "        io.BytesIO(requests.get(\"https://osf.io/w8ktc/download\").content))\n",
    "net = wn.net.Net(io.BytesIO(requests.get('https://osf.io/vqhxr/download').content))"
   ]
  },
  {
   "cell_type": "markdown",
   "id": "12459f0c",
   "metadata": {},
   "source": [
    "Now we define the isotopes that are included in the network. It is important that the isotopes defined are of the same species and increasing consecutive mass number (this is a condition for a neutron burst network):"
   ]
  },
  {
   "cell_type": "code",
   "execution_count": 3,
   "id": "6c508702",
   "metadata": {},
   "outputs": [],
   "source": [
    "species = ['ca40','ca41','ca42','ca43','ca44','ca45','ca46']\n",
    "#species = ['zr90', 'zr91','zr92','zr93','zr94','zr95','zr96','zr97','zr98','zr99','zr100']"
   ]
  },
  {
   "cell_type": "markdown",
   "id": "b71c57e8",
   "metadata": {},
   "source": [
    "Next, to compute the neutron capture cross sections we use [wnnet](https://readthedocs.io/wnnet). To start we define a temperature. The temperature during the neutron burst will be roughly constant, so defining a single temperature is a good approximation: "
   ]
  },
  {
   "cell_type": "code",
   "execution_count": 4,
   "id": "ba52c374",
   "metadata": {},
   "outputs": [],
   "source": [
    "t9 = 0.7\n",
    "\n",
    "induced_reac_xpath = \"[reactant = 'n' and product = 'gamma']\"\n",
    "reacs = net.compute_rates(t9, reac_xpath = induced_reac_xpath)\n",
    "rates = []\n",
    "for key, values in list(reacs.items()):\n",
    "    rates.append(values[0])\n",
    "    \n",
    "ordered_dict = {}\n",
    "\n",
    "for sp in species:\n",
    "    for key, value in net.get_reactions(reac_xpath = induced_reac_xpath).items():\n",
    "        if sp in value.reactants:\n",
    "            ordered_dict[sp] = reacs[key][0]\n",
    "            \n",
    "T = t9 * 10**9\n",
    "k = wn.consts.GSL_CONST_CGS_BOLTZMANN\n",
    "N_A = wn.consts.GSL_CONST_NUM_AVOGADRO\n",
    "m_n = wn.consts.GSL_CONST_CGS_MASS_NEUTRON\n",
    "v_T = np.sqrt((2*k*T)/m_n)\n",
    "sigs_array = []\n",
    "for key, value in ordered_dict.items():\n",
    "    sigs_array.append(1000*value/(v_T*N_A*wn.consts.GSL_CONST_CGSM_BARN))"
   ]
  },
  {
   "cell_type": "markdown",
   "id": "25f07581",
   "metadata": {},
   "source": [
    "Now, we can print out the results:"
   ]
  },
  {
   "cell_type": "code",
   "execution_count": 5,
   "id": "befc7233",
   "metadata": {},
   "outputs": [
    {
     "data": {
      "text/latex": [
       "$\\displaystyle \\sigma_n$($^{40}\\rm{Ca}$) : 4.248885383424996 $\\, \\text{mb}^{-1}$"
      ],
      "text/plain": [
       "<IPython.core.display.Math object>"
      ]
     },
     "metadata": {},
     "output_type": "display_data"
    },
    {
     "data": {
      "text/latex": [
       "$\\displaystyle \\sigma_n$($^{41}\\rm{Ca}$) : 18.53280982014547 $\\, \\text{mb}^{-1}$"
      ],
      "text/plain": [
       "<IPython.core.display.Math object>"
      ]
     },
     "metadata": {},
     "output_type": "display_data"
    },
    {
     "data": {
      "text/latex": [
       "$\\displaystyle \\sigma_n$($^{42}\\rm{Ca}$) : 11.04095339801611 $\\, \\text{mb}^{-1}$"
      ],
      "text/plain": [
       "<IPython.core.display.Math object>"
      ]
     },
     "metadata": {},
     "output_type": "display_data"
    },
    {
     "data": {
      "text/latex": [
       "$\\displaystyle \\sigma_n$($^{43}\\rm{Ca}$) : 29.65106704894908 $\\, \\text{mb}^{-1}$"
      ],
      "text/plain": [
       "<IPython.core.display.Math object>"
      ]
     },
     "metadata": {},
     "output_type": "display_data"
    },
    {
     "data": {
      "text/latex": [
       "$\\displaystyle \\sigma_n$($^{44}\\rm{Ca}$) : 6.117666881419248 $\\, \\text{mb}^{-1}$"
      ],
      "text/plain": [
       "<IPython.core.display.Math object>"
      ]
     },
     "metadata": {},
     "output_type": "display_data"
    },
    {
     "data": {
      "text/latex": [
       "$\\displaystyle \\sigma_n$($^{45}\\rm{Ca}$) : 10.065704167419849 $\\, \\text{mb}^{-1}$"
      ],
      "text/plain": [
       "<IPython.core.display.Math object>"
      ]
     },
     "metadata": {},
     "output_type": "display_data"
    },
    {
     "data": {
      "text/latex": [
       "$\\displaystyle \\sigma_n$($^{46}\\rm{Ca}$) : 3.024614824114335 $\\, \\text{mb}^{-1}$"
      ],
      "text/plain": [
       "<IPython.core.display.Math object>"
      ]
     },
     "metadata": {},
     "output_type": "display_data"
    }
   ],
   "source": [
    "from IPython.display import display, Math\n",
    "\n",
    "for i in range(len(sigs_array)):\n",
    "    latex_name = solar_xml.get_latex_names([species[i]])[species[i]]\n",
    "    sig_value = sigs_array[i]\n",
    "\n",
    "    latex_str = r\"$\\sigma_n$({}) : {} $\\, \\text{{mb}}^{{-1}}$\".format(latex_name, sig_value)\n",
    "\n",
    "    display(Math(latex_str))"
   ]
  },
  {
   "cell_type": "markdown",
   "id": "d7ced33a",
   "metadata": {},
   "source": [
    "For the analytic solution to the linear acyclic reaction network we need the geometric mean for all paths and the coefficients of the bell polynomials corresponding to the cross sections in the path. Here we define a function to return these values:"
   ]
  },
  {
   "cell_type": "code",
   "execution_count": 6,
   "id": "5246ffd2",
   "metadata": {},
   "outputs": [],
   "source": [
    "def get_variables(sigs_array, j):\n",
    "    s = wp.symm.Complete()\n",
    "    h = s.compute_normalized(sigs_array, j) \n",
    "    b = wp.bell.Bell()\n",
    "    x = b.invert(h)\n",
    "    if len(sigs_array)>1:\n",
    "        gmean = geometric_mean(sigs_array[0:len(sigs_array)-1])\n",
    "    else:\n",
    "        gmean = 1\n",
    "    return [len(sigs_array), gmean, x]"
   ]
  },
  {
   "cell_type": "markdown",
   "id": "a3c8d177",
   "metadata": {},
   "source": [
    "Now, we can look at how the relative contribution of one species to another changes with increasing exposures. \n",
    "\n",
    "## The relative contribution - G\n",
    "The G value arises from the solution to the linear acyclic reaction network. Here it will be represented as $G(Z,A,\\tau;Z, A', 0)$, or simply the contribution from species (Z,A') to species (Z,A). Z is the proton number and A is the mass number (note that since the proton number is not changing in the neutron burst the function maps between species with different neutron numbers). From the solution to the linear acyclic network we get:\n",
    "\n",
    "\\begin{gather}\n",
    "G(Z,A,\\tau;Z, A', 0) = \\frac{(\\sigma \\tau)^{N-1}}{(N-1)!}exp\\Big({\\sum_{j=0}^\\infty x_j \\frac{(-\\tau)^j}{j!}}\\Big)\\notag\n",
    "\\end{gather}\n",
    "\n",
    "The $\\sigma$ is the geometric mean of the cross sections between (Z,A') and (Z,A), N is the number of species, $\\tau$ is the exposure, and the $x_j$s are bell polynomial coefficients relating to the cross sections between (Z, A') and (Z,A). The bell polynomial coefficients are computed using the wnpoly python package and the previously defined \"get_variables\" function. Note also that the function is expressed as an infinite sum, but for the neutron burst only three terms is a realistic approximation. This is what we aim to showcase here. "
   ]
  },
  {
   "cell_type": "markdown",
   "id": "7ed5129c",
   "metadata": {},
   "source": [
    "First we define a function to compute the numerical solution and the function to compute the $G(Z,A,\\tau;Z,A',0)$:"
   ]
  },
  {
   "cell_type": "code",
   "execution_count": 7,
   "id": "a39e0e42",
   "metadata": {},
   "outputs": [],
   "source": [
    "def numerical(t, y, sigmas):\n",
    "    N = len(y)\n",
    "    result = np.zeros(N)\n",
    "    result[0] = -sigmas[0]*y[0]\n",
    "    for i in range(1, N):\n",
    "        result[i] = sigmas[i-1]*y[i-1] - sigmas[i]*y[i]\n",
    "    return result\n",
    "\n",
    "def analytic(tau, tup):\n",
    "    result = 0\n",
    "    for n in range(len(tup[2])):\n",
    "        result += tup[2][n] * np.power(-tau, n) / math.factorial(n)\n",
    "    return np.power(tup[1] * tau, tup[0]-1) * np.exp(result) / math.factorial(tup[0]-1)"
   ]
  },
  {
   "cell_type": "markdown",
   "id": "f0400bb3",
   "metadata": {},
   "source": [
    "Now we can see how the G values compare to the numeric solution with only three terms (j=2) kept: "
   ]
  },
  {
   "cell_type": "code",
   "execution_count": 8,
   "id": "9f1439a7",
   "metadata": {},
   "outputs": [
    {
     "data": {
      "application/vnd.jupyter.widget-view+json": {
       "model_id": "d6d2d96132e549599aaae819310302d0",
       "version_major": 2,
       "version_minor": 0
      },
      "text/plain": [
       "interactive(children=(Dropdown(description='sp1', options=('ca40', 'ca41', 'ca42', 'ca43', 'ca44', 'ca45', 'ca…"
      ]
     },
     "metadata": {},
     "output_type": "display_data"
    },
    {
     "data": {
      "text/plain": [
       "<function __main__.compare(sp1, sp2, j)>"
      ]
     },
     "execution_count": 8,
     "metadata": {},
     "output_type": "execute_result"
    }
   ],
   "source": [
    "def compare(sp1, sp2, j):\n",
    "    N = len(species[species.index(sp1):species.index(sp2)+1])\n",
    "    sigs = sigs_array[species.index(sp1): species.index(sp2)+1]\n",
    "    tup = get_variables(sigs, j) \n",
    "    print('******************************************************************************************')\n",
    "    print(\"The variables required to compute the relative contribution of \" +\n",
    "          \"{} to {} are: N = {}, $\\sigma$ = {}, and x = {}\".format(sp1, sp2, tup[0], tup[1], tup[2]))\n",
    "    print('******************************************************************************************')\n",
    "    abunds = np.zeros(N)\n",
    "    abunds[0] = 1\n",
    "    tau = np.linspace(0, 0.2, 30) \n",
    "    sol = solve_ivp(numerical, [tau[0], tau[len(tau)-1]], abunds, args = (sigs,), max_step = 0.001)\n",
    "    plt.plot(sol.t, sol.y[-1], label = 'numerical')\n",
    "    plt.plot(tau, analytic(tau,tup), 'o', label = 'G')\n",
    "    plt.xlabel(r'$\\tau$')\n",
    "    plt.legend()\n",
    "    \n",
    "interact(compare, \n",
    "        sp1 = widgets.Dropdown(options = species),\n",
    "        sp2 = widgets.Dropdown(options = species), \n",
    "        j = widgets.BoundedIntText(value = 2, min = 2, max = 10))"
   ]
  },
  {
   "cell_type": "markdown",
   "id": "c664a5ba",
   "metadata": {},
   "source": [
    "### Relative contributions of all species \n",
    "One can also see the contributions of all species to another. This involves computing one row of the so called G matrix (i.e. $G_{j1}$, $G_{j2}$, ... , $G_{jj}$). "
   ]
  },
  {
   "cell_type": "code",
   "execution_count": 9,
   "id": "8080c73a",
   "metadata": {},
   "outputs": [
    {
     "data": {
      "application/vnd.jupyter.widget-view+json": {
       "model_id": "b13b826ea4594d6a8404a18e0dccd5a1",
       "version_major": 2,
       "version_minor": 0
      },
      "text/plain": [
       "interactive(children=(Dropdown(description='sp', options=('ca40', 'ca41', 'ca42', 'ca43', 'ca44', 'ca45', 'ca4…"
      ]
     },
     "metadata": {},
     "output_type": "display_data"
    },
    {
     "data": {
      "text/plain": [
       "<function __main__.contributions(sp, j)>"
      ]
     },
     "execution_count": 9,
     "metadata": {},
     "output_type": "execute_result"
    }
   ],
   "source": [
    "def contributions(sp, j):\n",
    "    index = species.index(sp)\n",
    "    tau = np.linspace(0, 0.2, 100)\n",
    "    G = np.empty(index+1, dtype = 'object')\n",
    "    for i in range(index+1):\n",
    "        sigs = sigs_array[i:index+1]\n",
    "        G[i] = analytic(tau, get_variables(sigs, j))\n",
    "    for i in range(len(G)):\n",
    "        plt.plot(tau, G[i], label = solar_xml.get_latex_names([species[i]])[species[i]])\n",
    "    plt.legend()\n",
    "    plt.ylabel('G')\n",
    "    plt.xlabel(r'$\\tau$')\n",
    "    plt.show()\n",
    "\n",
    "interact(contributions, \n",
    "        sp = widgets.Dropdown(options = species), \n",
    "        j = widgets.BoundedIntText(value = 2, min = 2, max = 10))"
   ]
  },
  {
   "cell_type": "markdown",
   "id": "5ef90869",
   "metadata": {},
   "source": [
    "Now that we see the analytic solution is reliable in the exposure range we are considering, we can look at the abundances of species in the analytic solution. \n",
    "\n",
    "## The abundances - Y\n",
    "The abundance of species (Z,A): Y(Z,A,$\\tau$) is given by the contribution of all species along the path multiplied by their relavent initial abundance Y(Z,A,0):\n",
    "\\begin{gather}\n",
    "Y(Z,A,\\tau) = \\sum_{A'<=A} G(Z,A,\\tau;Z,A',0)\\,Y(Z,A',0)\n",
    "\\end{gather}\n"
   ]
  },
  {
   "cell_type": "markdown",
   "id": "7f000fc4",
   "metadata": {},
   "source": [
    "For this we need the initial abundances, taken in this notebook to be solar and retrieved from the solar xml file loaded in previously. First we get the abundances:"
   ]
  },
  {
   "cell_type": "code",
   "execution_count": 10,
   "id": "5ad9ebf0",
   "metadata": {},
   "outputs": [],
   "source": [
    "def get_abunds(solar_xml):\n",
    "    solar_data = solar_xml.get_zone_data()\n",
    "    x_solar = solar_data[\"0\"][\"mass fractions\"]\n",
    "\n",
    "    a = []\n",
    "    d = {}\n",
    "\n",
    "    for isotope in species:\n",
    "        tup = solar_xml.get_z_a_state_from_nuclide_name(isotope)\n",
    "        s_tup = (isotope, tup[0], tup[1])\n",
    "        if s_tup in x_solar:\n",
    "            a.append(s_tup[2])\n",
    "            d[s_tup[0]] = x_solar[s_tup] / tup[1]\n",
    "        else:\n",
    "            a.append(s_tup[2])\n",
    "            d[s_tup[0]] = 0\n",
    "            \n",
    "    return a, d\n",
    "\n",
    "a, y0 = get_abunds(solar_xml)\n",
    "y0_list = []\n",
    "for sp in species:\n",
    "    y0_list.append(y0[sp])\n",
    "y0_array = np.array(y0_list)"
   ]
  },
  {
   "cell_type": "markdown",
   "id": "20ec42ce",
   "metadata": {},
   "source": [
    "Now to compute the abundances after some exposure $\\tau$ we need to compute the entire matrix of relative contributions:"
   ]
  },
  {
   "cell_type": "code",
   "execution_count": 11,
   "id": "3ac76385",
   "metadata": {},
   "outputs": [],
   "source": [
    "matrix = np.empty((len(species),len(species)), dtype = \"object\")\n",
    "for i in range(len(species)):\n",
    "    for j in range(len(species)):\n",
    "        if j<=i: \n",
    "            sigmas = sigs_array[j:i+1]\n",
    "            matrix[i,j] = get_variables(sigmas, 2)\n",
    "        else:\n",
    "            matrix[i,j] = 0"
   ]
  },
  {
   "cell_type": "markdown",
   "id": "4d742547",
   "metadata": {},
   "source": [
    "With this we can compute the G matrix which will have the relative contributions for every exposure in the defined tau:"
   ]
  },
  {
   "cell_type": "code",
   "execution_count": 12,
   "id": "a9af82d9",
   "metadata": {},
   "outputs": [],
   "source": [
    "tau = np.linspace(0, 0.2, 100)\n",
    "Gs = np.empty((len(species),len(species)), dtype = \"object\")\n",
    "for i in range(len(species)):\n",
    "    for j in range(len(species)):\n",
    "        if j<=i:\n",
    "            Gs[i,j] = analytic(tau, matrix[i,j])\n",
    "        else:\n",
    "            Gs[i,j] = 0"
   ]
  },
  {
   "cell_type": "markdown",
   "id": "92cf0bcb",
   "metadata": {},
   "source": [
    "Now, a dot product between the G matrix and initial abundance array yields the abundances as a function of tau:"
   ]
  },
  {
   "cell_type": "code",
   "execution_count": 13,
   "id": "70b08d26",
   "metadata": {},
   "outputs": [],
   "source": [
    "abundances = np.dot(Gs,y0_array)"
   ]
  },
  {
   "cell_type": "markdown",
   "id": "fa026e06",
   "metadata": {},
   "source": [
    "Now we can plot the abundances to see how they change vs tau:"
   ]
  },
  {
   "cell_type": "code",
   "execution_count": 14,
   "id": "3ecf8b4e",
   "metadata": {},
   "outputs": [
    {
     "data": {
      "image/png": "[encoded data removed]",
      "text/plain": [
       "<Figure size 640x480 with 1 Axes>"
      ]
     },
     "metadata": {},
     "output_type": "display_data"
    }
   ],
   "source": [
    "for i in range(len(species)):\n",
    "    plt.plot(tau,abundances[i], label = solar_xml.get_latex_names([species[i]])[species[i]])\n",
    "    \n",
    "plt.legend()\n",
    "plt.ylabel('Y')\n",
    "plt.xlabel(r'$\\tau$')\n",
    "plt.yscale('log')\n",
    "plt.show()"
   ]
  },
  {
   "cell_type": "markdown",
   "id": "a27d2627",
   "metadata": {},
   "source": [
    "### Abundance contributions for each species \n",
    "Similar to before, we can look at the abundance contribution for all species by multiplying one row of the G matrix by the initial abundances:"
   ]
  },
  {
   "cell_type": "code",
   "execution_count": 15,
   "id": "14f0cbf9",
   "metadata": {},
   "outputs": [
    {
     "data": {
      "application/vnd.jupyter.widget-view+json": {
       "model_id": "9704bd1f30ee44a180e4865b384328ad",
       "version_major": 2,
       "version_minor": 0
      },
      "text/plain": [
       "interactive(children=(Dropdown(description='sp', options=('ca40', 'ca41', 'ca42', 'ca43', 'ca44', 'ca45', 'ca4…"
      ]
     },
     "metadata": {},
     "output_type": "display_data"
    },
    {
     "data": {
      "text/plain": [
       "<function __main__.compare_abunds(sp)>"
      ]
     },
     "execution_count": 15,
     "metadata": {},
     "output_type": "execute_result"
    }
   ],
   "source": [
    "def compare_abunds(sp):\n",
    "    index = species.index(sp)\n",
    "    G_row = Gs[index, :]\n",
    "    for i in range(index+1):\n",
    "        plt.plot(tau, G_row[i]*y0_array[i], label = solar_xml.get_latex_names([species[i]])[species[i]])\n",
    "    plt.legend()\n",
    "\n",
    "interact(compare_abunds, \n",
    "        sp = widgets.Dropdown(options = species), \n",
    "        j = widgets.BoundedIntText(value = 2, min = 2, max = 10))"
   ]
  },
  {
   "cell_type": "markdown",
   "id": "0b2859da",
   "metadata": {},
   "source": [
    "# Distributions of Exposure\n",
    "We consider the following:\n",
    "\\begin{gather}\n",
    "\\int_0^{\\tau_{max}} \\,d\\tau\\,\\rho(\\tau) = 1\n",
    "\\end{gather}\n",
    "to define the value $\\rho(\\tau)$ as the probability distribution that a region will see a given exposure. The integral:\n",
    "\\begin{gather}\n",
    "G[\\rho] = \\int_0^{\\tau_{max}} d\\tau \\, G(Z,A',\\tau ; Z,A,0)\\, \\rho(\\tau)\n",
    "\\end{gather}\n",
    "Defines the functional G[$\\rho$] which when multiplied by the initial abundances gives the final abundance of a species in some region that experiences the distribution of exposures defined. First we define the distribution. One may use any distribution they are interested in by simply modifying the 'dist' function, but here we use a gaussian centered at $\\tau =0.07$:"
   ]
  },
  {
   "cell_type": "code",
   "execution_count": 46,
   "id": "9c04f7d8",
   "metadata": {},
   "outputs": [],
   "source": [
    "import scipy.integrate as integrate \n",
    "\n",
    "def dist(tau):\n",
    "#    return np.exp(-(tau-0.07)**2)\n",
    "    return np.exp(-(tau)**2)\n",
    "\n",
    "def norm(tau, tau_max):\n",
    "    integral, _ = integrate.quad(dist, 0, tau_max)\n",
    "    a = 1/integral\n",
    "    return a*dist(tau)\n",
    "\n",
    "def Grho_integrand(tau, tup, tau_max):\n",
    "    return analytic(tau, tup)*norm(tau, tau_max)"
   ]
  },
  {
   "cell_type": "markdown",
   "id": "daba5a43",
   "metadata": {},
   "source": [
    "Now, we define $\\tau_{max}$ and integrate numerically to get the $G[\\rho]$ matrix elements. "
   ]
  },
  {
   "cell_type": "code",
   "execution_count": 47,
   "id": "09013a1f",
   "metadata": {},
   "outputs": [],
   "source": [
    "tau_max = 0.2\n",
    "Grho = np.empty((len(species),len(species)))\n",
    "for i in range(len(species)):\n",
    "    for j in range(len(species)):\n",
    "        if j<=i: \n",
    "            Grho[i,j], _ = integrate.quad(Grho_integrand, 0, tau_max, args = (matrix[i,j], tau_max))\n",
    "        else:\n",
    "            Grho[i,j] = 0"
   ]
  },
  {
   "cell_type": "markdown",
   "id": "45edc8ed",
   "metadata": {},
   "source": [
    "Finally we compute the abundances from this distribution of exposures "
   ]
  },
  {
   "cell_type": "code",
   "execution_count": 53,
   "id": "ba47bd8a",
   "metadata": {},
   "outputs": [
    {
     "data": {
      "image/png": "[encoded data removed]",
      "text/plain": [
       "<Figure size 640x480 with 1 Axes>"
      ]
     },
     "metadata": {},
     "output_type": "display_data"
    }
   ],
   "source": [
    "ys_dist = np.dot(Grho, y0_array)\n",
    "for i in range(len(ys)):\n",
    "    plt.plot(a[i], ys_dist[i], 'o', color='orange')\n",
    "plt.yscale('log')\n",
    "plt.ylabel('Abundance')\n",
    "plt.xlabel(r'$^{i}$Ca')\n",
    "plt.show()"
   ]
  },
  {
   "cell_type": "markdown",
   "id": "edf74fed",
   "metadata": {},
   "source": [
    "One can consider the distribution of exposures calculation equivalent to mixing multiple layers of a star that experience different neutron exposures. For this reason it is reasonable to consider this mixture in the context of replicating the abundances in presolar grains. \n",
    "\n",
    "## Comparison to data\n"
   ]
  },
  {
   "cell_type": "code",
   "execution_count": null,
   "id": "2fe362bd",
   "metadata": {},
   "outputs": [],
   "source": []
  }
 ],
 "metadata": {
  "kernelspec": {
   "display_name": "venv",
   "language": "python",
   "name": "venv"
  },
  "language_info": {
   "codemirror_mode": {
    "name": "ipython",
    "version": 3
   },
   "file_extension": ".py",
   "mimetype": "text/x-python",
   "name": "python",
   "nbconvert_exporter": "python",
   "pygments_lexer": "ipython3",
   "version": "3.9.1"
  }
 },
 "nbformat": 4,
 "nbformat_minor": 5
}

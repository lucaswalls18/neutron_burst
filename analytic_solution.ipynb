{
 "cells": [
  {
   "cell_type": "markdown",
   "id": "e8ea8958",
   "metadata": {},
   "source": [
    "# Neutron-burst Nucleosynthesis\n",
    "This notebook applies analytic solutions to the neutron-burst nucleosynthesis problem. The user defines the burst network, builds up contributions of one species to another during the burst, and then uses those contributions to compute the abundance changes during a burst.  With such solutions available, the user can look at a distribution of burst exposures and compare results to user-supplied cosmochemical data."
   ]
  },
  {
   "cell_type": "markdown",
   "id": "807c4bc3",
   "metadata": {},
   "source": [
    "# Preliminaries \n",
    "We begin by importing the necessary libraries and defining key functions."
   ]
  },
  {
   "cell_type": "code",
   "execution_count": null,
   "id": "415246f5",
   "metadata": {},
   "outputs": [],
   "source": [
    "import sys, subprocess, pkg_resources\n",
    "import os, io, requests\n",
    "required = {'numpy', 'wnutils', 'wnnet', 'matplotlib', 'ipywidgets', 'wnpoly'}\n",
    "installed = {pkg.key for pkg in pkg_resources.working_set}\n",
    "missing = required - installed\n",
    "\n",
    "if missing:\n",
    "    subprocess.check_call([sys.executable,'-m','pip','install','--quiet',*missing])\n",
    "\n",
    "import wnnet as wn \n",
    "from scipy.integrate import solve_ivp\n",
    "import scipy.integrate as integrate\n",
    "import wnutils.xml as wx\n",
    "import wnpoly as wp\n",
    "import matplotlib.pyplot as plt\n",
    "from statistics import geometric_mean\n",
    "import ipywidgets as widgets\n",
    "from ipywidgets import interact, fixed\n",
    "import numpy as np\n",
    "import math\n",
    "from IPython.display import display, Math"
   ]
  },
  {
   "cell_type": "markdown",
   "id": "b71c57e8",
   "metadata": {},
   "source": [
    "Next, define a routine to compute the neutron capture cross sections using [wnnet](https://readthedocs.io/wnnet)."
   ]
  },
  {
   "cell_type": "code",
   "execution_count": null,
   "id": "ba52c374",
   "metadata": {},
   "outputs": [],
   "source": [
    "def get_sigs(net, t9):\n",
    "    induced_reac_xpath = \"[reactant = 'n' and product = 'gamma']\"\n",
    "    reacs = net.compute_rates(t9, reac_xpath = induced_reac_xpath)\n",
    "    rates = []\n",
    "    for key, values in list(reacs.items()):\n",
    "        rates.append(values[0])\n",
    "    \n",
    "    ordered_dict = {}\n",
    "\n",
    "    for sp in species:\n",
    "        for key, value in net.get_reactions(reac_xpath = induced_reac_xpath).items():\n",
    "            if sp in value.reactants:\n",
    "                ordered_dict[sp] = reacs[key][0]\n",
    "            \n",
    "    T = t9 * 10**9\n",
    "    k = wn.consts.consts.GSL_CONST_CGS_BOLTZMANN\n",
    "    N_A = wn.consts.consts.GSL_CONST_NUM_AVOGADRO\n",
    "    m_n = wn.consts.consts.GSL_CONST_CGS_MASS_NEUTRON\n",
    "    v_T = np.sqrt((2*k*T)/m_n)\n",
    "    sigs_array = []\n",
    "    for key, value in ordered_dict.items():\n",
    "        sigs_array.append(1000*value/(v_T*N_A*wn.consts.consts.GSL_CONST_CGSM_BARN))\n",
    "        \n",
    "    return sigs_array"
   ]
  },
  {
   "cell_type": "markdown",
   "id": "29e56c61",
   "metadata": {},
   "source": [
    "Now define a routine to retrieve the solar abundances and mass numbers for a particular set of species."
   ]
  },
  {
   "cell_type": "code",
   "execution_count": null,
   "id": "a8a3815f",
   "metadata": {},
   "outputs": [],
   "source": [
    "def get_abunds(solar_xml, my_species):\n",
    "    solar_data = solar_xml.get_zone_data()\n",
    "    x_solar = solar_data[\"0\"][\"mass fractions\"]\n",
    "\n",
    "    a = []\n",
    "    d = {}\n",
    "\n",
    "    for isotope in my_species:\n",
    "        tup = solar_xml.get_z_a_state_from_nuclide_name(isotope)\n",
    "        s_tup = (isotope, tup[0], tup[1])\n",
    "        if s_tup in x_solar:\n",
    "            a.append(s_tup[2])\n",
    "            d[s_tup[0]] = x_solar[s_tup] / tup[1]\n",
    "        else:\n",
    "            a.append(s_tup[2])\n",
    "            d[s_tup[0]] = 0\n",
    "            \n",
    "    return a, d"
   ]
  },
  {
   "cell_type": "markdown",
   "id": "3aafa070",
   "metadata": {},
   "source": [
    "For the analytic solution to the linear acyclic reaction network relevant in this problem, we need the geometric mean for all paths and the coefficients of the bell polynomials corresponding to the cross sections in the path. Here we define a function to return these values."
   ]
  },
  {
   "cell_type": "code",
   "execution_count": null,
   "id": "9c398875",
   "metadata": {},
   "outputs": [],
   "source": [
    "def get_variables(sigs_array, j):\n",
    "    s = wp.symm.Complete()\n",
    "    h = s.compute_normalized(sigs_array, j) \n",
    "    b = wp.bell.Bell()\n",
    "    x = b.invert(h)\n",
    "    if len(sigs_array)>1:\n",
    "        gmean = geometric_mean(sigs_array[0:len(sigs_array)-1])\n",
    "    else:\n",
    "        gmean = 1\n",
    "    return [len(sigs_array), gmean, x]"
   ]
  },
  {
   "cell_type": "markdown",
   "id": "0021e93d",
   "metadata": {},
   "source": [
    "Define analytic and numeric functions for the computation of the contribution of one species to another in the neutron burst."
   ]
  },
  {
   "cell_type": "code",
   "execution_count": null,
   "id": "48955229",
   "metadata": {},
   "outputs": [],
   "source": [
    "def g_numerical(t, y, sigmas):\n",
    "    N = len(y)\n",
    "    result = np.zeros(N)\n",
    "    result[0] = -sigmas[0]*y[0]\n",
    "    for i in range(1, N):\n",
    "        result[i] = sigmas[i-1]*y[i-1] - sigmas[i]*y[i]\n",
    "    return result\n",
    "\n",
    "def g_analytic(tau, tup):\n",
    "    result = 0\n",
    "    for n in range(len(tup[2])):\n",
    "        result += tup[2][n] * np.power(-tau, n) / math.factorial(n)\n",
    "    return np.power(tup[1] * tau, tup[0]-1) * np.exp(result) / math.factorial(tup[0]-1)"
   ]
  },
  {
   "cell_type": "markdown",
   "id": "107bd629",
   "metadata": {},
   "source": [
    "Define a routine to return the matrix holding the variable for analytic species contributions."
   ]
  },
  {
   "cell_type": "code",
   "execution_count": null,
   "id": "5389d706",
   "metadata": {},
   "outputs": [],
   "source": [
    "def compute_matrix(my_sig_array,  my_species):\n",
    "    matrix = np.empty((len(my_species),len(my_species)), dtype = \"object\")\n",
    "\n",
    "    for i in range(len(my_species)):\n",
    "        for j in range(len(my_species)):\n",
    "            if j<=i: \n",
    "                sigmas = my_sig_array[j:i+1]\n",
    "                matrix[i,j] = get_variables(sigmas, 2)\n",
    "            else:\n",
    "                matrix[i,j] = 0\n",
    "                \n",
    "    return matrix"
   ]
  },
  {
   "cell_type": "markdown",
   "id": "1892d8d7",
   "metadata": {},
   "source": [
    "Define a routine to return the matrix of species contributions versus exposure."
   ]
  },
  {
   "cell_type": "code",
   "execution_count": null,
   "id": "e86d4d59",
   "metadata": {},
   "outputs": [],
   "source": [
    "def compute_gs(my_sig_array, taus, my_species):\n",
    "    matrix = compute_matrix(my_sig_array, my_species)\n",
    "    \n",
    "    Gs = np.empty((len(my_species),len(my_species)), dtype = \"object\")\n",
    "    \n",
    "    for i in range(len(my_species)):\n",
    "        for j in range(len(my_species)):\n",
    "            if j<=i:\n",
    "                Gs[i,j] = g_analytic(taus, matrix[i,j])\n",
    "            else:\n",
    "                Gs[i,j] = 0\n",
    "                \n",
    "    return Gs"
   ]
  },
  {
   "cell_type": "markdown",
   "id": "5bec9438",
   "metadata": {},
   "source": [
    "Now define functions for integration over a distribution of exposures."
   ]
  },
  {
   "cell_type": "code",
   "execution_count": null,
   "id": "2c54bd0a",
   "metadata": {},
   "outputs": [],
   "source": [
    "def Grho_integrand(tau, tup, dist):\n",
    "    return g_analytic(tau, tup) * dist(tau)\n",
    "\n",
    "def Grho_norm(tau, dist):\n",
    "    return dist(tau)"
   ]
  },
  {
   "cell_type": "markdown",
   "id": "32cd565d",
   "metadata": {},
   "source": [
    "# Retrieve data.\n",
    "This section retrieves the network and solar abundances data for the calculation."
   ]
  },
  {
   "cell_type": "markdown",
   "id": "892788d2",
   "metadata": {},
   "source": [
    "First retrieve the network data needed to compute neutron-capture cross sections.  The default is to download the data from [OSF](https://osf.io/kyhbs).  The commented line shows how to import network data from a user-supplied file (here called *example_net.xml*)."
   ]
  },
  {
   "cell_type": "code",
   "execution_count": null,
   "id": "3a80bf41",
   "metadata": {},
   "outputs": [],
   "source": [
    "net = wn.net.Net(io.BytesIO(requests.get('https://osf.io/kyhbs/download').content))\n",
    "#net = wn.net.Net(\"example_net.xml\")"
   ]
  },
  {
   "cell_type": "markdown",
   "id": "30f64f73",
   "metadata": {},
   "source": [
    "Next retrieve the solar abundances.  The default is to download the abundances from [Lodders (2003)](https://ui.adsabs.harvard.edu/abs/2003ApJ...591.1220L/abstract) from [OSF](https://osf.io/bd3xn/).  The commented line shows how to import data from a user-supplied file."
   ]
  },
  {
   "cell_type": "code",
   "execution_count": null,
   "id": "2cfe837d",
   "metadata": {},
   "outputs": [],
   "source": [
    "solar_xml = wx.Xml(io.BytesIO(requests.get(\"https://osf.io/j67qa/download\").content))\n",
    "#solar_xml = wx.Xml(\"example_solar.xml\")"
   ]
  },
  {
   "cell_type": "markdown",
   "id": "635df637",
   "metadata": {},
   "source": [
    "# Set the network and compute the cross sections.\n",
    "This section sets the neutron-burst network. The isotopes defined must be of the same element and must have increasing consecutive mass number (this is a condition for a neutron burst network).  This secction also lets the user define the temperature and compute the appropriate neutron-capture cross sections."
   ]
  },
  {
   "cell_type": "markdown",
   "id": "8d67a48a",
   "metadata": {},
   "source": [
    "Here define the network.  The default is a network of calcium isotopes.  The commented line shows a different network (zirconium)."
   ]
  },
  {
   "cell_type": "code",
   "execution_count": null,
   "id": "0d2c9373",
   "metadata": {},
   "outputs": [],
   "source": [
    "#species = ['ca40','ca41','ca42','ca43','ca44','ca45','ca46', 'ca47', 'ca48', 'ca49']\n",
    "species = ['ni58','ni59','ni60','ni61','ni62','ni63','ni64','ni65','ni66']"
   ]
  },
  {
   "cell_type": "markdown",
   "id": "e1e967b2",
   "metadata": {},
   "source": [
    "Define a $T_9$, the temperature for the neutron burst in billions of K.   The temperature during the neutron burst will be roughly constant, so defining a single temperature is a good approximation."
   ]
  },
  {
   "cell_type": "code",
   "execution_count": null,
   "id": "d644c460",
   "metadata": {},
   "outputs": [],
   "source": [
    "t9 = 0.7"
   ]
  },
  {
   "cell_type": "markdown",
   "id": "25f07581",
   "metadata": {},
   "source": [
    "Now compute and print out the neutron-capture cross sections for our neutron-burst network at the input temperature.  The cross sections have the units of inverse millibarns."
   ]
  },
  {
   "cell_type": "code",
   "execution_count": null,
   "id": "befc7233",
   "metadata": {},
   "outputs": [],
   "source": [
    "sigs_array = get_sigs(net, t9)\n",
    "\n",
    "for i in range(len(sigs_array)):\n",
    "    latex_name = solar_xml.get_latex_names([species[i]])[species[i]]\n",
    "    sig_value = sigs_array[i]\n",
    "\n",
    "    latex_str = f\"$\\sigma_n$({latex_name}) : {sig_value:.4f} $\\, \\\\text{{mb}}$\"\n",
    "\n",
    "    display(Math(latex_str))"
   ]
  },
  {
   "cell_type": "markdown",
   "id": "a3c8d177",
   "metadata": {},
   "source": [
    "# The relative contribution - G\n",
    "In the neutron burst, neutrons are released suddenly and are captured rapidly so that beta decays may be neglected.  A convenient evolutionary parameter, then, is the neutron exposure $\\tau$, which is given by the expression\n",
    "\n",
    "\\begin{gather}\n",
    "\\tau = \\int_0^\\infty n_n(t) v_T(t) dt\\notag\n",
    "\\end{gather}\n",
    "\n",
    "where $n_n(t)$ is the neutron number density at time $t$ and $v_T(t)$ is the thermal velocity, also at time $t$.  The neutron exposure gives the number of neutrons crossing a square centimeter over the duration of the burst.\n",
    "\n",
    "In the burst, a species with atomic number $Z$ and mass number $A'$ may capture one or more neutrons.  In this way, the initial abundance of that species contributes to the final abundance of another species with atomic number $Z$ and mass number $A$.  The quantity $G(Z, A, \\tau; Z, A', 0)$ is the fraction of the initial abundance of species $(Z, A')$ that contributes to the final abundances of species $(Z, A)$ over exposure $\\tau$.  For the linear, acyclic network in the present case, we may find:\n",
    "\n",
    "\\begin{gather}\n",
    "G(Z,A,\\tau;Z, A', 0) = \\frac{(\\sigma \\tau)^{N-1}}{(N-1)!}\\exp\\Big({\\sum_{j=1}^\\infty x_j \\frac{(-\\tau)^j}{j!}}\\Big)\\notag\n",
    "\\end{gather}\n",
    "\n",
    "The $\\sigma$ is the geometric mean of the cross sections between $(Z,A')$ and $(Z,A)$, $N$ is the number of species in the chain from $(Z, A')$ to $(Z, A)$, $\\tau$ is the exposure, and the $x_j$s are variables derived from Bell polynomials of the cross sections between $(Z, A')$ and $(Z,A)$. The Bell-polynomial-derived variables are computed using the [wnpoly](https://wnpoly.readthedocs.io) python package and the previously defined *get_variables* function. Note also that the function includes an infinite sum in the exponential.  The exact solution requires all those terms, but for the neutron burst, for which $\\tau$ is typically less than one, inclusion of only two or three terms usually gives a sufficiently accurate result."
   ]
  },
  {
   "cell_type": "markdown",
   "id": "f0400bb3",
   "metadata": {},
   "source": [
    "This cell computes $G(Z, A, \\tau; Z, A', 0)$ both via the analytic solution above and a numerical integration of the network equations.  The numerical solution, if sufficiently accurate, may be thought of as the analytic solution including all terms in the infinite sum of the exponent.  The user chooses *sp1*, which is $(Z, A')$, *sp2*, which is $(Z, A)$, and $j_m$, which is the number of terms in the polynomial in the exponential part of $G(Z, A, \\tau; Z, A', 0)$.  The cell prints out the $N$, $\\sigma$, and $X_j$'s for the analytic solution.  It also plots the analytic versus numerical solution.  Increasing $j_m$ can improve the agreement between the analytic and numerical solutions, but $j_m = 2$ or $3$ is usually sufficient to give a good match."
   ]
  },
  {
   "cell_type": "code",
   "execution_count": null,
   "id": "9f1439a7",
   "metadata": {},
   "outputs": [],
   "source": [
    "def compare(sp1, sp2, j_m):\n",
    "    N = len(species[species.index(sp1):species.index(sp2)+1])\n",
    "    sigs = sigs_array[species.index(sp1): species.index(sp2)+1]\n",
    "    tup = get_variables(sigs, j_m) \n",
    "    print('******************************************************************************************')\n",
    "    print(\"The variables required to compute the relative contribution of \" + f\"{sp1} to {sp2} are:\\n\")\n",
    "    print(f\"    N = {tup[0]}\")\n",
    "    print(f\"    sigma = {tup[1]:.4f}\")\n",
    "    for j in range(1, len(tup[2])):\n",
    "          print(f\"    x_{j} = {tup[2][j]:.4f}\")\n",
    "    print('******************************************************************************************')\n",
    "    abunds = np.zeros(N)\n",
    "    abunds[0] = 1\n",
    "    tau = np.linspace(0, 1, 30) \n",
    "    sol = solve_ivp(g_numerical, [tau[0], tau[len(tau)-1]], abunds, args = (sigs,), max_step = 0.001)\n",
    "    plt.plot(sol.t, sol.y[-1], label = 'numerical')\n",
    "    plt.plot(tau, g_analytic(tau,tup), 'o', label = 'analytic')\n",
    "    plt.xlabel(r'$\\tau$')\n",
    "    plt.ylabel(r'$G(\\tau)$')\n",
    "    plt.legend()\n",
    "    \n",
    "interact(compare, \n",
    "        sp1 = widgets.Dropdown(options = species),\n",
    "        sp2 = widgets.Dropdown(options = species), \n",
    "        j_m = widgets.BoundedIntText(value = 2, min = 2, max = 50))"
   ]
  },
  {
   "cell_type": "markdown",
   "id": "c664a5ba",
   "metadata": {},
   "source": [
    "This cell computes the contributions of all lower-mass species to a given species.  This involves computing $G(Z, A, \\tau; Z, A', 0)$ for all $A' \\leq A$ in the network.  The user may vary the number of terms in the exponential polynomial ($j_m$)."
   ]
  },
  {
   "cell_type": "code",
   "execution_count": null,
   "id": "8080c73a",
   "metadata": {},
   "outputs": [],
   "source": [
    "def contributions(sp, j_m):\n",
    "    index = species.index(sp)\n",
    "    tau = np.linspace(0, 0.2, 100)\n",
    "    G = np.empty(index+1, dtype = 'object')\n",
    "    for i in range(index+1):\n",
    "        sigs = sigs_array[i:index+1]\n",
    "        G[i] = g_analytic(tau, get_variables(sigs, j_m))\n",
    "    for i in range(len(G)):\n",
    "        plt.plot(tau, G[i], label = solar_xml.get_latex_names([species[i]])[species[i]])\n",
    "    plt.legend()\n",
    "    plt.ylabel(r'$G(\\tau)$')\n",
    "    plt.xlabel(r'$\\tau$')\n",
    "    plt.show()\n",
    "\n",
    "interact(contributions, \n",
    "        sp = widgets.Dropdown(options = species), \n",
    "        j_m = widgets.BoundedIntText(value = 2, min = 2, max = 10))"
   ]
  },
  {
   "cell_type": "markdown",
   "id": "5ef90869",
   "metadata": {},
   "source": [
    "# The abundances - Y\n",
    "With a reliable analytic solution available for the exposure range we are considering, we can look at the abundances of species in the analytic solution.  The abundance of species $(Z,A)$, that is, $Y(Z,A,\\tau)$, is given by the contribution of all species along the path multiplied by their relavent initial abundance $Y(Z,A',0)$:\n",
    "\\begin{gather}\n",
    "Y(Z,A,\\tau) = \\sum_{A'<=A} G(Z,A,\\tau;Z,A',0)\\,Y(Z,A',0)\n",
    "\\end{gather}\n"
   ]
  },
  {
   "cell_type": "markdown",
   "id": "7f000fc4",
   "metadata": {},
   "source": [
    "First, we retrieve the solar abundances for the species in our network."
   ]
  },
  {
   "cell_type": "code",
   "execution_count": null,
   "id": "5ad9ebf0",
   "metadata": {},
   "outputs": [],
   "source": [
    "a, y0 = get_abunds(solar_xml, species)\n",
    "y0_list = []\n",
    "for sp in species:\n",
    "    y0_list.append(y0[sp])\n",
    "y0_array = np.array(y0_list)"
   ]
  },
  {
   "cell_type": "markdown",
   "id": "309c6fc2",
   "metadata": {},
   "source": [
    "Define an array of exposures and compute Gs, the analytic contributions of species over that array.  Gs is a matrix.  Each element of Gs is an array of contributions of the species indexed by the matrix column number to the species indexed by the matrix row number.  The array for each element gives the contributions as a function of exposure."
   ]
  },
  {
   "cell_type": "code",
   "execution_count": null,
   "id": "c365dc0f",
   "metadata": {},
   "outputs": [],
   "source": [
    "tau = np.linspace(0, 0.3, 100)\n",
    "Gs = compute_gs(sigs_array, tau, species)"
   ]
  },
  {
   "cell_type": "markdown",
   "id": "20ec42ce",
   "metadata": {},
   "source": [
    "Now compute and plot the abundances."
   ]
  },
  {
   "cell_type": "code",
   "execution_count": null,
   "id": "3ecf8b4e",
   "metadata": {},
   "outputs": [],
   "source": [
    "abundances = np.dot(Gs, y0_array)\n",
    "\n",
    "for i in range(len(species)):\n",
    "    plt.plot(tau,abundances[i], label = solar_xml.get_latex_names([species[i]])[species[i]])\n",
    "    \n",
    "plt.legend()\n",
    "plt.ylabel('Y')\n",
    "plt.xlabel(r'$\\tau$')\n",
    "plt.yscale('log')\n",
    "plt.show()"
   ]
  },
  {
   "cell_type": "markdown",
   "id": "a27d2627",
   "metadata": {},
   "source": [
    "It is also instructive to consider the contribution of each species to the abundance of a given species *sp*, which is the species $(Z, A)$.  This cell allows the user to do that.  Choose the given species.  The graph will show how much the original abundance of each other species $(Z, A')$ contributes to final abundance of $(Z, A)$ as a function of exposure."
   ]
  },
  {
   "cell_type": "code",
   "execution_count": null,
   "id": "14f0cbf9",
   "metadata": {},
   "outputs": [],
   "source": [
    "def contrib_abunds(sp):\n",
    "    index = species.index(sp)\n",
    "    G_row = Gs[index, :]\n",
    "    for i in range(index+1):\n",
    "        plt.plot(tau, G_row[i]*y0_array[i], label = solar_xml.get_latex_names([species[i]])[species[i]])\n",
    "    plt.plot(tau, np.dot(G_row,y0_array), label = \"Total\")\n",
    "    plt.legend()\n",
    "    plt.yscale('log')\n",
    "    plt.xlabel(r'$\\tau$')\n",
    "    plt.ylabel('G*Y')\n",
    "\n",
    "interact(contrib_abunds, \n",
    "        sp = widgets.Dropdown(options = species[1:-1]), \n",
    "        j = widgets.BoundedIntText(value = 2, min = 2, max = 10))"
   ]
  },
  {
   "cell_type": "markdown",
   "id": "0b2859da",
   "metadata": {},
   "source": [
    "# Distributions of Exposure\n",
    "It may be that some sample is characterized by material that is a mixture of neutron bursts with different exposures.  This may be computed from a *distribution* of exposure $\\rho(\\tau)$, which gives the fraction of matter in the mixture that has seen exposure in the range $\\tau$ to $\\tau + d\\tau$.  $\\rho(\\tau)$ should be normalized such that\n",
    "\\begin{gather}\n",
    "\\int_0^{\\tau_{max}} \\,d\\tau\\,\\rho(\\tau) = 1\n",
    "\\end{gather}\n",
    "where $\\tau_{max}$ is the largest exposure seen (it can be $\\infty$).  We can then define the function $G[\\rho]$ via the integral\n",
    "\\begin{gather}\n",
    "G[\\rho] = \\int_0^{\\tau_{max}} d\\tau \\, G(Z,A',\\tau ; Z,A,0)\\, \\rho(\\tau)\n",
    "\\end{gather}\n",
    "When multiplied by the initial abundances, this gives the final abundances for the mixture under consideraton."
   ]
  },
  {
   "cell_type": "markdown",
   "id": "8e0adfde",
   "metadata": {},
   "source": [
    "Define the functional form for the distribution of exposures.  The default is an exponential distribution $\\rho(\\tau) = \\exp(-\\tau/\\tau_0)$, where $\\tau_0$ is the average exposure.  Commented function shows a gaussian distribution centered at $\\tau_0$ with width $\\sigma$: $\\rho(\\tau) = \\exp\\{-(\\tau - \\tau_0)^2 / \\sigma^2\\}$."
   ]
  },
  {
   "cell_type": "code",
   "execution_count": null,
   "id": "9c04f7d8",
   "metadata": {},
   "outputs": [],
   "source": [
    "# An exponential distribution of exposures\n",
    "def dist(tau, tau_0):\n",
    "    return np.exp(-(tau)/tau_0)\n",
    "\n",
    "# A gaussian distribution of exposures\n",
    "# def dist(tau, tau_0, sigma):\n",
    "#   return np.exp(-(tau - tau_0)**2/sigma**2)"
   ]
  },
  {
   "cell_type": "markdown",
   "id": "87826198",
   "metadata": {},
   "source": [
    "Create a functional form of $\\rho(\\tau)$ from the above defined distribution.  Here we can bind data to our chosen function by explicitly setting data other than the variable $\\tau$, which will vary during the integration, as indicated by the *lambda* directive.  The default is the exponential distribution with average exposure 0.07.  The commented code shows how to define the exponential distribution centered at 0.05 with a width of 0.01."
   ]
  },
  {
   "cell_type": "code",
   "execution_count": null,
   "id": "094bd453",
   "metadata": {},
   "outputs": [],
   "source": [
    "my_func = lambda tau: dist(tau, 0.07)\n",
    "#my_func = lambda tau: dist(tau, 0.05, 0.01)"
   ]
  },
  {
   "cell_type": "markdown",
   "id": "daba5a43",
   "metadata": {},
   "source": [
    "Now, we define $\\tau_{max}$ and integrate numerically to get the $G[\\rho]$ matrix elements. "
   ]
  },
  {
   "cell_type": "code",
   "execution_count": null,
   "id": "09013a1f",
   "metadata": {},
   "outputs": [],
   "source": [
    "tau_max = 0.075\n",
    "matrix = compute_matrix(sigs_array, species)\n",
    "Grho = np.empty((len(species),len(species)))\n",
    "for i in range(len(species)):\n",
    "    for j in range(len(species)):\n",
    "        if j<=i: \n",
    "            Grho[i,j], _ = integrate.quad(Grho_integrand, 0, tau_max, args = (matrix[i,j], my_func))\n",
    "        else:\n",
    "            Grho[i,j] = 0\n",
    "\n",
    "Gnorm, _ = integrate.quad(Grho_norm, 0, tau_max, args=my_func)\n",
    "Grho /= Gnorm"
   ]
  },
  {
   "cell_type": "markdown",
   "id": "45edc8ed",
   "metadata": {},
   "source": [
    "Finally we compute the abundances from this distribution of exposures "
   ]
  },
  {
   "cell_type": "code",
   "execution_count": null,
   "id": "ba47bd8a",
   "metadata": {},
   "outputs": [],
   "source": [
    "ys_dist = np.dot(Grho, y0_array)\n",
    "dist_dict = {}\n",
    "for sp in species:\n",
    "    dist_dict[sp] = ys_dist[species.index(sp)]\n",
    "plt.plot(a, ys_dist, '-o', color='orange')\n",
    "plt.yscale('log')\n",
    "plt.ylabel('Abundance')\n",
    "plt.xlabel(r'$^{i}$Ni')\n",
    "plt.show()"
   ]
  }
 ],
 "metadata": {
  "kernelspec": {
   "display_name": "Python 3",
   "language": "python",
   "name": "python3"
  },
  "language_info": {
   "codemirror_mode": {
    "name": "ipython",
    "version": 3
   },
   "file_extension": ".py",
   "mimetype": "text/x-python",
   "name": "python",
   "nbconvert_exporter": "python",
   "pygments_lexer": "ipython3",
   "version": "3.9.1"
  }
 },
 "nbformat": 4,
 "nbformat_minor": 5
}

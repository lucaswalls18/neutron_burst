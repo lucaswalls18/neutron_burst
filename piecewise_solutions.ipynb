{
 "cells": [
  {
   "cell_type": "markdown",
   "id": "cf914d16",
   "metadata": {},
   "source": [
    "# Piecewise solutions to the linear acyclic network \n",
    "\n",
    "The solution representing the relative contribution of species $j$ to species $i$ across some chain of N vertices is given in terms of the Laplace transform coordinate $s$ as:\n",
    "\n",
    "\\begin{gather}\n",
    "G_{ij}(s) = \\frac{\\prod_{i=1}^N \\alpha_i}{\\prod_{j=1}^{N-1} (s+\\alpha_j)}\n",
    "\\end{gather}\n",
    "\n",
    "which by solving the Bromwhich integral becomes the familiar $G_{ij}(\\tau)$. \n",
    "\n",
    "Now since $s \\sim \\frac{1}{\\tau}$ once $\\tau$ becomes large there will be some $\\alpha_k$ such that $s \\ll \\alpha_k$. In this situation the $\\alpha_k$ can be pulled out of the denominator to give:\n",
    "\\begin{gather}\n",
    "G_{ij}(s) = \\frac{\\prod_{i=1}^N \\alpha_i}{\\alpha_{k}\\prod_{j\\neq k=1}^{N-2} (s+\\alpha_j)}\n",
    "\\end{gather}\n",
    "Which will be accurate for some range of $\\tau$. "
   ]
  },
  {
   "cell_type": "markdown",
   "id": "25ae9916",
   "metadata": {},
   "source": [
    "## Obtaining the piecewise solutions\n",
    "\n",
    "We begin by defining two functions: one to calculate the $G_{ij}(\\tau)$ and one to mediate the transfer between the piecewise solutions:"
   ]
  },
  {
   "cell_type": "code",
   "execution_count": 1,
   "id": "b43691be",
   "metadata": {},
   "outputs": [],
   "source": [
    "import sys\n",
    "!{sys.executable} -m pip install --quiet wnpoly\n",
    "from scipy.integrate import solve_ivp\n",
    "import numpy as np\n",
    "import math\n",
    "import wnpoly as wp\n",
    "from scipy.stats import gmean\n",
    "import matplotlib.pyplot as plt\n",
    "from scipy.special import gammaln"
   ]
  },
  {
   "cell_type": "code",
   "execution_count": 6,
   "id": "7dcb2bac",
   "metadata": {},
   "outputs": [],
   "source": [
    "def get_poly(sigma, order):\n",
    "    s = wp.symm.Complete()\n",
    "    bell = wp.bell.Bell()\n",
    "    h = s.compute_normalized(sigma, order)\n",
    "    x = bell.invert(h)\n",
    "    return h, x \n",
    "    \n",
    "def get_fbar(sigma):\n",
    "    sig_max = max(sigma)\n",
    "    return [(sig_max - sigs)/sig_max for sigs in sigma]\n",
    "\n",
    "def G_piecewise(tau, sigma):\n",
    "    if max(sigma)*tau >=100:\n",
    "        sigs = [x for x in sigma if x<max(sigma)]\n",
    "    else:\n",
    "        sigs = sigma\n",
    "    max_sig = max(sigs)\n",
    "    sig = gmean(sigs)\n",
    "    fbar = get_fbar(sigs)\n",
    "    h, x = get_poly(fbar, 5)\n",
    "    result = 0 \n",
    "    m = len(sigs)\n",
    "    for i in range(len(x)):\n",
    "        result += x[i] * (max_sig*tau)**(i) * 1/(math.factorial(i))\n",
    "    return np.exp((m-1)*np.log(sig*tau) - gammaln(m) - max(sigma)*tau + result)\n",
    "\n",
    "def G_bell(tau, sigma, N):\n",
    "    f_bar = get_fbar(sigma)\n",
    "    m = len(sigma)\n",
    "    sig = gmean(sigma)\n",
    "    h, x = get_poly(f_bar, N)\n",
    "    max_sig = max(sigma)\n",
    "    result = 0 \n",
    "    for i in range(N):\n",
    "        result += x[i] * (max_sig*tau)**(i) * 1/(math.factorial(i))\n",
    "    return np.exp((m-1)*np.log(sig*tau) - gammaln(m) - max(sigma)*tau + result)\n",
    "\n",
    "def Y(t, y, sigs):\n",
    "    N = len(y)\n",
    "    result = np.zeros(N)\n",
    "    result[0] = -sigs[0]*y[0]\n",
    "    for i in range(1, N):\n",
    "        result[i] = sigs[i-1]*y[i-1] - sigs[i]*y[i]\n",
    "    return result"
   ]
  },
  {
   "cell_type": "code",
   "execution_count": 10,
   "id": "c3d39330",
   "metadata": {},
   "outputs": [
    {
     "name": "stderr",
     "output_type": "stream",
     "text": [
      "<ipython-input-6-6da6bc977f6a>:36: RuntimeWarning: overflow encountered in exp\n",
      "  return np.exp((m-1)*np.log(sig*tau) - gammaln(m) - max(sigma)*tau + result)\n",
      "<ipython-input-6-6da6bc977f6a>:25: RuntimeWarning: overflow encountered in exp\n",
      "  return np.exp((m-1)*np.log(sig*tau) - gammaln(m) - max(sigma)*tau + result)\n"
     ]
    },
    {
     "data": {
      "image/png": "[encoded data removed]",
      "text/plain": [
       "<Figure size 640x480 with 1 Axes>"
      ]
     },
     "metadata": {},
     "output_type": "display_data"
    }
   ],
   "source": [
    "sigma = [1,1,5,1]\n",
    "\n",
    "ys = np.zeros(len(sigma))\n",
    "ys[0] = 1\n",
    "\n",
    "tau = np.linspace(0.001, 10, 100)\n",
    "g_bell = np.zeros((len(tau), len(ys), len(ys)))\n",
    "g_bell_pw = np.zeros((len(tau), len(ys), len(ys)))\n",
    "for t in range(len(tau)):\n",
    "    for i in range(len(ys)):\n",
    "        for j in range(len(ys)):\n",
    "            if j<=i:\n",
    "                sig_array = sigma[j:i+1]\n",
    "                g_bell[t][i,j] = G_bell(tau[t], sig_array, 10)\n",
    "                g_bell_pw[t][i,j] = G_piecewise(tau[t], sig_array)\n",
    "                \n",
    "y_b_final = np.zeros([len(tau), len(ys)])\n",
    "y_b_final_pw = np.zeros([len(tau), len(ys)])\n",
    "for t in range(len(tau)):\n",
    "    y_b_final[t] = np.dot(g_bell[t], ys)\n",
    "    y_b_final_pw[t] = np.dot(g_bell_pw[t], ys)\n",
    "\n",
    "sol = solve_ivp(Y, [0, tau[len(tau)-1]], ys, args=(sigma,), max_step=0.02)\n",
    "\n",
    "#plot results\n",
    "plt.plot(sol.t, sol.y[2], ':', label='Numerical')\n",
    "plt.plot(tau, y_b_final[:,2], label = 'Bell complex shift')\n",
    "#plt.plot(tau, y_b_final_pw[:,2], label = 'Bell complex shift, piecewise soln')\n",
    "plt.legend()\n",
    "plt.xlabel(r'$\\tau$')\n",
    "plt.ylabel('Abundance')\n",
    "plt.show()"
   ]
  },
  {
   "cell_type": "code",
   "execution_count": null,
   "id": "1f387672",
   "metadata": {},
   "outputs": [],
   "source": []
  }
 ],
 "metadata": {
  "kernelspec": {
   "display_name": "venv",
   "language": "python",
   "name": "venv"
  },
  "language_info": {
   "codemirror_mode": {
    "name": "ipython",
    "version": 3
   },
   "file_extension": ".py",
   "mimetype": "text/x-python",
   "name": "python",
   "nbconvert_exporter": "python",
   "pygments_lexer": "ipython3",
   "version": "3.9.1"
  }
 },
 "nbformat": 4,
 "nbformat_minor": 5
}

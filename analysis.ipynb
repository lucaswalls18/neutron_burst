{
 "cells": [
  {
   "cell_type": "markdown",
   "id": "5047ff8c",
   "metadata": {},
   "source": [
    "# Analysis with grain data\n",
    "\n",
    "Using the previously developed tools and functions, we can compare the results of the analytic solution to that of presolar grain data. In doing so one may want to modify cross sections and initial abundances. This notebook goes through this process and offers insight into how these adjustments change the overall production of certain species in the neutron burst. \n",
    "\n",
    "# Preliminaries \n",
    "We begin by importing the necessary libraries:"
   ]
  },
  {
   "cell_type": "code",
   "execution_count": 70,
   "id": "cb767e0b",
   "metadata": {},
   "outputs": [],
   "source": [
    "import sys, subprocess, pkg_resources\n",
    "import os, io, requests\n",
    "required = {'numpy', 'wnutils', 'wnnet', 'matplotlib', 'ipywidgets', 'wnpoly'}\n",
    "installed = {pkg.key for pkg in pkg_resources.working_set}\n",
    "missing = required - installed\n",
    "\n",
    "if missing:\n",
    "    subprocess.check_call([sys.executable,'-m','pip','install','--quiet',*missing])\n",
    "\n",
    "import wnnet as wn \n",
    "from scipy.integrate import solve_ivp\n",
    "import scipy.integrate as integrate\n",
    "import wnutils.xml as wx\n",
    "import wnpoly as wp\n",
    "import matplotlib.pyplot as plt\n",
    "from statistics import geometric_mean\n",
    "import ipywidgets as widgets\n",
    "from ipywidgets import interact, fixed\n",
    "import numpy as np\n",
    "import math\n",
    "from IPython.display import display, Math"
   ]
  },
  {
   "cell_type": "markdown",
   "id": "12de56ea",
   "metadata": {},
   "source": [
    "Now, we define the same functions as in the previous notebook:"
   ]
  },
  {
   "cell_type": "code",
   "execution_count": 71,
   "id": "3dce6c58",
   "metadata": {},
   "outputs": [],
   "source": [
    "def get_sigs(net, t9):\n",
    "    induced_reac_xpath = \"[reactant = 'n' and product = 'gamma']\"\n",
    "    reacs = net.compute_rates(t9, reac_xpath = induced_reac_xpath)\n",
    "    rates = []\n",
    "    for key, values in list(reacs.items()):\n",
    "        rates.append(values[0])\n",
    "    \n",
    "    ordered_dict = {}\n",
    "\n",
    "    for sp in species:\n",
    "        for key, value in net.get_reactions(reac_xpath = induced_reac_xpath).items():\n",
    "            if sp in value.reactants:\n",
    "                ordered_dict[sp] = reacs[key][0]\n",
    "            \n",
    "    T = t9 * 10**9\n",
    "    k = wn.consts.consts.GSL_CONST_CGS_BOLTZMANN\n",
    "    N_A = wn.consts.consts.GSL_CONST_NUM_AVOGADRO\n",
    "    m_n = wn.consts.consts.GSL_CONST_CGS_MASS_NEUTRON\n",
    "    v_T = np.sqrt((2*k*T)/m_n)\n",
    "    sigs_array = []\n",
    "    for key, value in ordered_dict.items():\n",
    "        sigs_array.append(1000*value/(v_T*N_A*wn.consts.consts.GSL_CONST_CGSM_BARN))\n",
    "        \n",
    "    return sigs_array"
   ]
  },
  {
   "cell_type": "code",
   "execution_count": 72,
   "id": "8bf2cafb",
   "metadata": {},
   "outputs": [],
   "source": [
    "def get_abunds(solar_xml, my_species):\n",
    "    solar_data = solar_xml.get_zone_data()\n",
    "    x_solar = solar_data[\"0\"][\"mass fractions\"]\n",
    "\n",
    "    a = []\n",
    "    d = {}\n",
    "\n",
    "    for isotope in my_species:\n",
    "        tup = solar_xml.get_z_a_state_from_nuclide_name(isotope)\n",
    "        s_tup = (isotope, tup[0], tup[1])\n",
    "        if s_tup in x_solar:\n",
    "            a.append(s_tup[2])\n",
    "            d[s_tup[0]] = x_solar[s_tup] / tup[1]\n",
    "        else:\n",
    "            a.append(s_tup[2])\n",
    "            d[s_tup[0]] = 0\n",
    "            \n",
    "    return a, d"
   ]
  },
  {
   "cell_type": "code",
   "execution_count": 73,
   "id": "09f9c066",
   "metadata": {},
   "outputs": [],
   "source": [
    "def get_variables(sigs_array, j):\n",
    "    s = wp.symm.Complete()\n",
    "    h = s.compute_normalized(sigs_array, j) \n",
    "    b = wp.bell.Bell()\n",
    "    x = b.invert(h)\n",
    "    if len(sigs_array)>1:\n",
    "        gmean = geometric_mean(sigs_array[0:len(sigs_array)-1])\n",
    "    else:\n",
    "        gmean = 1\n",
    "    return [len(sigs_array), gmean, x]"
   ]
  },
  {
   "cell_type": "code",
   "execution_count": 74,
   "id": "86905dc2",
   "metadata": {},
   "outputs": [],
   "source": [
    "def g_numerical(t, y, sigmas):\n",
    "    N = len(y)\n",
    "    result = np.zeros(N)\n",
    "    result[0] = -sigmas[0]*y[0]\n",
    "    for i in range(1, N):\n",
    "        result[i] = sigmas[i-1]*y[i-1] - sigmas[i]*y[i]\n",
    "    return result\n",
    "\n",
    "def g_analytic(tau, tup):\n",
    "    result = 0\n",
    "    for n in range(len(tup[2])):\n",
    "        result += tup[2][n] * np.power(-tau, n) / math.factorial(n)\n",
    "    return np.power(tup[1] * tau, tup[0]-1) * np.exp(result) / math.factorial(tup[0]-1)"
   ]
  },
  {
   "cell_type": "code",
   "execution_count": 186,
   "id": "a69f0e9a",
   "metadata": {},
   "outputs": [],
   "source": [
    "def compute_matrix(my_sig_array,  my_species):\n",
    "    matrix = np.empty((len(my_species),len(my_species)), dtype = \"object\")\n",
    "\n",
    "    for i in range(len(my_species)):\n",
    "        for j in range(len(my_species)):\n",
    "            if j<=i: \n",
    "                sigmas = my_sig_array[j:i+1]\n",
    "                matrix[i,j] = get_variables(sigmas, 4)\n",
    "            else:\n",
    "                matrix[i,j] = 0\n",
    "                \n",
    "    return matrix"
   ]
  },
  {
   "cell_type": "code",
   "execution_count": 187,
   "id": "32818593",
   "metadata": {},
   "outputs": [],
   "source": [
    "def compute_gs(my_sig_array, taus, my_species):\n",
    "    matrix = compute_matrix(my_sig_array, my_species)\n",
    "    \n",
    "    Gs = np.empty((len(my_species),len(my_species)), dtype = \"object\")\n",
    "    \n",
    "    for i in range(len(my_species)):\n",
    "        for j in range(len(my_species)):\n",
    "            if j<=i:\n",
    "                Gs[i,j] = g_analytic(taus, matrix[i,j])\n",
    "            else:\n",
    "                Gs[i,j] = 0\n",
    "                \n",
    "    return Gs"
   ]
  },
  {
   "cell_type": "markdown",
   "id": "9cbdaee2",
   "metadata": {},
   "source": [
    "And finally we import the network xml file and the solar abundances from Lodders:"
   ]
  },
  {
   "cell_type": "code",
   "execution_count": 188,
   "id": "3fe10438",
   "metadata": {},
   "outputs": [],
   "source": [
    "net = wn.net.Net(io.BytesIO(requests.get('https://osf.io/kyhbs/download').content))\n",
    "#net = wn.net.Net(\"example_net.xml\")"
   ]
  },
  {
   "cell_type": "code",
   "execution_count": 189,
   "id": "abc5e969",
   "metadata": {},
   "outputs": [],
   "source": [
    "solar_xml = wx.Xml(io.BytesIO(requests.get(\"https://osf.io/j67qa/download\").content))\n",
    "#solar_xml = wx.Xml(\"example_solar.xml\")"
   ]
  },
  {
   "cell_type": "markdown",
   "id": "1fa57e61",
   "metadata": {},
   "source": [
    "## Define your network\n",
    "\n",
    "First, we define the isotope chain that we are interested in exploring the effects of the neutron burst on:"
   ]
  },
  {
   "cell_type": "code",
   "execution_count": 190,
   "id": "144aef74",
   "metadata": {},
   "outputs": [],
   "source": [
    "species = ['ni58','ni59','ni60','ni61','ni62','ni63','ni64']"
   ]
  },
  {
   "cell_type": "markdown",
   "id": "cdf66bc1",
   "metadata": {},
   "source": [
    "Now, since the neutron burst happens at roughly the same temperature, we can define a single temperature and assume the neutron capture cross sections do not vary significantly over the course of the burst:"
   ]
  },
  {
   "cell_type": "code",
   "execution_count": 191,
   "id": "8c782bf0",
   "metadata": {},
   "outputs": [
    {
     "data": {
      "text/latex": [
       "$\\displaystyle \\sigma_n$($^{58}\\rm{Ni}$) : 31.1089 $\\, \\text{mb}$"
      ],
      "text/plain": [
       "<IPython.core.display.Math object>"
      ]
     },
     "metadata": {},
     "output_type": "display_data"
    },
    {
     "data": {
      "text/latex": [
       "$\\displaystyle \\sigma_n$($^{59}\\rm{Ni}$) : 57.3986 $\\, \\text{mb}$"
      ],
      "text/plain": [
       "<IPython.core.display.Math object>"
      ]
     },
     "metadata": {},
     "output_type": "display_data"
    },
    {
     "data": {
      "text/latex": [
       "$\\displaystyle \\sigma_n$($^{60}\\rm{Ni}$) : 24.2894 $\\, \\text{mb}$"
      ],
      "text/plain": [
       "<IPython.core.display.Math object>"
      ]
     },
     "metadata": {},
     "output_type": "display_data"
    },
    {
     "data": {
      "text/latex": [
       "$\\displaystyle \\sigma_n$($^{61}\\rm{Ni}$) : 50.9449 $\\, \\text{mb}$"
      ],
      "text/plain": [
       "<IPython.core.display.Math object>"
      ]
     },
     "metadata": {},
     "output_type": "display_data"
    },
    {
     "data": {
      "text/latex": [
       "$\\displaystyle \\sigma_n$($^{62}\\rm{Ni}$) : 8.5927 $\\, \\text{mb}$"
      ],
      "text/plain": [
       "<IPython.core.display.Math object>"
      ]
     },
     "metadata": {},
     "output_type": "display_data"
    },
    {
     "data": {
      "text/latex": [
       "$\\displaystyle \\sigma_n$($^{63}\\rm{Ni}$) : 16.3540 $\\, \\text{mb}$"
      ],
      "text/plain": [
       "<IPython.core.display.Math object>"
      ]
     },
     "metadata": {},
     "output_type": "display_data"
    },
    {
     "data": {
      "text/latex": [
       "$\\displaystyle \\sigma_n$($^{64}\\rm{Ni}$) : 6.2510 $\\, \\text{mb}$"
      ],
      "text/plain": [
       "<IPython.core.display.Math object>"
      ]
     },
     "metadata": {},
     "output_type": "display_data"
    }
   ],
   "source": [
    "t9 = 0.7\n",
    "\n",
    "sigs_array = get_sigs(net, t9)\n",
    "\n",
    "for i in range(len(sigs_array)):\n",
    "    latex_name = solar_xml.get_latex_names([species[i]])[species[i]]\n",
    "    sig_value = sigs_array[i]\n",
    "\n",
    "    latex_str = f\"$\\sigma_n$({latex_name}) : {sig_value:.4f} $\\, \\\\text{{mb}}$\"\n",
    "\n",
    "    display(Math(latex_str))"
   ]
  },
  {
   "cell_type": "markdown",
   "id": "0b5138ba",
   "metadata": {},
   "source": [
    "## Compute abundances \n",
    "Following the procedure outlined in the previous notebook we can compute the abundances for this network in the neutron burst. First we get the initial abundances of the species taken here as solar via Lodders:"
   ]
  },
  {
   "cell_type": "code",
   "execution_count": 192,
   "id": "a220484a",
   "metadata": {},
   "outputs": [],
   "source": [
    "a, y0 = get_abunds(solar_xml, species)\n",
    "y0_list = []\n",
    "for sp in species:\n",
    "    y0_list.append(y0[sp])\n",
    "y0_array = np.array(y0_list)"
   ]
  },
  {
   "cell_type": "markdown",
   "id": "e645bc11",
   "metadata": {},
   "source": [
    "Now, we compute the abundances after an exposure of $\\tau$. Here $\\tau=0.1$ which appears to be on the low end of exposures in the neutron burst as suggested from supernova multi zone network calculations. For explosion energies greater than 1.2e51 the exposures can get much higher. "
   ]
  },
  {
   "cell_type": "code",
   "execution_count": 216,
   "id": "79132e04",
   "metadata": {},
   "outputs": [],
   "source": [
    "tau = .1\n",
    "Gs = compute_gs(sigs_array, tau, species)\n",
    "abundances = np.dot(Gs, y0_array)"
   ]
  },
  {
   "cell_type": "markdown",
   "id": "8503ca1d",
   "metadata": {},
   "source": [
    "## Analysis \n",
    "Now we can begin our analysis against presolar grain data. First we define a grain data dictionary which includes the mass numbers of the species for plotting, the data, and its error. Here the data is presented as Ratios/Solar or:\n",
    "\\begin{gather}\n",
    "\\frac{\\delta}{1000}+1\n",
    "\\end{gather}"
   ]
  },
  {
   "cell_type": "code",
   "execution_count": 217,
   "id": "9ad9f7d3",
   "metadata": {},
   "outputs": [],
   "source": [
    "grains = [\n",
    "    {'name' : 'grain data',\n",
    "      'a': [60, 61, 62, 63, 64],\n",
    "      'data': [1.44, 9.25, 9.02, 6.58, 22.27],\n",
    "      'error': [.07, .81, .5, .36, 1.29] \n",
    "    }\n",
    "]\n",
    "\n",
    "for g in grains:\n",
    "    assert len(g['a']) == len(g['data']) == len(g['error'])"
   ]
  },
  {
   "cell_type": "markdown",
   "id": "579b4939",
   "metadata": {},
   "source": [
    "To convert our analytic results to the same format as the grain data we select the normalizing species used when measuring the $\\delta$ values and convert the analytic results:"
   ]
  },
  {
   "cell_type": "code",
   "execution_count": 228,
   "id": "69da47e8",
   "metadata": {},
   "outputs": [],
   "source": [
    "normalizing_species = 'ni58'\n",
    "factor = y0[normalizing_species]/abundances[species.index(normalizing_species)]\n",
    "vals = []\n",
    "ayes = []\n",
    "for sp in species:\n",
    "    if y0[sp] != 0:\n",
    "        vals.append(abundances[species.index(sp)]/y0[sp] * factor)\n",
    "        ayes.append(a[species.index(sp)])"
   ]
  },
  {
   "cell_type": "markdown",
   "id": "28d31917",
   "metadata": {},
   "source": [
    "## Changing $\\sigma$\n",
    "\n",
    "Now to analyze how changing the neutron capture cross sections can modify the result one can define a sigma weight array to modify the relevant neutron capture rates. You will have to modify this dictionary to accomodate changes to the network defined at the beginning of the notebook. Here we change the $\\sigma_n$($^{61}$Ni to half of its original value and the $\\sigma_n$($^{63}$Ni to 3x it's original value:"
   ]
  },
  {
   "cell_type": "code",
   "execution_count": 231,
   "id": "a585a16d",
   "metadata": {},
   "outputs": [
    {
     "data": {
      "image/png": "[encoded data removed]",
      "text/plain": [
       "<Figure size 640x480 with 1 Axes>"
      ]
     },
     "metadata": {},
     "output_type": "display_data"
    }
   ],
   "source": [
    "sigs_weight = [1, 1, 1, 1, 1, 3, 1]\n",
    "sigs_mod = []\n",
    "for i in range(len(sigs_weight)):\n",
    "    sigs_mod.append(sigs_array[i]*sigs_weight[i])\n",
    "\n",
    "\n",
    "tau = .1\n",
    "tau_mod = .1\n",
    "Gs = compute_gs(sigs_array, tau, species)\n",
    "abundances = np.dot(Gs, y0_array)\n",
    "\n",
    "Gs_mod = compute_gs(sigs_mod, tau_mod, species)\n",
    "abundances_mod = np.dot(Gs_mod, y0_array)\n",
    "vals_mod = []\n",
    "for sp in species:\n",
    "    if y0[sp] != 0:\n",
    "        vals_mod.append(abundances_mod[species.index(sp)]/y0[sp] * factor)\n",
    "    \n",
    "\n",
    "plt.plot(ayes, vals, '-o', label = r'standard $\\sigma_n$')\n",
    "plt.plot(ayes, vals_mod, '-o', label = fr'modded $\\sigma_n$')\n",
    "#plt.errorbar(grains[0]['a'], grains[0]['data'], yerr = grains[0]['error'], label = 'Grain Data')\n",
    "plt.title(fr'$\\tau$={tau:.2f}')\n",
    "plt.xlabel('A')\n",
    "plt.ylabel('Ratio/Solar')\n",
    "plt.legend()\n",
    "plt.xlim([59.5,64.5])\n",
    "plt.show()"
   ]
  },
  {
   "cell_type": "markdown",
   "id": "efaba276",
   "metadata": {},
   "source": [
    "In the next cell we display the resulting neutron capture cross sections:"
   ]
  },
  {
   "cell_type": "code",
   "execution_count": 197,
   "id": "d332202f",
   "metadata": {},
   "outputs": [
    {
     "data": {
      "text/latex": [
       "$\\displaystyle \\sigma_n$($^{58}\\rm{Ni}$) : 31.1089 $\\, \\text{mb}$"
      ],
      "text/plain": [
       "<IPython.core.display.Math object>"
      ]
     },
     "metadata": {},
     "output_type": "display_data"
    },
    {
     "data": {
      "text/latex": [
       "$\\displaystyle \\sigma_n$($^{59}\\rm{Ni}$) : 57.3986 $\\, \\text{mb}$"
      ],
      "text/plain": [
       "<IPython.core.display.Math object>"
      ]
     },
     "metadata": {},
     "output_type": "display_data"
    },
    {
     "data": {
      "text/latex": [
       "$\\displaystyle \\sigma_n$($^{60}\\rm{Ni}$) : 24.2894 $\\, \\text{mb}$"
      ],
      "text/plain": [
       "<IPython.core.display.Math object>"
      ]
     },
     "metadata": {},
     "output_type": "display_data"
    },
    {
     "data": {
      "text/latex": [
       "$\\displaystyle \\sigma_n$($^{61}\\rm{Ni}$) : 25.4725 $\\, \\text{mb}$"
      ],
      "text/plain": [
       "<IPython.core.display.Math object>"
      ]
     },
     "metadata": {},
     "output_type": "display_data"
    },
    {
     "data": {
      "text/latex": [
       "$\\displaystyle \\sigma_n$($^{62}\\rm{Ni}$) : 8.5927 $\\, \\text{mb}$"
      ],
      "text/plain": [
       "<IPython.core.display.Math object>"
      ]
     },
     "metadata": {},
     "output_type": "display_data"
    },
    {
     "data": {
      "text/latex": [
       "$\\displaystyle \\sigma_n$($^{63}\\rm{Ni}$) : 49.0620 $\\, \\text{mb}$"
      ],
      "text/plain": [
       "<IPython.core.display.Math object>"
      ]
     },
     "metadata": {},
     "output_type": "display_data"
    },
    {
     "data": {
      "text/latex": [
       "$\\displaystyle \\sigma_n$($^{64}\\rm{Ni}$) : 6.2510 $\\, \\text{mb}$"
      ],
      "text/plain": [
       "<IPython.core.display.Math object>"
      ]
     },
     "metadata": {},
     "output_type": "display_data"
    }
   ],
   "source": [
    "for i in range(len(sigs_array)):\n",
    "    latex_name = solar_xml.get_latex_names([species[i]])[species[i]]\n",
    "    sig_value = sigs_mod[i]\n",
    "\n",
    "    latex_str = f\"$\\sigma_n$({latex_name}) : {sig_value:.4f} $\\, \\\\text{{mb}}$\"\n",
    "\n",
    "    display(Math(latex_str))"
   ]
  },
  {
   "cell_type": "markdown",
   "id": "0bf7e282",
   "metadata": {},
   "source": [
    "## Changing composition\n",
    "One can also see the effect of changing the initial composition. Here we define a y0_mods array. The elements of this array will be added to the initial solar abundances:"
   ]
  },
  {
   "cell_type": "code",
   "execution_count": 198,
   "id": "172cacb6",
   "metadata": {},
   "outputs": [
    {
     "data": {
      "image/png": "[encoded data removed]",
      "text/plain": [
       "<Figure size 640x480 with 1 Axes>"
      ]
     },
     "metadata": {},
     "output_type": "display_data"
    }
   ],
   "source": [
    "y0_mods = [0, 1e-7, 0, 0, 0, 1e-7, 0]\n",
    "y0_mod = []\n",
    "for i in range(len(y0_array)):\n",
    "    y0_mod.append(y0_array[i]+y0_mods[i])\n",
    "\n",
    "Gs_mod = compute_gs(sigs_array, tau_mod, species)\n",
    "abundances_mod = np.dot(Gs_mod, y0_mod)\n",
    "vals_mod = []\n",
    "for i in range(len(y0_array)):\n",
    "    if y0_mod[i] != 0:\n",
    "        vals_mod.append(abundances_mod[i]/y0_mod[i] * factor)\n",
    "        \n",
    "        \n",
    "plt.plot(ayes, vals, '-o', label = r'solar y0')\n",
    "plt.plot(a, vals_mod, '-o', label = fr'modded y0')\n",
    "#plt.errorbar(grains[0]['a'], grains[0]['data'], yerr = grains[0]['error'], label = 'Grain Data')\n",
    "plt.title(fr'$\\tau$={tau:.2f}')\n",
    "plt.xlabel('A')\n",
    "plt.ylabel('Ratio/Solar')\n",
    "plt.legend()\n",
    "plt.show()"
   ]
  },
  {
   "cell_type": "markdown",
   "id": "d1ff12b3",
   "metadata": {},
   "source": [
    "## Modifying both composition and $\\sigma$"
   ]
  },
  {
   "cell_type": "code",
   "execution_count": 147,
   "id": "cf0e0897",
   "metadata": {},
   "outputs": [
    {
     "data": {
      "text/plain": [
       "array([4.240624366221268e-08, 4.758305825028319e-08,\n",
       "       3.027899972117414e-07, 1.7697672648984296e-07,\n",
       "       6.47979890787976e-07, 2.0074087775684592e-07,\n",
       "       1.5614640200350182e-07], dtype=object)"
      ]
     },
     "execution_count": 147,
     "metadata": {},
     "output_type": "execute_result"
    }
   ],
   "source": [
    "sigs_weight = [1, 1, 1, .5, 1, 3, .5]\n",
    "sigs_mod = []\n",
    "for i in range(len(sigs_weight)):\n",
    "    sigs_mod.append(sigs_array[i]*sigs_weight[i])\n",
    "    \n",
    "y0_mods = [0, 1e-7, 0, 0, 0, 1e-7, 0]\n",
    "y0_mod = []\n",
    "for i in range(len(y0_array)):\n",
    "    y0_mod.append(y0_array[i]+y0_mods[i])\n",
    "    \n"
   ]
  },
  {
   "cell_type": "code",
   "execution_count": null,
   "id": "23134ab9",
   "metadata": {},
   "outputs": [],
   "source": []
  }
 ],
 "metadata": {
  "kernelspec": {
   "display_name": "venv",
   "language": "python",
   "name": "venv"
  },
  "language_info": {
   "codemirror_mode": {
    "name": "ipython",
    "version": 3
   },
   "file_extension": ".py",
   "mimetype": "text/x-python",
   "name": "python",
   "nbconvert_exporter": "python",
   "pygments_lexer": "ipython3",
   "version": "3.9.1"
  }
 },
 "nbformat": 4,
 "nbformat_minor": 5
}
